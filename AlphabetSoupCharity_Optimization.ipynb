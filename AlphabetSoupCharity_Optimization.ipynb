{
 "cells": [
  {
   "cell_type": "markdown",
   "metadata": {},
   "source": [
    "### Deliverable 3: Optimize the Model"
   ]
  },
  {
   "cell_type": "code",
   "execution_count": null,
   "metadata": {},
   "outputs": [],
   "source": [
    "# Import dependencies and charity_data.csv. \n",
    "# Then, repeat data preprocessing steps before optimizing model metrics."
   ]
  },
  {
   "cell_type": "code",
   "execution_count": 2,
   "metadata": {},
   "outputs": [
    {
     "data": {
      "text/html": [
       "<div>\n",
       "<style scoped>\n",
       "    .dataframe tbody tr th:only-of-type {\n",
       "        vertical-align: middle;\n",
       "    }\n",
       "\n",
       "    .dataframe tbody tr th {\n",
       "        vertical-align: top;\n",
       "    }\n",
       "\n",
       "    .dataframe thead th {\n",
       "        text-align: right;\n",
       "    }\n",
       "</style>\n",
       "<table border=\"1\" class=\"dataframe\">\n",
       "  <thead>\n",
       "    <tr style=\"text-align: right;\">\n",
       "      <th></th>\n",
       "      <th>EIN</th>\n",
       "      <th>NAME</th>\n",
       "      <th>APPLICATION_TYPE</th>\n",
       "      <th>AFFILIATION</th>\n",
       "      <th>CLASSIFICATION</th>\n",
       "      <th>USE_CASE</th>\n",
       "      <th>ORGANIZATION</th>\n",
       "      <th>STATUS</th>\n",
       "      <th>INCOME_AMT</th>\n",
       "      <th>SPECIAL_CONSIDERATIONS</th>\n",
       "      <th>ASK_AMT</th>\n",
       "      <th>IS_SUCCESSFUL</th>\n",
       "    </tr>\n",
       "  </thead>\n",
       "  <tbody>\n",
       "    <tr>\n",
       "      <th>0</th>\n",
       "      <td>10520599</td>\n",
       "      <td>BLUE KNIGHTS MOTORCYCLE CLUB</td>\n",
       "      <td>T10</td>\n",
       "      <td>Independent</td>\n",
       "      <td>C1000</td>\n",
       "      <td>ProductDev</td>\n",
       "      <td>Association</td>\n",
       "      <td>1</td>\n",
       "      <td>0</td>\n",
       "      <td>N</td>\n",
       "      <td>5000</td>\n",
       "      <td>1</td>\n",
       "    </tr>\n",
       "    <tr>\n",
       "      <th>1</th>\n",
       "      <td>10531628</td>\n",
       "      <td>AMERICAN CHESAPEAKE CLUB CHARITABLE TR</td>\n",
       "      <td>T3</td>\n",
       "      <td>Independent</td>\n",
       "      <td>C2000</td>\n",
       "      <td>Preservation</td>\n",
       "      <td>Co-operative</td>\n",
       "      <td>1</td>\n",
       "      <td>1-9999</td>\n",
       "      <td>N</td>\n",
       "      <td>108590</td>\n",
       "      <td>1</td>\n",
       "    </tr>\n",
       "    <tr>\n",
       "      <th>2</th>\n",
       "      <td>10547893</td>\n",
       "      <td>ST CLOUD PROFESSIONAL FIREFIGHTERS</td>\n",
       "      <td>T5</td>\n",
       "      <td>CompanySponsored</td>\n",
       "      <td>C3000</td>\n",
       "      <td>ProductDev</td>\n",
       "      <td>Association</td>\n",
       "      <td>1</td>\n",
       "      <td>0</td>\n",
       "      <td>N</td>\n",
       "      <td>5000</td>\n",
       "      <td>0</td>\n",
       "    </tr>\n",
       "    <tr>\n",
       "      <th>3</th>\n",
       "      <td>10553066</td>\n",
       "      <td>SOUTHSIDE ATHLETIC ASSOCIATION</td>\n",
       "      <td>T3</td>\n",
       "      <td>CompanySponsored</td>\n",
       "      <td>C2000</td>\n",
       "      <td>Preservation</td>\n",
       "      <td>Trust</td>\n",
       "      <td>1</td>\n",
       "      <td>10000-24999</td>\n",
       "      <td>N</td>\n",
       "      <td>6692</td>\n",
       "      <td>1</td>\n",
       "    </tr>\n",
       "    <tr>\n",
       "      <th>4</th>\n",
       "      <td>10556103</td>\n",
       "      <td>GENETIC RESEARCH INSTITUTE OF THE DESERT</td>\n",
       "      <td>T3</td>\n",
       "      <td>Independent</td>\n",
       "      <td>C1000</td>\n",
       "      <td>Heathcare</td>\n",
       "      <td>Trust</td>\n",
       "      <td>1</td>\n",
       "      <td>100000-499999</td>\n",
       "      <td>N</td>\n",
       "      <td>142590</td>\n",
       "      <td>1</td>\n",
       "    </tr>\n",
       "  </tbody>\n",
       "</table>\n",
       "</div>"
      ],
      "text/plain": [
       "        EIN                                      NAME APPLICATION_TYPE  \\\n",
       "0  10520599              BLUE KNIGHTS MOTORCYCLE CLUB              T10   \n",
       "1  10531628    AMERICAN CHESAPEAKE CLUB CHARITABLE TR               T3   \n",
       "2  10547893        ST CLOUD PROFESSIONAL FIREFIGHTERS               T5   \n",
       "3  10553066            SOUTHSIDE ATHLETIC ASSOCIATION               T3   \n",
       "4  10556103  GENETIC RESEARCH INSTITUTE OF THE DESERT               T3   \n",
       "\n",
       "        AFFILIATION CLASSIFICATION      USE_CASE  ORGANIZATION  STATUS  \\\n",
       "0       Independent          C1000    ProductDev   Association       1   \n",
       "1       Independent          C2000  Preservation  Co-operative       1   \n",
       "2  CompanySponsored          C3000    ProductDev   Association       1   \n",
       "3  CompanySponsored          C2000  Preservation         Trust       1   \n",
       "4       Independent          C1000     Heathcare         Trust       1   \n",
       "\n",
       "      INCOME_AMT SPECIAL_CONSIDERATIONS  ASK_AMT  IS_SUCCESSFUL  \n",
       "0              0                      N     5000              1  \n",
       "1         1-9999                      N   108590              1  \n",
       "2              0                      N     5000              0  \n",
       "3    10000-24999                      N     6692              1  \n",
       "4  100000-499999                      N   142590              1  "
      ]
     },
     "execution_count": 2,
     "metadata": {},
     "output_type": "execute_result"
    }
   ],
   "source": [
    "# Import our dependencies\n",
    "from sklearn.model_selection import train_test_split\n",
    "from sklearn.preprocessing import StandardScaler,OneHotEncoder\n",
    "import pandas as pd\n",
    "import tensorflow as tf\n",
    "\n",
    "#  Import and read the charity_data.csv.\n",
    "application_df = pd.read_csv(\"Resources/charity_data.csv\")\n",
    "application_df.head()"
   ]
  },
  {
   "cell_type": "code",
   "execution_count": 3,
   "metadata": {},
   "outputs": [
    {
     "data": {
      "text/plain": [
       "Index(['NAME', 'APPLICATION_TYPE', 'AFFILIATION', 'CLASSIFICATION', 'USE_CASE',\n",
       "       'ORGANIZATION', 'STATUS', 'INCOME_AMT', 'SPECIAL_CONSIDERATIONS',\n",
       "       'ASK_AMT', 'IS_SUCCESSFUL'],\n",
       "      dtype='object')"
      ]
     },
     "execution_count": 3,
     "metadata": {},
     "output_type": "execute_result"
    }
   ],
   "source": [
    "# Drop the non-beneficial ID columns, 'EIN' and 'NAME'.\n",
    "# Try reintroducing the 'NAME' columns by removing it from the drop function.\n",
    "application_df.drop('EIN', axis=1, inplace=True)\n",
    "application_df.columns"
   ]
  },
  {
   "cell_type": "code",
   "execution_count": 4,
   "metadata": {},
   "outputs": [
    {
     "data": {
      "text/plain": [
       "NAME                      19568\n",
       "APPLICATION_TYPE             17\n",
       "AFFILIATION                   6\n",
       "CLASSIFICATION               71\n",
       "USE_CASE                      5\n",
       "ORGANIZATION                  4\n",
       "STATUS                        2\n",
       "INCOME_AMT                    9\n",
       "SPECIAL_CONSIDERATIONS        2\n",
       "ASK_AMT                    8747\n",
       "IS_SUCCESSFUL                 2\n",
       "dtype: int64"
      ]
     },
     "execution_count": 4,
     "metadata": {},
     "output_type": "execute_result"
    }
   ],
   "source": [
    "# Determine the number of unique values in each column.\n",
    "application_df.nunique()"
   ]
  },
  {
   "cell_type": "code",
   "execution_count": 5,
   "metadata": {},
   "outputs": [
    {
     "data": {
      "text/plain": [
       "PARENT BOOSTER USA INC                                                  1260\n",
       "TOPS CLUB INC                                                            765\n",
       "UNITED STATES BOWLING CONGRESS INC                                       700\n",
       "WASHINGTON STATE UNIVERSITY                                              492\n",
       "AMATEUR ATHLETIC UNION OF THE UNITED STATES INC                          408\n",
       "                                                                        ... \n",
       "ST LOUIS SLAM WOMENS FOOTBALL                                              1\n",
       "AIESEC ALUMNI IBEROAMERICA CORP                                            1\n",
       "WEALLBLEEDRED ORG INC                                                      1\n",
       "AMERICAN SOCIETY FOR STANDARDS IN MEDIUMSHIP & PSYCHICAL INVESTIGATI       1\n",
       "WATERHOUSE CHARITABLE TR                                                   1\n",
       "Name: NAME, Length: 19568, dtype: int64"
      ]
     },
     "execution_count": 5,
     "metadata": {},
     "output_type": "execute_result"
    }
   ],
   "source": [
    "# Investigate how many times each organization applied by NAME value_counts\n",
    "name_counts = application_df['NAME'].value_counts()\n",
    "name_counts"
   ]
  },
  {
   "cell_type": "code",
   "execution_count": 6,
   "metadata": {},
   "outputs": [
    {
     "data": {
      "text/plain": [
       "<AxesSubplot: ylabel='Density'>"
      ]
     },
     "execution_count": 6,
     "metadata": {},
     "output_type": "execute_result"
    },
    {
     "data": {
      "image/png": "[encoded data removed]",
      "text/plain": [
       "<Figure size 640x480 with 1 Axes>"
      ]
     },
     "metadata": {},
     "output_type": "display_data"
    }
   ],
   "source": [
    "# Visualize the value counts of NAME\n",
    "name_counts.plot.density()"
   ]
  },
  {
   "cell_type": "code",
   "execution_count": 7,
   "metadata": {},
   "outputs": [
    {
     "data": {
      "text/plain": [
       "Other                                                                 18776\n",
       "PARENT BOOSTER USA INC                                                 1260\n",
       "TOPS CLUB INC                                                           765\n",
       "UNITED STATES BOWLING CONGRESS INC                                      700\n",
       "WASHINGTON STATE UNIVERSITY                                             492\n",
       "                                                                      ...  \n",
       "WASHINGTON EXPLORER SEARCH AND RESCUE                                     2\n",
       "INTERNATIONAL ALLIANCE THEATRICAL STAGE EMPLOYEES & MOVING PICTURE        2\n",
       "BIRTH NETWORK                                                             2\n",
       "NATIONAL ASSOCIATON OF CORPORATE DIRECTORS                                2\n",
       "NATIONAL SOCIETY COLONIAL DAMES XVII CENTURY                              2\n",
       "Name: NAME, Length: 793, dtype: int64"
      ]
     },
     "execution_count": 7,
     "metadata": {},
     "output_type": "execute_result"
    }
   ],
   "source": [
    "# Determine which values to replace if counts are less than 2\n",
    "# All names that didn't apply more than once will be binned in 'Other'\n",
    "replace_name = list(name_counts[name_counts < 2].index)\n",
    "\n",
    "# Replace in dataframe\n",
    "for name in replace_name:\n",
    "    application_df.NAME = application_df.NAME.replace(name,\"Other\")\n",
    "    \n",
    "# Check to make sure binning was successful\n",
    "application_df.NAME.value_counts()"
   ]
  },
  {
   "cell_type": "code",
   "execution_count": 8,
   "metadata": {},
   "outputs": [
    {
     "data": {
      "text/plain": [
       "N    34272\n",
       "Y       27\n",
       "Name: SPECIAL_CONSIDERATIONS, dtype: int64"
      ]
     },
     "execution_count": 8,
     "metadata": {},
     "output_type": "execute_result"
    }
   ],
   "source": [
    "# Investigate potential class imbalance in SPECIAL_CONSIDERATIONS column value counts\n",
    "application_df['SPECIAL_CONSIDERATIONS'].value_counts()"
   ]
  },
  {
   "cell_type": "code",
   "execution_count": 9,
   "metadata": {},
   "outputs": [
    {
     "data": {
      "text/plain": [
       "Index(['NAME', 'APPLICATION_TYPE', 'AFFILIATION', 'CLASSIFICATION', 'USE_CASE',\n",
       "       'ORGANIZATION', 'STATUS', 'INCOME_AMT', 'ASK_AMT', 'IS_SUCCESSFUL'],\n",
       "      dtype='object')"
      ]
     },
     "execution_count": 9,
     "metadata": {},
     "output_type": "execute_result"
    }
   ],
   "source": [
    "# Drop SPECIAL_CONSIDERATIONS column\n",
    "application_df.drop('SPECIAL_CONSIDERATIONS', axis=1, inplace=True)\n",
    "application_df.columns"
   ]
  },
  {
   "cell_type": "code",
   "execution_count": 10,
   "metadata": {},
   "outputs": [
    {
     "data": {
      "text/plain": [
       "Independent         18480\n",
       "CompanySponsored    15705\n",
       "Family/Parent          64\n",
       "National               33\n",
       "Regional               13\n",
       "Other                   4\n",
       "Name: AFFILIATION, dtype: int64"
      ]
     },
     "execution_count": 10,
     "metadata": {},
     "output_type": "execute_result"
    }
   ],
   "source": [
    "# Investigate AFFILIATION column value counts\n",
    "affiliation_counts = application_df['AFFILIATION'].value_counts()\n",
    "affiliation_counts"
   ]
  },
  {
   "cell_type": "code",
   "execution_count": 11,
   "metadata": {},
   "outputs": [
    {
     "data": {
      "text/plain": [
       "<AxesSubplot: ylabel='Density'>"
      ]
     },
     "execution_count": 11,
     "metadata": {},
     "output_type": "execute_result"
    },
    {
     "data": {
      "image/png": "[encoded data removed]",
      "text/plain": [
       "<Figure size 640x480 with 1 Axes>"
      ]
     },
     "metadata": {},
     "output_type": "display_data"
    }
   ],
   "source": [
    "# Visualize the value counts of AFFILIATION\n",
    "affiliation_counts.plot.density()"
   ]
  },
  {
   "cell_type": "code",
   "execution_count": 12,
   "metadata": {},
   "outputs": [
    {
     "data": {
      "text/plain": [
       "Independent         18480\n",
       "CompanySponsored    15705\n",
       "Other                 114\n",
       "Name: AFFILIATION, dtype: int64"
      ]
     },
     "execution_count": 12,
     "metadata": {},
     "output_type": "execute_result"
    }
   ],
   "source": [
    "# Determine which values to replace if counts are less than 5000\n",
    "replace_affiliation = list(affiliation_counts[affiliation_counts < 5000].index)\n",
    "\n",
    "# Replace in dataframe\n",
    "for affiliation in replace_affiliation:\n",
    "    application_df.AFFILIATION = application_df.AFFILIATION.replace(affiliation,\"Other\")\n",
    "    \n",
    "# Check to make sure binning was successful\n",
    "application_df.AFFILIATION.value_counts()"
   ]
  },
  {
   "cell_type": "code",
   "execution_count": 13,
   "metadata": {},
   "outputs": [
    {
     "data": {
      "text/plain": [
       "Preservation     28095\n",
       "ProductDev        5671\n",
       "CommunityServ      384\n",
       "Heathcare          146\n",
       "Other                3\n",
       "Name: USE_CASE, dtype: int64"
      ]
     },
     "execution_count": 13,
     "metadata": {},
     "output_type": "execute_result"
    }
   ],
   "source": [
    "# Investigate USE CASE column value counts\n",
    "use_case_counts = application_df['USE_CASE'].value_counts()\n",
    "use_case_counts"
   ]
  },
  {
   "cell_type": "code",
   "execution_count": 14,
   "metadata": {},
   "outputs": [
    {
     "data": {
      "text/plain": [
       "<AxesSubplot: ylabel='Density'>"
      ]
     },
     "execution_count": 14,
     "metadata": {},
     "output_type": "execute_result"
    },
    {
     "data": {
      "image/png": "[encoded data removed]",
      "text/plain": [
       "<Figure size 640x480 with 1 Axes>"
      ]
     },
     "metadata": {},
     "output_type": "display_data"
    }
   ],
   "source": [
    "# Visualize the value counts of USE_CASE\n",
    "use_case_counts.plot.density()"
   ]
  },
  {
   "cell_type": "code",
   "execution_count": 15,
   "metadata": {},
   "outputs": [
    {
     "data": {
      "text/plain": [
       "Preservation    28095\n",
       "ProductDev       5671\n",
       "Other             533\n",
       "Name: USE_CASE, dtype: int64"
      ]
     },
     "execution_count": 15,
     "metadata": {},
     "output_type": "execute_result"
    }
   ],
   "source": [
    "# Determine which values to replace if counts are less than 5000\n",
    "replace_use_case = list(use_case_counts[use_case_counts < 5000].index)\n",
    "\n",
    "# Replace in dataframe\n",
    "for use_case in replace_use_case:\n",
    "    application_df.USE_CASE = application_df.USE_CASE.replace(use_case,\"Other\")\n",
    "    \n",
    "# Check to make sure binning was successful\n",
    "application_df.USE_CASE.value_counts()"
   ]
  },
  {
   "cell_type": "code",
   "execution_count": 16,
   "metadata": {},
   "outputs": [
    {
     "data": {
      "text/plain": [
       "Trust           23515\n",
       "Association     10255\n",
       "Co-operative      486\n",
       "Corporation        43\n",
       "Name: ORGANIZATION, dtype: int64"
      ]
     },
     "execution_count": 16,
     "metadata": {},
     "output_type": "execute_result"
    }
   ],
   "source": [
    "# Investigate ORGANIZATION column value counts\n",
    "organization_counts = application_df['ORGANIZATION'].value_counts()\n",
    "organization_counts"
   ]
  },
  {
   "cell_type": "code",
   "execution_count": 17,
   "metadata": {},
   "outputs": [
    {
     "data": {
      "text/plain": [
       "<AxesSubplot: ylabel='Density'>"
      ]
     },
     "execution_count": 17,
     "metadata": {},
     "output_type": "execute_result"
    },
    {
     "data": {
      "image/png": "[encoded data removed]",
      "text/plain": [
       "<Figure size 640x480 with 1 Axes>"
      ]
     },
     "metadata": {},
     "output_type": "display_data"
    }
   ],
   "source": [
    "# Visualize the value counts of ORGANIZATION\n",
    "organization_counts.plot.density()"
   ]
  },
  {
   "cell_type": "code",
   "execution_count": 18,
   "metadata": {},
   "outputs": [
    {
     "data": {
      "text/plain": [
       "Trust          23515\n",
       "Association    10255\n",
       "Other            529\n",
       "Name: ORGANIZATION, dtype: int64"
      ]
     },
     "execution_count": 18,
     "metadata": {},
     "output_type": "execute_result"
    }
   ],
   "source": [
    "# Determine which values to replace if counts are less than 5000\n",
    "replace_organization = list(organization_counts[organization_counts < 5000].index)\n",
    "\n",
    "# Replace in dataframe\n",
    "for organization in replace_organization:\n",
    "    application_df.ORGANIZATION = application_df.ORGANIZATION.replace(organization,\"Other\")\n",
    "    \n",
    "# Check to make sure binning was successful\n",
    "application_df.ORGANIZATION.value_counts()"
   ]
  },
  {
   "cell_type": "code",
   "execution_count": 19,
   "metadata": {},
   "outputs": [
    {
     "data": {
      "text/plain": [
       "1    34294\n",
       "0        5\n",
       "Name: STATUS, dtype: int64"
      ]
     },
     "execution_count": 19,
     "metadata": {},
     "output_type": "execute_result"
    }
   ],
   "source": [
    "# Investigate potential class imbalance in STATUS column value counts\n",
    "application_df['STATUS'].value_counts()"
   ]
  },
  {
   "cell_type": "code",
   "execution_count": 20,
   "metadata": {},
   "outputs": [
    {
     "data": {
      "text/plain": [
       "Index(['NAME', 'APPLICATION_TYPE', 'AFFILIATION', 'CLASSIFICATION', 'USE_CASE',\n",
       "       'ORGANIZATION', 'INCOME_AMT', 'ASK_AMT', 'IS_SUCCESSFUL'],\n",
       "      dtype='object')"
      ]
     },
     "execution_count": 20,
     "metadata": {},
     "output_type": "execute_result"
    }
   ],
   "source": [
    "# Drop STATUS column\n",
    "application_df.drop('STATUS', axis=1, inplace=True)\n",
    "application_df.columns"
   ]
  },
  {
   "cell_type": "code",
   "execution_count": 21,
   "metadata": {},
   "outputs": [
    {
     "data": {
      "text/plain": [
       "T3     27037\n",
       "T4      1542\n",
       "T6      1216\n",
       "T5      1173\n",
       "T19     1065\n",
       "T8       737\n",
       "T7       725\n",
       "T10      528\n",
       "T9       156\n",
       "T13       66\n",
       "T12       27\n",
       "T2        16\n",
       "T25        3\n",
       "T14        3\n",
       "T29        2\n",
       "T15        2\n",
       "T17        1\n",
       "Name: APPLICATION_TYPE, dtype: int64"
      ]
     },
     "execution_count": 21,
     "metadata": {},
     "output_type": "execute_result"
    }
   ],
   "source": [
    "# Look at APPLICATION_TYPE value counts for binning\n",
    "app_type_counts = application_df['APPLICATION_TYPE'].value_counts()\n",
    "app_type_counts"
   ]
  },
  {
   "cell_type": "code",
   "execution_count": 22,
   "metadata": {},
   "outputs": [
    {
     "data": {
      "text/plain": [
       "<AxesSubplot: ylabel='Density'>"
      ]
     },
     "execution_count": 22,
     "metadata": {},
     "output_type": "execute_result"
    },
    {
     "data": {
      "image/png": "[encoded data removed]",
      "text/plain": [
       "<Figure size 640x480 with 1 Axes>"
      ]
     },
     "metadata": {},
     "output_type": "display_data"
    }
   ],
   "source": [
    "# Visualize the value counts of APPLICATION_TYPE\n",
    "app_type_counts.plot.density()"
   ]
  },
  {
   "cell_type": "code",
   "execution_count": 23,
   "metadata": {},
   "outputs": [
    {
     "data": {
      "text/plain": [
       "T3       27037\n",
       "T4        1542\n",
       "T6        1216\n",
       "T5        1173\n",
       "T19       1065\n",
       "T8         737\n",
       "T7         725\n",
       "T10        528\n",
       "Other      276\n",
       "Name: APPLICATION_TYPE, dtype: int64"
      ]
     },
     "execution_count": 23,
     "metadata": {},
     "output_type": "execute_result"
    }
   ],
   "source": [
    "# Determine which values to replace if counts are less than 500\n",
    "replace_application = list(app_type_counts[app_type_counts < 500].index)\n",
    "\n",
    "# Replace in dataframe\n",
    "for app in replace_application:\n",
    "    application_df.APPLICATION_TYPE = application_df.APPLICATION_TYPE.replace(app,\"Other\")\n",
    "    \n",
    "# Check to make sure binning was successful\n",
    "application_df.APPLICATION_TYPE.value_counts()"
   ]
  },
  {
   "cell_type": "code",
   "execution_count": 24,
   "metadata": {},
   "outputs": [
    {
     "data": {
      "text/plain": [
       "C1000    17326\n",
       "C2000     6074\n",
       "C1200     4837\n",
       "C3000     1918\n",
       "C2100     1883\n",
       "         ...  \n",
       "C4120        1\n",
       "C8210        1\n",
       "C2561        1\n",
       "C4500        1\n",
       "C2150        1\n",
       "Name: CLASSIFICATION, Length: 71, dtype: int64"
      ]
     },
     "execution_count": 24,
     "metadata": {},
     "output_type": "execute_result"
    }
   ],
   "source": [
    "# Look at CLASSIFICATION value counts for binning\n",
    "classification_counts = application_df['CLASSIFICATION'].value_counts()\n",
    "classification_counts"
   ]
  },
  {
   "cell_type": "code",
   "execution_count": 25,
   "metadata": {},
   "outputs": [
    {
     "data": {
      "text/plain": [
       "<AxesSubplot: ylabel='Density'>"
      ]
     },
     "execution_count": 25,
     "metadata": {},
     "output_type": "execute_result"
    },
    {
     "data": {
      "image/png": "[encoded data removed]",
      "text/plain": [
       "<Figure size 640x480 with 1 Axes>"
      ]
     },
     "metadata": {},
     "output_type": "display_data"
    }
   ],
   "source": [
    "# Visualize the value counts of CLASSIFICATION\n",
    "classification_counts.plot.density()"
   ]
  },
  {
   "cell_type": "code",
   "execution_count": 26,
   "metadata": {},
   "outputs": [
    {
     "data": {
      "text/plain": [
       "C1000    17326\n",
       "C2000     6074\n",
       "C1200     4837\n",
       "Other     2261\n",
       "C3000     1918\n",
       "C2100     1883\n",
       "Name: CLASSIFICATION, dtype: int64"
      ]
     },
     "execution_count": 26,
     "metadata": {},
     "output_type": "execute_result"
    }
   ],
   "source": [
    "# Determine which values to replace if counts are less than ..?\n",
    "replace_class = list(classification_counts[classification_counts < 1500].index)\n",
    "\n",
    "# Replace in dataframe\n",
    "for cls in replace_class:\n",
    "    application_df.CLASSIFICATION = application_df.CLASSIFICATION.replace(cls,\"Other\")\n",
    "    \n",
    "# Check to make sure binning was successful\n",
    "application_df.CLASSIFICATION.value_counts()"
   ]
  },
  {
   "cell_type": "code",
   "execution_count": 27,
   "metadata": {},
   "outputs": [
    {
     "data": {
      "text/plain": [
       "['NAME',\n",
       " 'APPLICATION_TYPE',\n",
       " 'AFFILIATION',\n",
       " 'CLASSIFICATION',\n",
       " 'USE_CASE',\n",
       " 'ORGANIZATION',\n",
       " 'INCOME_AMT']"
      ]
     },
     "execution_count": 27,
     "metadata": {},
     "output_type": "execute_result"
    }
   ],
   "source": [
    "# Generate our categorical variable lists\n",
    "application_cat = application_df.dtypes[application_df.dtypes == \"object\"].index.tolist()\n",
    "application_cat"
   ]
  },
  {
   "cell_type": "code",
   "execution_count": 28,
   "metadata": {},
   "outputs": [
    {
     "data": {
      "text/html": [
       "<div>\n",
       "<style scoped>\n",
       "    .dataframe tbody tr th:only-of-type {\n",
       "        vertical-align: middle;\n",
       "    }\n",
       "\n",
       "    .dataframe tbody tr th {\n",
       "        vertical-align: top;\n",
       "    }\n",
       "\n",
       "    .dataframe thead th {\n",
       "        text-align: right;\n",
       "    }\n",
       "</style>\n",
       "<table border=\"1\" class=\"dataframe\">\n",
       "  <thead>\n",
       "    <tr style=\"text-align: right;\">\n",
       "      <th></th>\n",
       "      <th>NAME_4-H CLUBS &amp; AFFILIATED 4-H ORGANIZATIONS</th>\n",
       "      <th>NAME_AACE INTERNATIONAL</th>\n",
       "      <th>NAME_ACADEMY OF GENERAL DENTISTRY</th>\n",
       "      <th>NAME_ACADEMY OF MANAGED CARE PHARMACY</th>\n",
       "      <th>NAME_ACE MENTOR PROGRAM OF AMERICA INC</th>\n",
       "      <th>NAME_ACTIVE 20-30 UNITED STATES AND CANADA</th>\n",
       "      <th>NAME_ACTS MINISTRY</th>\n",
       "      <th>NAME_ACTS MISSIONS</th>\n",
       "      <th>NAME_AFRICAN-AMERICAN POSTAL LEAGUE UNITED FOR SUCCESS A-PLUS</th>\n",
       "      <th>NAME_AGENTS ASSOCIATION</th>\n",
       "      <th>...</th>\n",
       "      <th>ORGANIZATION_Trust</th>\n",
       "      <th>INCOME_AMT_0</th>\n",
       "      <th>INCOME_AMT_1-9999</th>\n",
       "      <th>INCOME_AMT_10000-24999</th>\n",
       "      <th>INCOME_AMT_100000-499999</th>\n",
       "      <th>INCOME_AMT_10M-50M</th>\n",
       "      <th>INCOME_AMT_1M-5M</th>\n",
       "      <th>INCOME_AMT_25000-99999</th>\n",
       "      <th>INCOME_AMT_50M+</th>\n",
       "      <th>INCOME_AMT_5M-10M</th>\n",
       "    </tr>\n",
       "  </thead>\n",
       "  <tbody>\n",
       "    <tr>\n",
       "      <th>0</th>\n",
       "      <td>0.0</td>\n",
       "      <td>0.0</td>\n",
       "      <td>0.0</td>\n",
       "      <td>0.0</td>\n",
       "      <td>0.0</td>\n",
       "      <td>0.0</td>\n",
       "      <td>0.0</td>\n",
       "      <td>0.0</td>\n",
       "      <td>0.0</td>\n",
       "      <td>0.0</td>\n",
       "      <td>...</td>\n",
       "      <td>0.0</td>\n",
       "      <td>1.0</td>\n",
       "      <td>0.0</td>\n",
       "      <td>0.0</td>\n",
       "      <td>0.0</td>\n",
       "      <td>0.0</td>\n",
       "      <td>0.0</td>\n",
       "      <td>0.0</td>\n",
       "      <td>0.0</td>\n",
       "      <td>0.0</td>\n",
       "    </tr>\n",
       "    <tr>\n",
       "      <th>1</th>\n",
       "      <td>0.0</td>\n",
       "      <td>0.0</td>\n",
       "      <td>0.0</td>\n",
       "      <td>0.0</td>\n",
       "      <td>0.0</td>\n",
       "      <td>0.0</td>\n",
       "      <td>0.0</td>\n",
       "      <td>0.0</td>\n",
       "      <td>0.0</td>\n",
       "      <td>0.0</td>\n",
       "      <td>...</td>\n",
       "      <td>0.0</td>\n",
       "      <td>0.0</td>\n",
       "      <td>1.0</td>\n",
       "      <td>0.0</td>\n",
       "      <td>0.0</td>\n",
       "      <td>0.0</td>\n",
       "      <td>0.0</td>\n",
       "      <td>0.0</td>\n",
       "      <td>0.0</td>\n",
       "      <td>0.0</td>\n",
       "    </tr>\n",
       "    <tr>\n",
       "      <th>2</th>\n",
       "      <td>0.0</td>\n",
       "      <td>0.0</td>\n",
       "      <td>0.0</td>\n",
       "      <td>0.0</td>\n",
       "      <td>0.0</td>\n",
       "      <td>0.0</td>\n",
       "      <td>0.0</td>\n",
       "      <td>0.0</td>\n",
       "      <td>0.0</td>\n",
       "      <td>0.0</td>\n",
       "      <td>...</td>\n",
       "      <td>0.0</td>\n",
       "      <td>1.0</td>\n",
       "      <td>0.0</td>\n",
       "      <td>0.0</td>\n",
       "      <td>0.0</td>\n",
       "      <td>0.0</td>\n",
       "      <td>0.0</td>\n",
       "      <td>0.0</td>\n",
       "      <td>0.0</td>\n",
       "      <td>0.0</td>\n",
       "    </tr>\n",
       "    <tr>\n",
       "      <th>3</th>\n",
       "      <td>0.0</td>\n",
       "      <td>0.0</td>\n",
       "      <td>0.0</td>\n",
       "      <td>0.0</td>\n",
       "      <td>0.0</td>\n",
       "      <td>0.0</td>\n",
       "      <td>0.0</td>\n",
       "      <td>0.0</td>\n",
       "      <td>0.0</td>\n",
       "      <td>0.0</td>\n",
       "      <td>...</td>\n",
       "      <td>1.0</td>\n",
       "      <td>0.0</td>\n",
       "      <td>0.0</td>\n",
       "      <td>1.0</td>\n",
       "      <td>0.0</td>\n",
       "      <td>0.0</td>\n",
       "      <td>0.0</td>\n",
       "      <td>0.0</td>\n",
       "      <td>0.0</td>\n",
       "      <td>0.0</td>\n",
       "    </tr>\n",
       "    <tr>\n",
       "      <th>4</th>\n",
       "      <td>0.0</td>\n",
       "      <td>0.0</td>\n",
       "      <td>0.0</td>\n",
       "      <td>0.0</td>\n",
       "      <td>0.0</td>\n",
       "      <td>0.0</td>\n",
       "      <td>0.0</td>\n",
       "      <td>0.0</td>\n",
       "      <td>0.0</td>\n",
       "      <td>0.0</td>\n",
       "      <td>...</td>\n",
       "      <td>1.0</td>\n",
       "      <td>0.0</td>\n",
       "      <td>0.0</td>\n",
       "      <td>0.0</td>\n",
       "      <td>1.0</td>\n",
       "      <td>0.0</td>\n",
       "      <td>0.0</td>\n",
       "      <td>0.0</td>\n",
       "      <td>0.0</td>\n",
       "      <td>0.0</td>\n",
       "    </tr>\n",
       "  </tbody>\n",
       "</table>\n",
       "<p>5 rows × 826 columns</p>\n",
       "</div>"
      ],
      "text/plain": [
       "   NAME_4-H CLUBS & AFFILIATED 4-H ORGANIZATIONS  NAME_AACE INTERNATIONAL  \\\n",
       "0                                            0.0                      0.0   \n",
       "1                                            0.0                      0.0   \n",
       "2                                            0.0                      0.0   \n",
       "3                                            0.0                      0.0   \n",
       "4                                            0.0                      0.0   \n",
       "\n",
       "   NAME_ACADEMY OF GENERAL DENTISTRY  NAME_ACADEMY OF MANAGED CARE PHARMACY  \\\n",
       "0                                0.0                                    0.0   \n",
       "1                                0.0                                    0.0   \n",
       "2                                0.0                                    0.0   \n",
       "3                                0.0                                    0.0   \n",
       "4                                0.0                                    0.0   \n",
       "\n",
       "   NAME_ACE MENTOR PROGRAM OF AMERICA INC  \\\n",
       "0                                     0.0   \n",
       "1                                     0.0   \n",
       "2                                     0.0   \n",
       "3                                     0.0   \n",
       "4                                     0.0   \n",
       "\n",
       "   NAME_ACTIVE 20-30 UNITED STATES AND CANADA  NAME_ACTS MINISTRY  \\\n",
       "0                                         0.0                 0.0   \n",
       "1                                         0.0                 0.0   \n",
       "2                                         0.0                 0.0   \n",
       "3                                         0.0                 0.0   \n",
       "4                                         0.0                 0.0   \n",
       "\n",
       "   NAME_ACTS MISSIONS  \\\n",
       "0                 0.0   \n",
       "1                 0.0   \n",
       "2                 0.0   \n",
       "3                 0.0   \n",
       "4                 0.0   \n",
       "\n",
       "   NAME_AFRICAN-AMERICAN POSTAL LEAGUE UNITED FOR SUCCESS A-PLUS  \\\n",
       "0                                                0.0               \n",
       "1                                                0.0               \n",
       "2                                                0.0               \n",
       "3                                                0.0               \n",
       "4                                                0.0               \n",
       "\n",
       "   NAME_AGENTS ASSOCIATION  ...  ORGANIZATION_Trust  INCOME_AMT_0  \\\n",
       "0                      0.0  ...                 0.0           1.0   \n",
       "1                      0.0  ...                 0.0           0.0   \n",
       "2                      0.0  ...                 0.0           1.0   \n",
       "3                      0.0  ...                 1.0           0.0   \n",
       "4                      0.0  ...                 1.0           0.0   \n",
       "\n",
       "   INCOME_AMT_1-9999  INCOME_AMT_10000-24999  INCOME_AMT_100000-499999  \\\n",
       "0                0.0                     0.0                       0.0   \n",
       "1                1.0                     0.0                       0.0   \n",
       "2                0.0                     0.0                       0.0   \n",
       "3                0.0                     1.0                       0.0   \n",
       "4                0.0                     0.0                       1.0   \n",
       "\n",
       "   INCOME_AMT_10M-50M  INCOME_AMT_1M-5M  INCOME_AMT_25000-99999  \\\n",
       "0                 0.0               0.0                     0.0   \n",
       "1                 0.0               0.0                     0.0   \n",
       "2                 0.0               0.0                     0.0   \n",
       "3                 0.0               0.0                     0.0   \n",
       "4                 0.0               0.0                     0.0   \n",
       "\n",
       "   INCOME_AMT_50M+  INCOME_AMT_5M-10M  \n",
       "0              0.0                0.0  \n",
       "1              0.0                0.0  \n",
       "2              0.0                0.0  \n",
       "3              0.0                0.0  \n",
       "4              0.0                0.0  \n",
       "\n",
       "[5 rows x 826 columns]"
      ]
     },
     "execution_count": 28,
     "metadata": {},
     "output_type": "execute_result"
    }
   ],
   "source": [
    "# Create a OneHotEncoder instance\n",
    "enc = OneHotEncoder(sparse=False)\n",
    "\n",
    "# Fit and transform the OneHotEncoder using the categorical variable list\n",
    "encode_df = pd.DataFrame(enc.fit_transform(application_df[application_cat]))\n",
    "\n",
    "# Add the encoded variable names to the dataframe\n",
    "encode_df.columns = enc.get_feature_names_out(application_cat)\n",
    "encode_df.head()"
   ]
  },
  {
   "cell_type": "code",
   "execution_count": 29,
   "metadata": {},
   "outputs": [
    {
     "data": {
      "text/html": [
       "<div>\n",
       "<style scoped>\n",
       "    .dataframe tbody tr th:only-of-type {\n",
       "        vertical-align: middle;\n",
       "    }\n",
       "\n",
       "    .dataframe tbody tr th {\n",
       "        vertical-align: top;\n",
       "    }\n",
       "\n",
       "    .dataframe thead th {\n",
       "        text-align: right;\n",
       "    }\n",
       "</style>\n",
       "<table border=\"1\" class=\"dataframe\">\n",
       "  <thead>\n",
       "    <tr style=\"text-align: right;\">\n",
       "      <th></th>\n",
       "      <th>ASK_AMT</th>\n",
       "      <th>IS_SUCCESSFUL</th>\n",
       "      <th>NAME_4-H CLUBS &amp; AFFILIATED 4-H ORGANIZATIONS</th>\n",
       "      <th>NAME_AACE INTERNATIONAL</th>\n",
       "      <th>NAME_ACADEMY OF GENERAL DENTISTRY</th>\n",
       "      <th>NAME_ACADEMY OF MANAGED CARE PHARMACY</th>\n",
       "      <th>NAME_ACE MENTOR PROGRAM OF AMERICA INC</th>\n",
       "      <th>NAME_ACTIVE 20-30 UNITED STATES AND CANADA</th>\n",
       "      <th>NAME_ACTS MINISTRY</th>\n",
       "      <th>NAME_ACTS MISSIONS</th>\n",
       "      <th>...</th>\n",
       "      <th>ORGANIZATION_Trust</th>\n",
       "      <th>INCOME_AMT_0</th>\n",
       "      <th>INCOME_AMT_1-9999</th>\n",
       "      <th>INCOME_AMT_10000-24999</th>\n",
       "      <th>INCOME_AMT_100000-499999</th>\n",
       "      <th>INCOME_AMT_10M-50M</th>\n",
       "      <th>INCOME_AMT_1M-5M</th>\n",
       "      <th>INCOME_AMT_25000-99999</th>\n",
       "      <th>INCOME_AMT_50M+</th>\n",
       "      <th>INCOME_AMT_5M-10M</th>\n",
       "    </tr>\n",
       "  </thead>\n",
       "  <tbody>\n",
       "    <tr>\n",
       "      <th>0</th>\n",
       "      <td>5000</td>\n",
       "      <td>1</td>\n",
       "      <td>0.0</td>\n",
       "      <td>0.0</td>\n",
       "      <td>0.0</td>\n",
       "      <td>0.0</td>\n",
       "      <td>0.0</td>\n",
       "      <td>0.0</td>\n",
       "      <td>0.0</td>\n",
       "      <td>0.0</td>\n",
       "      <td>...</td>\n",
       "      <td>0.0</td>\n",
       "      <td>1.0</td>\n",
       "      <td>0.0</td>\n",
       "      <td>0.0</td>\n",
       "      <td>0.0</td>\n",
       "      <td>0.0</td>\n",
       "      <td>0.0</td>\n",
       "      <td>0.0</td>\n",
       "      <td>0.0</td>\n",
       "      <td>0.0</td>\n",
       "    </tr>\n",
       "    <tr>\n",
       "      <th>1</th>\n",
       "      <td>108590</td>\n",
       "      <td>1</td>\n",
       "      <td>0.0</td>\n",
       "      <td>0.0</td>\n",
       "      <td>0.0</td>\n",
       "      <td>0.0</td>\n",
       "      <td>0.0</td>\n",
       "      <td>0.0</td>\n",
       "      <td>0.0</td>\n",
       "      <td>0.0</td>\n",
       "      <td>...</td>\n",
       "      <td>0.0</td>\n",
       "      <td>0.0</td>\n",
       "      <td>1.0</td>\n",
       "      <td>0.0</td>\n",
       "      <td>0.0</td>\n",
       "      <td>0.0</td>\n",
       "      <td>0.0</td>\n",
       "      <td>0.0</td>\n",
       "      <td>0.0</td>\n",
       "      <td>0.0</td>\n",
       "    </tr>\n",
       "    <tr>\n",
       "      <th>2</th>\n",
       "      <td>5000</td>\n",
       "      <td>0</td>\n",
       "      <td>0.0</td>\n",
       "      <td>0.0</td>\n",
       "      <td>0.0</td>\n",
       "      <td>0.0</td>\n",
       "      <td>0.0</td>\n",
       "      <td>0.0</td>\n",
       "      <td>0.0</td>\n",
       "      <td>0.0</td>\n",
       "      <td>...</td>\n",
       "      <td>0.0</td>\n",
       "      <td>1.0</td>\n",
       "      <td>0.0</td>\n",
       "      <td>0.0</td>\n",
       "      <td>0.0</td>\n",
       "      <td>0.0</td>\n",
       "      <td>0.0</td>\n",
       "      <td>0.0</td>\n",
       "      <td>0.0</td>\n",
       "      <td>0.0</td>\n",
       "    </tr>\n",
       "    <tr>\n",
       "      <th>3</th>\n",
       "      <td>6692</td>\n",
       "      <td>1</td>\n",
       "      <td>0.0</td>\n",
       "      <td>0.0</td>\n",
       "      <td>0.0</td>\n",
       "      <td>0.0</td>\n",
       "      <td>0.0</td>\n",
       "      <td>0.0</td>\n",
       "      <td>0.0</td>\n",
       "      <td>0.0</td>\n",
       "      <td>...</td>\n",
       "      <td>1.0</td>\n",
       "      <td>0.0</td>\n",
       "      <td>0.0</td>\n",
       "      <td>1.0</td>\n",
       "      <td>0.0</td>\n",
       "      <td>0.0</td>\n",
       "      <td>0.0</td>\n",
       "      <td>0.0</td>\n",
       "      <td>0.0</td>\n",
       "      <td>0.0</td>\n",
       "    </tr>\n",
       "    <tr>\n",
       "      <th>4</th>\n",
       "      <td>142590</td>\n",
       "      <td>1</td>\n",
       "      <td>0.0</td>\n",
       "      <td>0.0</td>\n",
       "      <td>0.0</td>\n",
       "      <td>0.0</td>\n",
       "      <td>0.0</td>\n",
       "      <td>0.0</td>\n",
       "      <td>0.0</td>\n",
       "      <td>0.0</td>\n",
       "      <td>...</td>\n",
       "      <td>1.0</td>\n",
       "      <td>0.0</td>\n",
       "      <td>0.0</td>\n",
       "      <td>0.0</td>\n",
       "      <td>1.0</td>\n",
       "      <td>0.0</td>\n",
       "      <td>0.0</td>\n",
       "      <td>0.0</td>\n",
       "      <td>0.0</td>\n",
       "      <td>0.0</td>\n",
       "    </tr>\n",
       "  </tbody>\n",
       "</table>\n",
       "<p>5 rows × 828 columns</p>\n",
       "</div>"
      ],
      "text/plain": [
       "   ASK_AMT  IS_SUCCESSFUL  NAME_4-H CLUBS & AFFILIATED 4-H ORGANIZATIONS  \\\n",
       "0     5000              1                                            0.0   \n",
       "1   108590              1                                            0.0   \n",
       "2     5000              0                                            0.0   \n",
       "3     6692              1                                            0.0   \n",
       "4   142590              1                                            0.0   \n",
       "\n",
       "   NAME_AACE INTERNATIONAL  NAME_ACADEMY OF GENERAL DENTISTRY  \\\n",
       "0                      0.0                                0.0   \n",
       "1                      0.0                                0.0   \n",
       "2                      0.0                                0.0   \n",
       "3                      0.0                                0.0   \n",
       "4                      0.0                                0.0   \n",
       "\n",
       "   NAME_ACADEMY OF MANAGED CARE PHARMACY  \\\n",
       "0                                    0.0   \n",
       "1                                    0.0   \n",
       "2                                    0.0   \n",
       "3                                    0.0   \n",
       "4                                    0.0   \n",
       "\n",
       "   NAME_ACE MENTOR PROGRAM OF AMERICA INC  \\\n",
       "0                                     0.0   \n",
       "1                                     0.0   \n",
       "2                                     0.0   \n",
       "3                                     0.0   \n",
       "4                                     0.0   \n",
       "\n",
       "   NAME_ACTIVE 20-30 UNITED STATES AND CANADA  NAME_ACTS MINISTRY  \\\n",
       "0                                         0.0                 0.0   \n",
       "1                                         0.0                 0.0   \n",
       "2                                         0.0                 0.0   \n",
       "3                                         0.0                 0.0   \n",
       "4                                         0.0                 0.0   \n",
       "\n",
       "   NAME_ACTS MISSIONS  ...  ORGANIZATION_Trust  INCOME_AMT_0  \\\n",
       "0                 0.0  ...                 0.0           1.0   \n",
       "1                 0.0  ...                 0.0           0.0   \n",
       "2                 0.0  ...                 0.0           1.0   \n",
       "3                 0.0  ...                 1.0           0.0   \n",
       "4                 0.0  ...                 1.0           0.0   \n",
       "\n",
       "   INCOME_AMT_1-9999  INCOME_AMT_10000-24999  INCOME_AMT_100000-499999  \\\n",
       "0                0.0                     0.0                       0.0   \n",
       "1                1.0                     0.0                       0.0   \n",
       "2                0.0                     0.0                       0.0   \n",
       "3                0.0                     1.0                       0.0   \n",
       "4                0.0                     0.0                       1.0   \n",
       "\n",
       "   INCOME_AMT_10M-50M  INCOME_AMT_1M-5M  INCOME_AMT_25000-99999  \\\n",
       "0                 0.0               0.0                     0.0   \n",
       "1                 0.0               0.0                     0.0   \n",
       "2                 0.0               0.0                     0.0   \n",
       "3                 0.0               0.0                     0.0   \n",
       "4                 0.0               0.0                     0.0   \n",
       "\n",
       "   INCOME_AMT_50M+  INCOME_AMT_5M-10M  \n",
       "0              0.0                0.0  \n",
       "1              0.0                0.0  \n",
       "2              0.0                0.0  \n",
       "3              0.0                0.0  \n",
       "4              0.0                0.0  \n",
       "\n",
       "[5 rows x 828 columns]"
      ]
     },
     "execution_count": 29,
     "metadata": {},
     "output_type": "execute_result"
    }
   ],
   "source": [
    "# Merge one-hot encoded features and drop the originals\n",
    "application_df = application_df.merge(encode_df, left_index=True, right_index=True)\n",
    "application_df.drop(application_cat, axis=1, inplace=True)\n",
    "application_df.head()"
   ]
  },
  {
   "cell_type": "code",
   "execution_count": 30,
   "metadata": {},
   "outputs": [],
   "source": [
    "# Split our preprocessed data into our features and target arrays\n",
    "y = application_df['IS_SUCCESSFUL'].values\n",
    "X = application_df.drop('IS_SUCCESSFUL', axis=1)\n",
    "\n",
    "# Split the preprocessed data into a training and testing dataset\n",
    "X_train, X_test, y_train, y_test = train_test_split(X, y)"
   ]
  },
  {
   "cell_type": "code",
   "execution_count": 31,
   "metadata": {},
   "outputs": [],
   "source": [
    "# Create a StandardScaler instances\n",
    "scaler = StandardScaler()\n",
    "\n",
    "# Fit the StandardScaler\n",
    "X_scaler = scaler.fit(X_train)\n",
    "\n",
    "# Scale the data\n",
    "X_train_scaled = X_scaler.transform(X_train)\n",
    "X_test_scaled = X_scaler.transform(X_test)"
   ]
  },
  {
   "cell_type": "code",
   "execution_count": 32,
   "metadata": {},
   "outputs": [
    {
     "data": {
      "text/plain": [
       "827"
      ]
     },
     "execution_count": 32,
     "metadata": {},
     "output_type": "execute_result"
    }
   ],
   "source": [
    "len(X_train.columns)"
   ]
  },
  {
   "cell_type": "markdown",
   "metadata": {},
   "source": [
    "### Optimization Trial 1"
   ]
  },
  {
   "cell_type": "code",
   "execution_count": 33,
   "metadata": {},
   "outputs": [
    {
     "name": "stdout",
     "output_type": "stream",
     "text": [
      "Metal device set to: Apple M1\n",
      "Model: \"sequential\"\n",
      "_________________________________________________________________\n",
      " Layer (type)                Output Shape              Param #   \n",
      "=================================================================\n",
      " dense (Dense)               (None, 1650)              1366200   \n",
      "                                                                 \n",
      " dense_1 (Dense)             (None, 825)               1362075   \n",
      "                                                                 \n",
      " dense_2 (Dense)             (None, 1)                 826       \n",
      "                                                                 \n",
      "=================================================================\n",
      "Total params: 2,729,101\n",
      "Trainable params: 2,729,101\n",
      "Non-trainable params: 0\n",
      "_________________________________________________________________\n"
     ]
    },
    {
     "name": "stderr",
     "output_type": "stream",
     "text": [
      "2022-10-30 15:06:43.079431: I tensorflow/core/common_runtime/pluggable_device/pluggable_device_factory.cc:306] Could not identify NUMA node of platform GPU ID 0, defaulting to 0. Your kernel may not have been built with NUMA support.\n",
      "2022-10-30 15:06:43.079827: I tensorflow/core/common_runtime/pluggable_device/pluggable_device_factory.cc:272] Created TensorFlow device (/job:localhost/replica:0/task:0/device:GPU:0 with 0 MB memory) -> physical PluggableDevice (device: 0, name: METAL, pci bus id: <undefined>)\n"
     ]
    }
   ],
   "source": [
    "# Define the model - deep neural net, i.e., the number of input features and hidden nodes for each layer.\n",
    "number_input_features = len(X_train.columns)\n",
    "hidden_nodes_layer1 = 1650\n",
    "hidden_nodes_layer2 = 825\n",
    "\n",
    "nn1 = tf.keras.models.Sequential()\n",
    "\n",
    "# First hidden layer\n",
    "nn1.add(\n",
    "    tf.keras.layers.Dense(units=hidden_nodes_layer1, input_dim=number_input_features, activation=\"relu\")\n",
    ")\n",
    "\n",
    "# Second hidden layer\n",
    "nn1.add(\n",
    "    tf.keras.layers.Dense(units=hidden_nodes_layer2, activation=\"relu\")\n",
    ")\n",
    "\n",
    "# Output layer\n",
    "nn1.add(tf.keras.layers.Dense(units=1, activation=\"sigmoid\"))\n",
    "\n",
    "# Check the structure of the model\n",
    "nn1.summary()"
   ]
  },
  {
   "cell_type": "code",
   "execution_count": 34,
   "metadata": {},
   "outputs": [],
   "source": [
    "# Import checkpoint dependencies\n",
    "import os\n",
    "from tensorflow.keras.callbacks import ModelCheckpoint\n",
    "\n",
    "# Define the checkpoint path and filenames\n",
    "os.makedirs(\"checkpoints_optimization1/\", exist_ok=True)\n",
    "checkpoint_path = \"checkpoints_optimization1/weights.{epoch:02d}.hdf5\""
   ]
  },
  {
   "cell_type": "code",
   "execution_count": 35,
   "metadata": {},
   "outputs": [
    {
     "name": "stdout",
     "output_type": "stream",
     "text": [
      "WARNING:tensorflow:`period` argument is deprecated. Please use `save_freq` to specify the frequency in number of batches seen.\n"
     ]
    }
   ],
   "source": [
    "# Compile the model\n",
    "nn1.compile(loss=\"binary_crossentropy\", optimizer=\"adam\", metrics=[\"accuracy\"])\n",
    "\n",
    "# Create a callback that saves the model's weights every 5 epochs\n",
    "cp_callback = ModelCheckpoint(\n",
    "    filepath=checkpoint_path,\n",
    "    verbose=1,\n",
    "    save_weights_only=True,\n",
    "    save_freq='epoch',\n",
    "    period=5\n",
    ")"
   ]
  },
  {
   "cell_type": "code",
   "execution_count": 36,
   "metadata": {
    "collapsed": true,
    "jupyter": {
     "outputs_hidden": true
    }
   },
   "outputs": [
    {
     "name": "stdout",
     "output_type": "stream",
     "text": [
      "Epoch 1/100\n"
     ]
    },
    {
     "name": "stderr",
     "output_type": "stream",
     "text": [
      "2022-10-30 15:06:43.419626: W tensorflow/core/platform/profile_utils/cpu_utils.cc:128] Failed to get CPU frequency: 0 Hz\n",
      "2022-10-30 15:06:43.583405: I tensorflow/core/grappler/optimizers/custom_graph_optimizer_registry.cc:114] Plugin optimizer for device_type GPU is enabled.\n"
     ]
    },
    {
     "name": "stdout",
     "output_type": "stream",
     "text": [
      "804/804 [==============================] - 7s 9ms/step - loss: 0.4778 - accuracy: 0.7836\n",
      "Epoch 2/100\n",
      "804/804 [==============================] - 7s 9ms/step - loss: 0.4225 - accuracy: 0.8017\n",
      "Epoch 3/100\n",
      "804/804 [==============================] - 7s 8ms/step - loss: 0.4188 - accuracy: 0.8042\n",
      "Epoch 4/100\n",
      "804/804 [==============================] - 8s 10ms/step - loss: 0.4151 - accuracy: 0.8049\n",
      "Epoch 5/100\n",
      "800/804 [============================>.] - ETA: 0s - loss: 0.4129 - accuracy: 0.8065\n",
      "Epoch 5: saving model to checkpoints_optimization1/weights.05.hdf5\n",
      "804/804 [==============================] - 7s 8ms/step - loss: 0.4129 - accuracy: 0.8064\n",
      "Epoch 6/100\n",
      "804/804 [==============================] - 7s 8ms/step - loss: 0.4112 - accuracy: 0.8061\n",
      "Epoch 7/100\n",
      "804/804 [==============================] - 7s 8ms/step - loss: 0.4122 - accuracy: 0.8073\n",
      "Epoch 8/100\n",
      "804/804 [==============================] - 7s 9ms/step - loss: 0.4097 - accuracy: 0.8069\n",
      "Epoch 9/100\n",
      "804/804 [==============================] - 7s 9ms/step - loss: 0.4093 - accuracy: 0.8080\n",
      "Epoch 10/100\n",
      "801/804 [============================>.] - ETA: 0s - loss: 0.4099 - accuracy: 0.8082\n",
      "Epoch 10: saving model to checkpoints_optimization1/weights.10.hdf5\n",
      "804/804 [==============================] - 8s 11ms/step - loss: 0.4101 - accuracy: 0.8078\n",
      "Epoch 11/100\n",
      "804/804 [==============================] - 9s 11ms/step - loss: 0.4085 - accuracy: 0.8084\n",
      "Epoch 12/100\n",
      "804/804 [==============================] - 7s 9ms/step - loss: 0.4078 - accuracy: 0.8084\n",
      "Epoch 13/100\n",
      "804/804 [==============================] - 7s 9ms/step - loss: 0.4071 - accuracy: 0.8089\n",
      "Epoch 14/100\n",
      "804/804 [==============================] - 7s 8ms/step - loss: 0.4073 - accuracy: 0.8092\n",
      "Epoch 15/100\n",
      "800/804 [============================>.] - ETA: 0s - loss: 0.4052 - accuracy: 0.8107\n",
      "Epoch 15: saving model to checkpoints_optimization1/weights.15.hdf5\n",
      "804/804 [==============================] - 7s 9ms/step - loss: 0.4056 - accuracy: 0.8104\n",
      "Epoch 16/100\n",
      "804/804 [==============================] - 7s 9ms/step - loss: 0.4053 - accuracy: 0.8089\n",
      "Epoch 17/100\n",
      "804/804 [==============================] - 7s 9ms/step - loss: 0.4052 - accuracy: 0.8093\n",
      "Epoch 18/100\n",
      "804/804 [==============================] - 7s 9ms/step - loss: 0.4053 - accuracy: 0.8104\n",
      "Epoch 19/100\n",
      "804/804 [==============================] - 7s 9ms/step - loss: 0.4034 - accuracy: 0.8106\n",
      "Epoch 20/100\n",
      "802/804 [============================>.] - ETA: 0s - loss: 0.4058 - accuracy: 0.8108\n",
      "Epoch 20: saving model to checkpoints_optimization1/weights.20.hdf5\n",
      "804/804 [==============================] - 7s 9ms/step - loss: 0.4057 - accuracy: 0.8110\n",
      "Epoch 21/100\n",
      "804/804 [==============================] - 7s 9ms/step - loss: 0.4035 - accuracy: 0.8113\n",
      "Epoch 22/100\n",
      "804/804 [==============================] - 7s 9ms/step - loss: 0.4022 - accuracy: 0.8112\n",
      "Epoch 23/100\n",
      "804/804 [==============================] - 7s 9ms/step - loss: 0.4015 - accuracy: 0.8115\n",
      "Epoch 24/100\n",
      "804/804 [==============================] - 8s 9ms/step - loss: 0.4010 - accuracy: 0.8117\n",
      "Epoch 25/100\n",
      "801/804 [============================>.] - ETA: 0s - loss: 0.4023 - accuracy: 0.8124\n",
      "Epoch 25: saving model to checkpoints_optimization1/weights.25.hdf5\n",
      "804/804 [==============================] - 8s 10ms/step - loss: 0.4024 - accuracy: 0.8123\n",
      "Epoch 26/100\n",
      "804/804 [==============================] - 8s 10ms/step - loss: 0.4005 - accuracy: 0.8113\n",
      "Epoch 27/100\n",
      "804/804 [==============================] - 7s 9ms/step - loss: 0.3995 - accuracy: 0.8122\n",
      "Epoch 28/100\n",
      "804/804 [==============================] - 7s 9ms/step - loss: 0.3995 - accuracy: 0.8122\n",
      "Epoch 29/100\n",
      "804/804 [==============================] - 7s 8ms/step - loss: 0.3995 - accuracy: 0.8126\n",
      "Epoch 30/100\n",
      "799/804 [============================>.] - ETA: 0s - loss: 0.3980 - accuracy: 0.8132\n",
      "Epoch 30: saving model to checkpoints_optimization1/weights.30.hdf5\n",
      "804/804 [==============================] - 7s 8ms/step - loss: 0.3978 - accuracy: 0.8132\n",
      "Epoch 31/100\n",
      "804/804 [==============================] - 7s 9ms/step - loss: 0.3969 - accuracy: 0.8132\n",
      "Epoch 32/100\n",
      "804/804 [==============================] - 8s 9ms/step - loss: 0.3978 - accuracy: 0.8133\n",
      "Epoch 33/100\n",
      "804/804 [==============================] - 8s 9ms/step - loss: 0.3992 - accuracy: 0.8132\n",
      "Epoch 34/100\n",
      "804/804 [==============================] - 7s 9ms/step - loss: 0.3996 - accuracy: 0.8125\n",
      "Epoch 35/100\n",
      "800/804 [============================>.] - ETA: 0s - loss: 0.3967 - accuracy: 0.8131\n",
      "Epoch 35: saving model to checkpoints_optimization1/weights.35.hdf5\n",
      "804/804 [==============================] - 7s 9ms/step - loss: 0.3962 - accuracy: 0.8136\n",
      "Epoch 36/100\n",
      "804/804 [==============================] - 8s 10ms/step - loss: 0.3960 - accuracy: 0.8139\n",
      "Epoch 37/100\n",
      "804/804 [==============================] - 7s 9ms/step - loss: 0.3956 - accuracy: 0.8134\n",
      "Epoch 38/100\n",
      "804/804 [==============================] - 7s 9ms/step - loss: 0.3960 - accuracy: 0.8130\n",
      "Epoch 39/100\n",
      "804/804 [==============================] - 7s 9ms/step - loss: 0.3998 - accuracy: 0.8137\n",
      "Epoch 40/100\n",
      "800/804 [============================>.] - ETA: 0s - loss: 0.3993 - accuracy: 0.8133\n",
      "Epoch 40: saving model to checkpoints_optimization1/weights.40.hdf5\n",
      "804/804 [==============================] - 7s 9ms/step - loss: 0.3994 - accuracy: 0.8134\n",
      "Epoch 41/100\n",
      "804/804 [==============================] - 7s 9ms/step - loss: 0.3945 - accuracy: 0.8139\n",
      "Epoch 42/100\n",
      "804/804 [==============================] - 7s 9ms/step - loss: 0.3935 - accuracy: 0.8145\n",
      "Epoch 43/100\n",
      "804/804 [==============================] - 8s 10ms/step - loss: 0.3942 - accuracy: 0.8145\n",
      "Epoch 44/100\n",
      "804/804 [==============================] - 7s 9ms/step - loss: 0.3929 - accuracy: 0.8147\n",
      "Epoch 45/100\n",
      "799/804 [============================>.] - ETA: 0s - loss: 0.3936 - accuracy: 0.8145\n",
      "Epoch 45: saving model to checkpoints_optimization1/weights.45.hdf5\n",
      "804/804 [==============================] - 7s 9ms/step - loss: 0.3935 - accuracy: 0.8145\n",
      "Epoch 46/100\n",
      "804/804 [==============================] - 7s 8ms/step - loss: 0.3949 - accuracy: 0.8145\n",
      "Epoch 47/100\n",
      "804/804 [==============================] - 7s 8ms/step - loss: 0.3930 - accuracy: 0.8146\n",
      "Epoch 48/100\n",
      "804/804 [==============================] - 7s 9ms/step - loss: 0.3939 - accuracy: 0.8156\n",
      "Epoch 49/100\n",
      "804/804 [==============================] - 7s 9ms/step - loss: 0.3994 - accuracy: 0.8140\n",
      "Epoch 50/100\n",
      "801/804 [============================>.] - ETA: 0s - loss: 0.3950 - accuracy: 0.8149\n",
      "Epoch 50: saving model to checkpoints_optimization1/weights.50.hdf5\n",
      "804/804 [==============================] - 7s 8ms/step - loss: 0.3951 - accuracy: 0.8149\n",
      "Epoch 51/100\n",
      "804/804 [==============================] - 7s 8ms/step - loss: 0.3915 - accuracy: 0.8152\n",
      "Epoch 52/100\n",
      "804/804 [==============================] - 7s 8ms/step - loss: 0.3919 - accuracy: 0.8149\n",
      "Epoch 53/100\n",
      "804/804 [==============================] - 7s 9ms/step - loss: 0.3921 - accuracy: 0.8153\n",
      "Epoch 54/100\n",
      "804/804 [==============================] - 7s 8ms/step - loss: 0.3917 - accuracy: 0.8152\n",
      "Epoch 55/100\n",
      "800/804 [============================>.] - ETA: 0s - loss: 0.4236 - accuracy: 0.8147\n",
      "Epoch 55: saving model to checkpoints_optimization1/weights.55.hdf5\n",
      "804/804 [==============================] - 7s 8ms/step - loss: 0.4239 - accuracy: 0.8144\n",
      "Epoch 56/100\n",
      "804/804 [==============================] - 7s 8ms/step - loss: 0.3921 - accuracy: 0.8152\n",
      "Epoch 57/100\n",
      "804/804 [==============================] - 7s 8ms/step - loss: 0.3908 - accuracy: 0.8156\n",
      "Epoch 58/100\n",
      "804/804 [==============================] - 7s 8ms/step - loss: 0.3907 - accuracy: 0.8162\n",
      "Epoch 59/100\n",
      "804/804 [==============================] - 7s 9ms/step - loss: 0.3912 - accuracy: 0.8157\n",
      "Epoch 60/100\n",
      "800/804 [============================>.] - ETA: 0s - loss: 0.3902 - accuracy: 0.8157\n",
      "Epoch 60: saving model to checkpoints_optimization1/weights.60.hdf5\n",
      "804/804 [==============================] - 7s 9ms/step - loss: 0.3899 - accuracy: 0.8158\n",
      "Epoch 61/100\n",
      "804/804 [==============================] - 7s 9ms/step - loss: 0.3903 - accuracy: 0.8152\n",
      "Epoch 62/100\n",
      "804/804 [==============================] - 7s 9ms/step - loss: 0.3957 - accuracy: 0.8157\n",
      "Epoch 63/100\n",
      "804/804 [==============================] - 7s 9ms/step - loss: 0.3916 - accuracy: 0.8159\n",
      "Epoch 64/100\n",
      "804/804 [==============================] - 7s 9ms/step - loss: 0.3903 - accuracy: 0.8146\n",
      "Epoch 65/100\n",
      "800/804 [============================>.] - ETA: 0s - loss: 0.3888 - accuracy: 0.8152\n",
      "Epoch 65: saving model to checkpoints_optimization1/weights.65.hdf5\n",
      "804/804 [==============================] - 7s 9ms/step - loss: 0.3888 - accuracy: 0.8153\n",
      "Epoch 66/100\n",
      "804/804 [==============================] - 7s 9ms/step - loss: 0.3896 - accuracy: 0.8156\n",
      "Epoch 67/100\n",
      "804/804 [==============================] - 8s 9ms/step - loss: 0.3896 - accuracy: 0.8157\n",
      "Epoch 68/100\n",
      "804/804 [==============================] - 8s 9ms/step - loss: 0.4009 - accuracy: 0.8154\n",
      "Epoch 69/100\n",
      "804/804 [==============================] - 7s 9ms/step - loss: 0.3903 - accuracy: 0.8157\n",
      "Epoch 70/100\n",
      "804/804 [==============================] - ETA: 0s - loss: 0.3898 - accuracy: 0.8161\n",
      "Epoch 70: saving model to checkpoints_optimization1/weights.70.hdf5\n",
      "804/804 [==============================] - 7s 9ms/step - loss: 0.3898 - accuracy: 0.8161\n",
      "Epoch 71/100\n",
      "804/804 [==============================] - 7s 9ms/step - loss: 0.3890 - accuracy: 0.8164\n",
      "Epoch 72/100\n",
      "804/804 [==============================] - 7s 8ms/step - loss: 0.3899 - accuracy: 0.8160\n",
      "Epoch 73/100\n",
      "804/804 [==============================] - 7s 9ms/step - loss: 0.4278 - accuracy: 0.8148\n",
      "Epoch 74/100\n",
      "804/804 [==============================] - 7s 8ms/step - loss: 0.3907 - accuracy: 0.8156\n",
      "Epoch 75/100\n",
      "803/804 [============================>.] - ETA: 0s - loss: 0.3906 - accuracy: 0.8154\n",
      "Epoch 75: saving model to checkpoints_optimization1/weights.75.hdf5\n",
      "804/804 [==============================] - 7s 9ms/step - loss: 0.3907 - accuracy: 0.8153\n",
      "Epoch 76/100\n",
      "804/804 [==============================] - 8s 10ms/step - loss: 0.3909 - accuracy: 0.8155\n",
      "Epoch 77/100\n",
      "804/804 [==============================] - 7s 9ms/step - loss: 0.3890 - accuracy: 0.8155\n",
      "Epoch 78/100\n",
      "804/804 [==============================] - 7s 9ms/step - loss: 0.3884 - accuracy: 0.8162\n",
      "Epoch 79/100\n",
      "804/804 [==============================] - 8s 10ms/step - loss: 0.3890 - accuracy: 0.8158\n",
      "Epoch 80/100\n",
      "801/804 [============================>.] - ETA: 0s - loss: 0.3895 - accuracy: 0.8157\n",
      "Epoch 80: saving model to checkpoints_optimization1/weights.80.hdf5\n",
      "804/804 [==============================] - 8s 10ms/step - loss: 0.3899 - accuracy: 0.8153\n",
      "Epoch 81/100\n",
      "804/804 [==============================] - 7s 9ms/step - loss: 0.3901 - accuracy: 0.8158\n",
      "Epoch 82/100\n",
      "804/804 [==============================] - 7s 9ms/step - loss: 0.3902 - accuracy: 0.8155\n",
      "Epoch 83/100\n",
      "804/804 [==============================] - 7s 8ms/step - loss: 0.3895 - accuracy: 0.8159\n",
      "Epoch 84/100\n",
      "804/804 [==============================] - 7s 8ms/step - loss: 0.3907 - accuracy: 0.8159\n",
      "Epoch 85/100\n",
      "800/804 [============================>.] - ETA: 0s - loss: 0.3992 - accuracy: 0.8159\n",
      "Epoch 85: saving model to checkpoints_optimization1/weights.85.hdf5\n",
      "804/804 [==============================] - 7s 9ms/step - loss: 0.3993 - accuracy: 0.8156\n",
      "Epoch 86/100\n",
      "804/804 [==============================] - 8s 9ms/step - loss: 0.3995 - accuracy: 0.8153\n",
      "Epoch 87/100\n",
      "804/804 [==============================] - 7s 9ms/step - loss: 0.3926 - accuracy: 0.8157\n",
      "Epoch 88/100\n",
      "804/804 [==============================] - 7s 8ms/step - loss: 0.3862 - accuracy: 0.8167\n",
      "Epoch 89/100\n",
      "804/804 [==============================] - 7s 9ms/step - loss: 0.3870 - accuracy: 0.8164\n",
      "Epoch 90/100\n",
      "801/804 [============================>.] - ETA: 0s - loss: 0.3884 - accuracy: 0.8155\n",
      "Epoch 90: saving model to checkpoints_optimization1/weights.90.hdf5\n",
      "804/804 [==============================] - 7s 9ms/step - loss: 0.3882 - accuracy: 0.8155\n",
      "Epoch 91/100\n",
      "804/804 [==============================] - 7s 8ms/step - loss: 0.3871 - accuracy: 0.8156\n",
      "Epoch 92/100\n",
      "804/804 [==============================] - 7s 8ms/step - loss: 0.3983 - accuracy: 0.8156\n",
      "Epoch 93/100\n",
      "804/804 [==============================] - 7s 8ms/step - loss: 0.3917 - accuracy: 0.8162\n",
      "Epoch 94/100\n",
      "804/804 [==============================] - 7s 8ms/step - loss: 0.3881 - accuracy: 0.8167\n",
      "Epoch 95/100\n",
      "799/804 [============================>.] - ETA: 0s - loss: 0.3885 - accuracy: 0.8156\n",
      "Epoch 95: saving model to checkpoints_optimization1/weights.95.hdf5\n",
      "804/804 [==============================] - 7s 9ms/step - loss: 0.3885 - accuracy: 0.8156\n",
      "Epoch 96/100\n",
      "804/804 [==============================] - 7s 9ms/step - loss: 0.3869 - accuracy: 0.8169\n",
      "Epoch 97/100\n",
      "804/804 [==============================] - 7s 9ms/step - loss: 0.3862 - accuracy: 0.8158\n",
      "Epoch 98/100\n",
      "804/804 [==============================] - 7s 9ms/step - loss: 0.4602 - accuracy: 0.8156\n",
      "Epoch 99/100\n",
      "804/804 [==============================] - 7s 9ms/step - loss: 0.3990 - accuracy: 0.8146\n",
      "Epoch 100/100\n",
      "804/804 [==============================] - ETA: 0s - loss: 0.3899 - accuracy: 0.8158\n",
      "Epoch 100: saving model to checkpoints_optimization1/weights.100.hdf5\n",
      "804/804 [==============================] - 8s 10ms/step - loss: 0.3899 - accuracy: 0.8158\n"
     ]
    }
   ],
   "source": [
    "# Train the model\n",
    "fit_model = nn1.fit(X_train_scaled, y_train, epochs=100, callbacks=[cp_callback])"
   ]
  },
  {
   "cell_type": "code",
   "execution_count": 37,
   "metadata": {},
   "outputs": [
    {
     "name": "stderr",
     "output_type": "stream",
     "text": [
      "2022-10-30 15:18:37.356573: I tensorflow/core/grappler/optimizers/custom_graph_optimizer_registry.cc:114] Plugin optimizer for device_type GPU is enabled.\n"
     ]
    },
    {
     "name": "stdout",
     "output_type": "stream",
     "text": [
      "268/268 - 2s - loss: 2.8988 - accuracy: 0.8012 - 2s/epoch - 6ms/step\n",
      "Loss: 2.898818016052246, Accuracy: 0.8011661767959595\n"
     ]
    }
   ],
   "source": [
    "# Evaluate the model using the test data\n",
    "model_loss, model_accuracy = nn1.evaluate(X_test_scaled,y_test,verbose=2)\n",
    "print(f\"Loss: {model_loss}, Accuracy: {model_accuracy}\")"
   ]
  },
  {
   "cell_type": "markdown",
   "metadata": {},
   "source": [
    "### Optimization Trial 2"
   ]
  },
  {
   "cell_type": "code",
   "execution_count": 38,
   "metadata": {},
   "outputs": [
    {
     "name": "stdout",
     "output_type": "stream",
     "text": [
      "Model: \"sequential_1\"\n",
      "_________________________________________________________________\n",
      " Layer (type)                Output Shape              Param #   \n",
      "=================================================================\n",
      " dense_3 (Dense)             (None, 1100)              910800    \n",
      "                                                                 \n",
      " dense_4 (Dense)             (None, 550)               605550    \n",
      "                                                                 \n",
      " dense_5 (Dense)             (None, 1)                 551       \n",
      "                                                                 \n",
      "=================================================================\n",
      "Total params: 1,516,901\n",
      "Trainable params: 1,516,901\n",
      "Non-trainable params: 0\n",
      "_________________________________________________________________\n"
     ]
    }
   ],
   "source": [
    "# Define the model - deep neural net, i.e., the number of input features and hidden nodes for each layer.\n",
    "number_input_features = len(X_train.columns)\n",
    "hidden_nodes_layer1 = 1100\n",
    "hidden_nodes_layer2 = 550\n",
    "\n",
    "nn2 = tf.keras.models.Sequential()\n",
    "\n",
    "# First hidden layer\n",
    "nn2.add(\n",
    "    tf.keras.layers.Dense(units=hidden_nodes_layer1, input_dim=number_input_features, activation=\"relu\")\n",
    ")\n",
    "\n",
    "# Second hidden layer\n",
    "nn2.add(\n",
    "    tf.keras.layers.Dense(units=hidden_nodes_layer2, activation=\"relu\")\n",
    ")\n",
    "\n",
    "# Output layer\n",
    "nn2.add(tf.keras.layers.Dense(units=1, activation=\"sigmoid\"))\n",
    "\n",
    "# Check the structure of the model\n",
    "nn2.summary()"
   ]
  },
  {
   "cell_type": "code",
   "execution_count": 39,
   "metadata": {},
   "outputs": [],
   "source": [
    "# Import checkpoint dependencies\n",
    "import os\n",
    "from tensorflow.keras.callbacks import ModelCheckpoint\n",
    "\n",
    "# Define the checkpoint path and filenames\n",
    "os.makedirs(\"checkpoints_optimization2/\", exist_ok=True)\n",
    "checkpoint_path = \"checkpoints_optimization2/weights.{epoch:02d}.hdf5\""
   ]
  },
  {
   "cell_type": "code",
   "execution_count": 40,
   "metadata": {},
   "outputs": [
    {
     "name": "stdout",
     "output_type": "stream",
     "text": [
      "WARNING:tensorflow:`period` argument is deprecated. Please use `save_freq` to specify the frequency in number of batches seen.\n"
     ]
    }
   ],
   "source": [
    "# Compile the model\n",
    "nn2.compile(loss=\"binary_crossentropy\", optimizer=\"adam\", metrics=[\"accuracy\"])\n",
    "\n",
    "# Create a callback that saves the model's weights every 5 epochs\n",
    "cp_callback = ModelCheckpoint(\n",
    "    filepath=checkpoint_path,\n",
    "    verbose=1,\n",
    "    save_weights_only=True,\n",
    "    save_freq='epoch',\n",
    "    period=5\n",
    ")"
   ]
  },
  {
   "cell_type": "code",
   "execution_count": 41,
   "metadata": {
    "collapsed": true,
    "jupyter": {
     "outputs_hidden": true
    }
   },
   "outputs": [
    {
     "name": "stdout",
     "output_type": "stream",
     "text": [
      "Epoch 1/100\n",
      "  1/804 [..............................] - ETA: 4:12 - loss: 0.7019 - accuracy: 0.5938"
     ]
    },
    {
     "name": "stderr",
     "output_type": "stream",
     "text": [
      "2022-10-30 15:18:39.059372: I tensorflow/core/grappler/optimizers/custom_graph_optimizer_registry.cc:114] Plugin optimizer for device_type GPU is enabled.\n"
     ]
    },
    {
     "name": "stdout",
     "output_type": "stream",
     "text": [
      "804/804 [==============================] - 7s 9ms/step - loss: 0.4795 - accuracy: 0.7834\n",
      "Epoch 2/100\n",
      "804/804 [==============================] - 7s 8ms/step - loss: 0.4235 - accuracy: 0.8017\n",
      "Epoch 3/100\n",
      "804/804 [==============================] - 7s 9ms/step - loss: 0.4170 - accuracy: 0.8055\n",
      "Epoch 4/100\n",
      "804/804 [==============================] - 7s 8ms/step - loss: 0.4140 - accuracy: 0.8060\n",
      "Epoch 5/100\n",
      "799/804 [============================>.] - ETA: 0s - loss: 0.4136 - accuracy: 0.8060\n",
      "Epoch 5: saving model to checkpoints_optimization2/weights.05.hdf5\n",
      "804/804 [==============================] - 6s 8ms/step - loss: 0.4136 - accuracy: 0.8061\n",
      "Epoch 6/100\n",
      "804/804 [==============================] - 6s 8ms/step - loss: 0.4115 - accuracy: 0.8074\n",
      "Epoch 7/100\n",
      "804/804 [==============================] - 6s 8ms/step - loss: 0.4108 - accuracy: 0.8071\n",
      "Epoch 8/100\n",
      "804/804 [==============================] - 6s 8ms/step - loss: 0.4099 - accuracy: 0.8074\n",
      "Epoch 9/100\n",
      "804/804 [==============================] - 6s 8ms/step - loss: 0.4093 - accuracy: 0.8086\n",
      "Epoch 10/100\n",
      "800/804 [============================>.] - ETA: 0s - loss: 0.4084 - accuracy: 0.8073\n",
      "Epoch 10: saving model to checkpoints_optimization2/weights.10.hdf5\n",
      "804/804 [==============================] - 6s 7ms/step - loss: 0.4080 - accuracy: 0.8075\n",
      "Epoch 11/100\n",
      "804/804 [==============================] - 6s 7ms/step - loss: 0.4076 - accuracy: 0.8089\n",
      "Epoch 12/100\n",
      "804/804 [==============================] - 6s 7ms/step - loss: 0.4073 - accuracy: 0.8096\n",
      "Epoch 13/100\n",
      "804/804 [==============================] - 6s 8ms/step - loss: 0.4064 - accuracy: 0.8102\n",
      "Epoch 14/100\n",
      "804/804 [==============================] - 6s 8ms/step - loss: 0.4057 - accuracy: 0.8089\n",
      "Epoch 15/100\n",
      "803/804 [============================>.] - ETA: 0s - loss: 0.4055 - accuracy: 0.8100\n",
      "Epoch 15: saving model to checkpoints_optimization2/weights.15.hdf5\n",
      "804/804 [==============================] - 6s 8ms/step - loss: 0.4056 - accuracy: 0.8101\n",
      "Epoch 16/100\n",
      "804/804 [==============================] - 6s 7ms/step - loss: 0.4046 - accuracy: 0.8106\n",
      "Epoch 17/100\n",
      "804/804 [==============================] - 6s 8ms/step - loss: 0.4036 - accuracy: 0.8113\n",
      "Epoch 18/100\n",
      "804/804 [==============================] - 6s 8ms/step - loss: 0.4044 - accuracy: 0.8113\n",
      "Epoch 19/100\n",
      "804/804 [==============================] - 6s 7ms/step - loss: 0.4035 - accuracy: 0.8113\n",
      "Epoch 20/100\n",
      "804/804 [==============================] - ETA: 0s - loss: 0.4022 - accuracy: 0.8123\n",
      "Epoch 20: saving model to checkpoints_optimization2/weights.20.hdf5\n",
      "804/804 [==============================] - 6s 7ms/step - loss: 0.4022 - accuracy: 0.8123\n",
      "Epoch 21/100\n",
      "804/804 [==============================] - 7s 9ms/step - loss: 0.4017 - accuracy: 0.8119\n",
      "Epoch 22/100\n",
      "804/804 [==============================] - 8s 9ms/step - loss: 0.4013 - accuracy: 0.8128\n",
      "Epoch 23/100\n",
      "804/804 [==============================] - 8s 10ms/step - loss: 0.4011 - accuracy: 0.8122\n",
      "Epoch 24/100\n",
      "804/804 [==============================] - 6s 8ms/step - loss: 0.4023 - accuracy: 0.8110\n",
      "Epoch 25/100\n",
      "803/804 [============================>.] - ETA: 0s - loss: 0.4009 - accuracy: 0.8135\n",
      "Epoch 25: saving model to checkpoints_optimization2/weights.25.hdf5\n",
      "804/804 [==============================] - 7s 9ms/step - loss: 0.4009 - accuracy: 0.8134\n",
      "Epoch 26/100\n",
      "804/804 [==============================] - 6s 7ms/step - loss: 0.4004 - accuracy: 0.8132\n",
      "Epoch 27/100\n",
      "804/804 [==============================] - 6s 7ms/step - loss: 0.3995 - accuracy: 0.8133\n",
      "Epoch 28/100\n",
      "804/804 [==============================] - 6s 7ms/step - loss: 0.3990 - accuracy: 0.8132\n",
      "Epoch 29/100\n",
      "804/804 [==============================] - 6s 7ms/step - loss: 0.3992 - accuracy: 0.8135\n",
      "Epoch 30/100\n",
      "803/804 [============================>.] - ETA: 0s - loss: 0.3991 - accuracy: 0.8135\n",
      "Epoch 30: saving model to checkpoints_optimization2/weights.30.hdf5\n",
      "804/804 [==============================] - 6s 7ms/step - loss: 0.3991 - accuracy: 0.8135\n",
      "Epoch 31/100\n",
      "804/804 [==============================] - 6s 7ms/step - loss: 0.4010 - accuracy: 0.8138\n",
      "Epoch 32/100\n",
      "804/804 [==============================] - 6s 7ms/step - loss: 0.3970 - accuracy: 0.8143\n",
      "Epoch 33/100\n",
      "804/804 [==============================] - 6s 8ms/step - loss: 0.3967 - accuracy: 0.8138\n",
      "Epoch 34/100\n",
      "804/804 [==============================] - 6s 7ms/step - loss: 0.3963 - accuracy: 0.8140\n",
      "Epoch 35/100\n",
      "801/804 [============================>.] - ETA: 0s - loss: 0.3957 - accuracy: 0.8147\n",
      "Epoch 35: saving model to checkpoints_optimization2/weights.35.hdf5\n",
      "804/804 [==============================] - 6s 7ms/step - loss: 0.3956 - accuracy: 0.8148\n",
      "Epoch 36/100\n",
      "804/804 [==============================] - 6s 8ms/step - loss: 0.3955 - accuracy: 0.8141\n",
      "Epoch 37/100\n",
      "804/804 [==============================] - 6s 7ms/step - loss: 0.3948 - accuracy: 0.8148\n",
      "Epoch 38/100\n",
      "804/804 [==============================] - 7s 8ms/step - loss: 0.3954 - accuracy: 0.8147\n",
      "Epoch 39/100\n",
      "804/804 [==============================] - 7s 9ms/step - loss: 0.4031 - accuracy: 0.8143\n",
      "Epoch 40/100\n",
      "803/804 [============================>.] - ETA: 0s - loss: 0.3940 - accuracy: 0.8151\n",
      "Epoch 40: saving model to checkpoints_optimization2/weights.40.hdf5\n",
      "804/804 [==============================] - 6s 7ms/step - loss: 0.3940 - accuracy: 0.8151\n",
      "Epoch 41/100\n",
      "804/804 [==============================] - 6s 7ms/step - loss: 0.3944 - accuracy: 0.8146\n",
      "Epoch 42/100\n",
      "804/804 [==============================] - 6s 7ms/step - loss: 0.3932 - accuracy: 0.8154\n",
      "Epoch 43/100\n",
      "804/804 [==============================] - 5s 7ms/step - loss: 0.3943 - accuracy: 0.8149\n",
      "Epoch 44/100\n",
      "804/804 [==============================] - 6s 7ms/step - loss: 0.3941 - accuracy: 0.8146\n",
      "Epoch 45/100\n",
      "804/804 [==============================] - ETA: 0s - loss: 0.3935 - accuracy: 0.8159\n",
      "Epoch 45: saving model to checkpoints_optimization2/weights.45.hdf5\n",
      "804/804 [==============================] - 5s 7ms/step - loss: 0.3935 - accuracy: 0.8159\n",
      "Epoch 46/100\n",
      "804/804 [==============================] - 5s 7ms/step - loss: 0.3925 - accuracy: 0.8152\n",
      "Epoch 47/100\n",
      "804/804 [==============================] - 5s 7ms/step - loss: 0.3935 - accuracy: 0.8162\n",
      "Epoch 48/100\n",
      "804/804 [==============================] - 5s 7ms/step - loss: 0.3926 - accuracy: 0.8159\n",
      "Epoch 49/100\n",
      "804/804 [==============================] - 5s 7ms/step - loss: 0.3936 - accuracy: 0.8158\n",
      "Epoch 50/100\n",
      "803/804 [============================>.] - ETA: 0s - loss: 0.3971 - accuracy: 0.8154\n",
      "Epoch 50: saving model to checkpoints_optimization2/weights.50.hdf5\n",
      "804/804 [==============================] - 5s 7ms/step - loss: 0.3969 - accuracy: 0.8155\n",
      "Epoch 51/100\n",
      "804/804 [==============================] - 7s 8ms/step - loss: 0.3929 - accuracy: 0.8157\n",
      "Epoch 52/100\n",
      "804/804 [==============================] - 5s 7ms/step - loss: 0.4064 - accuracy: 0.8158\n",
      "Epoch 53/100\n",
      "804/804 [==============================] - 6s 8ms/step - loss: 0.3913 - accuracy: 0.8162\n",
      "Epoch 54/100\n",
      "804/804 [==============================] - 6s 7ms/step - loss: 0.3914 - accuracy: 0.8164\n",
      "Epoch 55/100\n",
      "797/804 [============================>.] - ETA: 0s - loss: 0.3894 - accuracy: 0.8169\n",
      "Epoch 55: saving model to checkpoints_optimization2/weights.55.hdf5\n",
      "804/804 [==============================] - 5s 7ms/step - loss: 0.3898 - accuracy: 0.8165\n",
      "Epoch 56/100\n",
      "804/804 [==============================] - 6s 7ms/step - loss: 0.3911 - accuracy: 0.8164\n",
      "Epoch 57/100\n",
      "804/804 [==============================] - 5s 7ms/step - loss: 0.3909 - accuracy: 0.8170\n",
      "Epoch 58/100\n",
      "804/804 [==============================] - 6s 7ms/step - loss: 0.3904 - accuracy: 0.8161\n",
      "Epoch 59/100\n",
      "804/804 [==============================] - 5s 7ms/step - loss: 0.3902 - accuracy: 0.8164\n",
      "Epoch 60/100\n",
      "804/804 [==============================] - ETA: 0s - loss: 0.3899 - accuracy: 0.8159\n",
      "Epoch 60: saving model to checkpoints_optimization2/weights.60.hdf5\n",
      "804/804 [==============================] - 5s 7ms/step - loss: 0.3899 - accuracy: 0.8159\n",
      "Epoch 61/100\n",
      "804/804 [==============================] - 6s 7ms/step - loss: 0.4008 - accuracy: 0.8157\n",
      "Epoch 62/100\n",
      "804/804 [==============================] - 6s 7ms/step - loss: 0.3990 - accuracy: 0.8162\n",
      "Epoch 63/100\n",
      "804/804 [==============================] - 6s 7ms/step - loss: 0.3885 - accuracy: 0.8167\n",
      "Epoch 64/100\n",
      "804/804 [==============================] - 6s 7ms/step - loss: 0.3890 - accuracy: 0.8168\n",
      "Epoch 65/100\n",
      "801/804 [============================>.] - ETA: 0s - loss: 0.3886 - accuracy: 0.8171\n",
      "Epoch 65: saving model to checkpoints_optimization2/weights.65.hdf5\n",
      "804/804 [==============================] - 6s 7ms/step - loss: 0.3885 - accuracy: 0.8172\n",
      "Epoch 66/100\n",
      "804/804 [==============================] - 6s 7ms/step - loss: 0.3893 - accuracy: 0.8166\n",
      "Epoch 67/100\n",
      "804/804 [==============================] - 6s 7ms/step - loss: 0.3907 - accuracy: 0.8170\n",
      "Epoch 68/100\n",
      "804/804 [==============================] - 6s 7ms/step - loss: 0.3936 - accuracy: 0.8167\n",
      "Epoch 69/100\n",
      "804/804 [==============================] - 6s 7ms/step - loss: 0.3934 - accuracy: 0.8165\n",
      "Epoch 70/100\n",
      "800/804 [============================>.] - ETA: 0s - loss: 0.3881 - accuracy: 0.8173\n",
      "Epoch 70: saving model to checkpoints_optimization2/weights.70.hdf5\n",
      "804/804 [==============================] - 5s 7ms/step - loss: 0.3881 - accuracy: 0.8173\n",
      "Epoch 71/100\n",
      "804/804 [==============================] - 6s 7ms/step - loss: 0.3879 - accuracy: 0.8174\n",
      "Epoch 72/100\n",
      "804/804 [==============================] - 6s 7ms/step - loss: 0.3876 - accuracy: 0.8175\n",
      "Epoch 73/100\n",
      "804/804 [==============================] - 6s 7ms/step - loss: 0.3887 - accuracy: 0.8174\n",
      "Epoch 74/100\n",
      "804/804 [==============================] - 6s 7ms/step - loss: 0.3878 - accuracy: 0.8173\n",
      "Epoch 75/100\n",
      "802/804 [============================>.] - ETA: 0s - loss: 0.3906 - accuracy: 0.8166\n",
      "Epoch 75: saving model to checkpoints_optimization2/weights.75.hdf5\n",
      "804/804 [==============================] - 6s 7ms/step - loss: 0.3906 - accuracy: 0.8166\n",
      "Epoch 76/100\n",
      "804/804 [==============================] - 6s 8ms/step - loss: 0.4026 - accuracy: 0.8167\n",
      "Epoch 77/100\n",
      "804/804 [==============================] - 6s 7ms/step - loss: 0.3885 - accuracy: 0.8166\n",
      "Epoch 78/100\n",
      "804/804 [==============================] - 6s 7ms/step - loss: 0.3878 - accuracy: 0.8174\n",
      "Epoch 79/100\n",
      "804/804 [==============================] - 6s 8ms/step - loss: 0.3881 - accuracy: 0.8176\n",
      "Epoch 80/100\n",
      "800/804 [============================>.] - ETA: 0s - loss: 0.3877 - accuracy: 0.8177\n",
      "Epoch 80: saving model to checkpoints_optimization2/weights.80.hdf5\n",
      "804/804 [==============================] - 6s 7ms/step - loss: 0.3879 - accuracy: 0.8176\n",
      "Epoch 81/100\n",
      "804/804 [==============================] - 6s 7ms/step - loss: 0.3880 - accuracy: 0.8173\n",
      "Epoch 82/100\n",
      "804/804 [==============================] - 6s 7ms/step - loss: 0.3896 - accuracy: 0.8173\n",
      "Epoch 83/100\n",
      "804/804 [==============================] - 6s 7ms/step - loss: 0.3881 - accuracy: 0.8176\n",
      "Epoch 84/100\n",
      "804/804 [==============================] - 6s 7ms/step - loss: 0.3953 - accuracy: 0.8167\n",
      "Epoch 85/100\n",
      "801/804 [============================>.] - ETA: 0s - loss: 0.3909 - accuracy: 0.8169\n",
      "Epoch 85: saving model to checkpoints_optimization2/weights.85.hdf5\n",
      "804/804 [==============================] - 6s 7ms/step - loss: 0.3908 - accuracy: 0.8170\n",
      "Epoch 86/100\n",
      "804/804 [==============================] - 6s 7ms/step - loss: 0.3890 - accuracy: 0.8176\n",
      "Epoch 87/100\n",
      "804/804 [==============================] - 6s 7ms/step - loss: 0.3885 - accuracy: 0.8174\n",
      "Epoch 88/100\n",
      "804/804 [==============================] - 6s 7ms/step - loss: 0.3863 - accuracy: 0.8177\n",
      "Epoch 89/100\n",
      "804/804 [==============================] - 6s 7ms/step - loss: 0.3872 - accuracy: 0.8175\n",
      "Epoch 90/100\n",
      "797/804 [============================>.] - ETA: 0s - loss: 0.3871 - accuracy: 0.8174\n",
      "Epoch 90: saving model to checkpoints_optimization2/weights.90.hdf5\n",
      "804/804 [==============================] - 6s 7ms/step - loss: 0.3875 - accuracy: 0.8170\n",
      "Epoch 91/100\n",
      "804/804 [==============================] - 6s 7ms/step - loss: 0.3894 - accuracy: 0.8170\n",
      "Epoch 92/100\n",
      "804/804 [==============================] - 6s 7ms/step - loss: 0.3937 - accuracy: 0.8171\n",
      "Epoch 93/100\n",
      "804/804 [==============================] - 6s 7ms/step - loss: 0.3948 - accuracy: 0.8168\n",
      "Epoch 94/100\n",
      "804/804 [==============================] - 6s 7ms/step - loss: 0.4113 - accuracy: 0.8169\n",
      "Epoch 95/100\n",
      "804/804 [==============================] - ETA: 0s - loss: 0.3888 - accuracy: 0.8180\n",
      "Epoch 95: saving model to checkpoints_optimization2/weights.95.hdf5\n",
      "804/804 [==============================] - 6s 7ms/step - loss: 0.3888 - accuracy: 0.8180\n",
      "Epoch 96/100\n",
      "804/804 [==============================] - 6s 7ms/step - loss: 0.3862 - accuracy: 0.8171\n",
      "Epoch 97/100\n",
      "804/804 [==============================] - 6s 7ms/step - loss: 0.3866 - accuracy: 0.8177\n",
      "Epoch 98/100\n",
      "804/804 [==============================] - 5s 7ms/step - loss: 0.3872 - accuracy: 0.8174\n",
      "Epoch 99/100\n",
      "804/804 [==============================] - 6s 7ms/step - loss: 0.3866 - accuracy: 0.8172\n",
      "Epoch 100/100\n",
      "803/804 [============================>.] - ETA: 0s - loss: 0.3866 - accuracy: 0.8179\n",
      "Epoch 100: saving model to checkpoints_optimization2/weights.100.hdf5\n",
      "804/804 [==============================] - 6s 7ms/step - loss: 0.3867 - accuracy: 0.8180\n"
     ]
    }
   ],
   "source": [
    "# Train the model\n",
    "fit_model = nn2.fit(X_train_scaled, y_train, epochs=100, callbacks=[cp_callback])"
   ]
  },
  {
   "cell_type": "code",
   "execution_count": 42,
   "metadata": {},
   "outputs": [
    {
     "name": "stderr",
     "output_type": "stream",
     "text": [
      "2022-10-30 15:28:28.836882: I tensorflow/core/grappler/optimizers/custom_graph_optimizer_registry.cc:114] Plugin optimizer for device_type GPU is enabled.\n"
     ]
    },
    {
     "name": "stdout",
     "output_type": "stream",
     "text": [
      "268/268 - 1s - loss: 1.7730 - accuracy: 0.7981 - 1s/epoch - 4ms/step\n",
      "Loss: 1.77295982837677, Accuracy: 0.7981340885162354\n"
     ]
    }
   ],
   "source": [
    "# Evaluate the model using the test data\n",
    "model_loss, model_accuracy = nn2.evaluate(X_test_scaled,y_test,verbose=2)\n",
    "print(f\"Loss: {model_loss}, Accuracy: {model_accuracy}\")"
   ]
  },
  {
   "cell_type": "markdown",
   "metadata": {},
   "source": [
    "### Optimization Trial 3"
   ]
  },
  {
   "cell_type": "code",
   "execution_count": 43,
   "metadata": {},
   "outputs": [
    {
     "name": "stdout",
     "output_type": "stream",
     "text": [
      "Model: \"sequential_2\"\n",
      "_________________________________________________________________\n",
      " Layer (type)                Output Shape              Param #   \n",
      "=================================================================\n",
      " dense_6 (Dense)             (None, 400)               331200    \n",
      "                                                                 \n",
      " dense_7 (Dense)             (None, 200)               80200     \n",
      "                                                                 \n",
      " dense_8 (Dense)             (None, 1)                 201       \n",
      "                                                                 \n",
      "=================================================================\n",
      "Total params: 411,601\n",
      "Trainable params: 411,601\n",
      "Non-trainable params: 0\n",
      "_________________________________________________________________\n"
     ]
    }
   ],
   "source": [
    "# Define the model - deep neural net, i.e., the number of input features and hidden nodes for each layer.\n",
    "number_input_features = len(X_train.columns)\n",
    "hidden_nodes_layer1 = 400\n",
    "hidden_nodes_layer2 = 200\n",
    "\n",
    "nn3 = tf.keras.models.Sequential()\n",
    "\n",
    "# First hidden layer\n",
    "nn3.add(\n",
    "    tf.keras.layers.Dense(units=hidden_nodes_layer1, input_dim=number_input_features, activation=\"relu\")\n",
    ")\n",
    "\n",
    "# Second hidden layer\n",
    "nn3.add(\n",
    "    tf.keras.layers.Dense(units=hidden_nodes_layer2, activation=\"relu\")\n",
    ")\n",
    "\n",
    "# Output layer\n",
    "nn3.add(tf.keras.layers.Dense(units=1, activation=\"sigmoid\"))\n",
    "\n",
    "# Check the structure of the model\n",
    "nn3.summary()"
   ]
  },
  {
   "cell_type": "code",
   "execution_count": 44,
   "metadata": {},
   "outputs": [],
   "source": [
    "# Import checkpoint dependencies\n",
    "import os\n",
    "from tensorflow.keras.callbacks import ModelCheckpoint\n",
    "\n",
    "# Define the checkpoint path and filenames\n",
    "os.makedirs(\"checkpoints_optimization3/\", exist_ok=True)\n",
    "checkpoint_path = \"checkpoints_optimization3/weights.{epoch:02d}.hdf5\""
   ]
  },
  {
   "cell_type": "code",
   "execution_count": 45,
   "metadata": {},
   "outputs": [
    {
     "name": "stdout",
     "output_type": "stream",
     "text": [
      "WARNING:tensorflow:`period` argument is deprecated. Please use `save_freq` to specify the frequency in number of batches seen.\n"
     ]
    }
   ],
   "source": [
    "# Compile the model\n",
    "nn3.compile(loss=\"binary_crossentropy\", optimizer=\"adam\", metrics=[\"accuracy\"])\n",
    "\n",
    "# Create a callback that saves the model's weights every 5 epochs\n",
    "cp_callback = ModelCheckpoint(\n",
    "    filepath=checkpoint_path,\n",
    "    verbose=1,\n",
    "    save_weights_only=True,\n",
    "    save_freq='epoch',\n",
    "    period=5\n",
    ")"
   ]
  },
  {
   "cell_type": "code",
   "execution_count": 46,
   "metadata": {
    "collapsed": true,
    "jupyter": {
     "outputs_hidden": true
    }
   },
   "outputs": [
    {
     "name": "stdout",
     "output_type": "stream",
     "text": [
      "Epoch 1/100\n",
      "  9/804 [..............................] - ETA: 5s - loss: 0.7326 - accuracy: 0.6319  "
     ]
    },
    {
     "name": "stderr",
     "output_type": "stream",
     "text": [
      "2022-10-30 15:28:30.321813: I tensorflow/core/grappler/optimizers/custom_graph_optimizer_registry.cc:114] Plugin optimizer for device_type GPU is enabled.\n"
     ]
    },
    {
     "name": "stdout",
     "output_type": "stream",
     "text": [
      "804/804 [==============================] - 5s 6ms/step - loss: 0.4713 - accuracy: 0.7838\n",
      "Epoch 2/100\n",
      "804/804 [==============================] - 4s 6ms/step - loss: 0.4201 - accuracy: 0.8039\n",
      "Epoch 3/100\n",
      "804/804 [==============================] - 5s 6ms/step - loss: 0.4155 - accuracy: 0.8052\n",
      "Epoch 4/100\n",
      "804/804 [==============================] - 4s 5ms/step - loss: 0.4116 - accuracy: 0.8052\n",
      "Epoch 5/100\n",
      "802/804 [============================>.] - ETA: 0s - loss: 0.4103 - accuracy: 0.8067\n",
      "Epoch 5: saving model to checkpoints_optimization3/weights.05.hdf5\n",
      "804/804 [==============================] - 4s 5ms/step - loss: 0.4105 - accuracy: 0.8066\n",
      "Epoch 6/100\n",
      "804/804 [==============================] - 4s 5ms/step - loss: 0.4093 - accuracy: 0.8081\n",
      "Epoch 7/100\n",
      "804/804 [==============================] - 4s 5ms/step - loss: 0.4089 - accuracy: 0.8083\n",
      "Epoch 8/100\n",
      "804/804 [==============================] - 4s 5ms/step - loss: 0.4081 - accuracy: 0.8092\n",
      "Epoch 9/100\n",
      "804/804 [==============================] - 4s 5ms/step - loss: 0.4074 - accuracy: 0.8102\n",
      "Epoch 10/100\n",
      "801/804 [============================>.] - ETA: 0s - loss: 0.4056 - accuracy: 0.8095\n",
      "Epoch 10: saving model to checkpoints_optimization3/weights.10.hdf5\n",
      "804/804 [==============================] - 4s 5ms/step - loss: 0.4056 - accuracy: 0.8094\n",
      "Epoch 11/100\n",
      "804/804 [==============================] - 4s 5ms/step - loss: 0.4059 - accuracy: 0.8103\n",
      "Epoch 12/100\n",
      "804/804 [==============================] - 4s 5ms/step - loss: 0.4044 - accuracy: 0.8094\n",
      "Epoch 13/100\n",
      "804/804 [==============================] - 4s 5ms/step - loss: 0.4048 - accuracy: 0.8108\n",
      "Epoch 14/100\n",
      "804/804 [==============================] - 4s 5ms/step - loss: 0.4037 - accuracy: 0.8112\n",
      "Epoch 15/100\n",
      "795/804 [============================>.] - ETA: 0s - loss: 0.4028 - accuracy: 0.8111\n",
      "Epoch 15: saving model to checkpoints_optimization3/weights.15.hdf5\n",
      "804/804 [==============================] - 4s 5ms/step - loss: 0.4025 - accuracy: 0.8111\n",
      "Epoch 16/100\n",
      "804/804 [==============================] - 4s 5ms/step - loss: 0.4026 - accuracy: 0.8112\n",
      "Epoch 17/100\n",
      "804/804 [==============================] - 4s 5ms/step - loss: 0.4014 - accuracy: 0.8119\n",
      "Epoch 18/100\n",
      "804/804 [==============================] - 4s 5ms/step - loss: 0.4015 - accuracy: 0.8125\n",
      "Epoch 19/100\n",
      "804/804 [==============================] - 4s 6ms/step - loss: 0.4009 - accuracy: 0.8127\n",
      "Epoch 20/100\n",
      "799/804 [============================>.] - ETA: 0s - loss: 0.4009 - accuracy: 0.8120\n",
      "Epoch 20: saving model to checkpoints_optimization3/weights.20.hdf5\n",
      "804/804 [==============================] - 4s 5ms/step - loss: 0.4009 - accuracy: 0.8120\n",
      "Epoch 21/100\n",
      "804/804 [==============================] - 4s 5ms/step - loss: 0.4003 - accuracy: 0.8129\n",
      "Epoch 22/100\n",
      "804/804 [==============================] - 4s 6ms/step - loss: 0.3991 - accuracy: 0.8129\n",
      "Epoch 23/100\n",
      "804/804 [==============================] - 4s 5ms/step - loss: 0.3990 - accuracy: 0.8131\n",
      "Epoch 24/100\n",
      "804/804 [==============================] - 4s 5ms/step - loss: 0.3979 - accuracy: 0.8137\n",
      "Epoch 25/100\n",
      "801/804 [============================>.] - ETA: 0s - loss: 0.3979 - accuracy: 0.8140\n",
      "Epoch 25: saving model to checkpoints_optimization3/weights.25.hdf5\n",
      "804/804 [==============================] - 4s 5ms/step - loss: 0.3983 - accuracy: 0.8139\n",
      "Epoch 26/100\n",
      "804/804 [==============================] - 4s 5ms/step - loss: 0.3978 - accuracy: 0.8146\n",
      "Epoch 27/100\n",
      "804/804 [==============================] - 4s 5ms/step - loss: 0.3967 - accuracy: 0.8146\n",
      "Epoch 28/100\n",
      "804/804 [==============================] - 4s 5ms/step - loss: 0.3967 - accuracy: 0.8142\n",
      "Epoch 29/100\n",
      "804/804 [==============================] - 4s 5ms/step - loss: 0.3959 - accuracy: 0.8140\n",
      "Epoch 30/100\n",
      "802/804 [============================>.] - ETA: 0s - loss: 0.3980 - accuracy: 0.8150\n",
      "Epoch 30: saving model to checkpoints_optimization3/weights.30.hdf5\n",
      "804/804 [==============================] - 4s 5ms/step - loss: 0.3980 - accuracy: 0.8149\n",
      "Epoch 31/100\n",
      "804/804 [==============================] - 4s 5ms/step - loss: 0.3965 - accuracy: 0.8155\n",
      "Epoch 32/100\n",
      "804/804 [==============================] - 4s 6ms/step - loss: 0.3953 - accuracy: 0.8149\n",
      "Epoch 33/100\n",
      "804/804 [==============================] - 4s 6ms/step - loss: 0.3953 - accuracy: 0.8154\n",
      "Epoch 34/100\n",
      "804/804 [==============================] - 4s 6ms/step - loss: 0.3949 - accuracy: 0.8157\n",
      "Epoch 35/100\n",
      "798/804 [============================>.] - ETA: 0s - loss: 0.3944 - accuracy: 0.8150\n",
      "Epoch 35: saving model to checkpoints_optimization3/weights.35.hdf5\n",
      "804/804 [==============================] - 4s 6ms/step - loss: 0.3940 - accuracy: 0.8154\n",
      "Epoch 36/100\n",
      "804/804 [==============================] - 4s 5ms/step - loss: 0.3942 - accuracy: 0.8159\n",
      "Epoch 37/100\n",
      "804/804 [==============================] - 5s 6ms/step - loss: 0.3944 - accuracy: 0.8157\n",
      "Epoch 38/100\n",
      "804/804 [==============================] - 4s 5ms/step - loss: 0.3936 - accuracy: 0.8155\n",
      "Epoch 39/100\n",
      "804/804 [==============================] - 4s 5ms/step - loss: 0.3927 - accuracy: 0.8158\n",
      "Epoch 40/100\n",
      "802/804 [============================>.] - ETA: 0s - loss: 0.3931 - accuracy: 0.8157\n",
      "Epoch 40: saving model to checkpoints_optimization3/weights.40.hdf5\n",
      "804/804 [==============================] - 4s 5ms/step - loss: 0.3930 - accuracy: 0.8157\n",
      "Epoch 41/100\n",
      "804/804 [==============================] - 4s 5ms/step - loss: 0.3930 - accuracy: 0.8157\n",
      "Epoch 42/100\n",
      "804/804 [==============================] - 4s 5ms/step - loss: 0.3936 - accuracy: 0.8155\n",
      "Epoch 43/100\n",
      "804/804 [==============================] - 4s 5ms/step - loss: 0.3919 - accuracy: 0.8164\n",
      "Epoch 44/100\n",
      "804/804 [==============================] - 4s 5ms/step - loss: 0.3921 - accuracy: 0.8164\n",
      "Epoch 45/100\n",
      "796/804 [============================>.] - ETA: 0s - loss: 0.3926 - accuracy: 0.8171\n",
      "Epoch 45: saving model to checkpoints_optimization3/weights.45.hdf5\n",
      "804/804 [==============================] - 4s 5ms/step - loss: 0.3929 - accuracy: 0.8167\n",
      "Epoch 46/100\n",
      "804/804 [==============================] - 4s 5ms/step - loss: 0.3911 - accuracy: 0.8163\n",
      "Epoch 47/100\n",
      "804/804 [==============================] - 4s 5ms/step - loss: 0.3921 - accuracy: 0.8166\n",
      "Epoch 48/100\n",
      "804/804 [==============================] - 4s 5ms/step - loss: 0.3925 - accuracy: 0.8166\n",
      "Epoch 49/100\n",
      "804/804 [==============================] - 4s 5ms/step - loss: 0.3910 - accuracy: 0.8170\n",
      "Epoch 50/100\n",
      "801/804 [============================>.] - ETA: 0s - loss: 0.3908 - accuracy: 0.8178\n",
      "Epoch 50: saving model to checkpoints_optimization3/weights.50.hdf5\n",
      "804/804 [==============================] - 4s 5ms/step - loss: 0.3907 - accuracy: 0.8178\n",
      "Epoch 51/100\n",
      "804/804 [==============================] - 4s 5ms/step - loss: 0.3908 - accuracy: 0.8166\n",
      "Epoch 52/100\n",
      "804/804 [==============================] - 4s 6ms/step - loss: 0.3906 - accuracy: 0.8166\n",
      "Epoch 53/100\n",
      "804/804 [==============================] - 4s 5ms/step - loss: 0.3911 - accuracy: 0.8158\n",
      "Epoch 54/100\n",
      "804/804 [==============================] - 4s 5ms/step - loss: 0.3899 - accuracy: 0.8168\n",
      "Epoch 55/100\n",
      "799/804 [============================>.] - ETA: 0s - loss: 0.3900 - accuracy: 0.8163\n",
      "Epoch 55: saving model to checkpoints_optimization3/weights.55.hdf5\n",
      "804/804 [==============================] - 5s 6ms/step - loss: 0.3903 - accuracy: 0.8160\n",
      "Epoch 56/100\n",
      "804/804 [==============================] - 5s 6ms/step - loss: 0.3892 - accuracy: 0.8170\n",
      "Epoch 57/100\n",
      "804/804 [==============================] - 4s 5ms/step - loss: 0.3895 - accuracy: 0.8170\n",
      "Epoch 58/100\n",
      "804/804 [==============================] - 4s 5ms/step - loss: 0.3898 - accuracy: 0.8168\n",
      "Epoch 59/100\n",
      "804/804 [==============================] - 4s 5ms/step - loss: 0.3892 - accuracy: 0.8174\n",
      "Epoch 60/100\n",
      "801/804 [============================>.] - ETA: 0s - loss: 0.3893 - accuracy: 0.8177\n",
      "Epoch 60: saving model to checkpoints_optimization3/weights.60.hdf5\n",
      "804/804 [==============================] - 4s 5ms/step - loss: 0.3894 - accuracy: 0.8176\n",
      "Epoch 61/100\n",
      "804/804 [==============================] - 4s 5ms/step - loss: 0.3911 - accuracy: 0.8170\n",
      "Epoch 62/100\n",
      "804/804 [==============================] - 4s 6ms/step - loss: 0.3916 - accuracy: 0.8168\n",
      "Epoch 63/100\n",
      "804/804 [==============================] - 4s 5ms/step - loss: 0.3903 - accuracy: 0.8173\n",
      "Epoch 64/100\n",
      "804/804 [==============================] - 4s 5ms/step - loss: 0.3891 - accuracy: 0.8175\n",
      "Epoch 65/100\n",
      "799/804 [============================>.] - ETA: 0s - loss: 0.3880 - accuracy: 0.8173\n",
      "Epoch 65: saving model to checkpoints_optimization3/weights.65.hdf5\n",
      "804/804 [==============================] - 4s 5ms/step - loss: 0.3878 - accuracy: 0.8174\n",
      "Epoch 66/100\n",
      "804/804 [==============================] - 4s 5ms/step - loss: 0.3884 - accuracy: 0.8174\n",
      "Epoch 67/100\n",
      "804/804 [==============================] - 4s 5ms/step - loss: 0.3876 - accuracy: 0.8181\n",
      "Epoch 68/100\n",
      "804/804 [==============================] - 5s 6ms/step - loss: 0.3880 - accuracy: 0.8171\n",
      "Epoch 69/100\n",
      "804/804 [==============================] - 4s 5ms/step - loss: 0.3879 - accuracy: 0.8180\n",
      "Epoch 70/100\n",
      "795/804 [============================>.] - ETA: 0s - loss: 0.3868 - accuracy: 0.8186\n",
      "Epoch 70: saving model to checkpoints_optimization3/weights.70.hdf5\n",
      "804/804 [==============================] - 4s 5ms/step - loss: 0.3875 - accuracy: 0.8181\n",
      "Epoch 71/100\n",
      "804/804 [==============================] - 4s 5ms/step - loss: 0.3872 - accuracy: 0.8180\n",
      "Epoch 72/100\n",
      "804/804 [==============================] - 4s 5ms/step - loss: 0.3952 - accuracy: 0.8171\n",
      "Epoch 73/100\n",
      "804/804 [==============================] - 4s 5ms/step - loss: 0.3886 - accuracy: 0.8172\n",
      "Epoch 74/100\n",
      "804/804 [==============================] - 4s 6ms/step - loss: 0.3865 - accuracy: 0.8180\n",
      "Epoch 75/100\n",
      "798/804 [============================>.] - ETA: 0s - loss: 0.3862 - accuracy: 0.8185\n",
      "Epoch 75: saving model to checkpoints_optimization3/weights.75.hdf5\n",
      "804/804 [==============================] - 5s 6ms/step - loss: 0.3867 - accuracy: 0.8183\n",
      "Epoch 76/100\n",
      "804/804 [==============================] - 5s 6ms/step - loss: 0.3966 - accuracy: 0.8176\n",
      "Epoch 77/100\n",
      "804/804 [==============================] - 5s 6ms/step - loss: 0.3935 - accuracy: 0.8176\n",
      "Epoch 78/100\n",
      "804/804 [==============================] - 5s 6ms/step - loss: 0.3872 - accuracy: 0.8178\n",
      "Epoch 79/100\n",
      "804/804 [==============================] - 4s 5ms/step - loss: 0.3858 - accuracy: 0.8181\n",
      "Epoch 80/100\n",
      "804/804 [==============================] - ETA: 0s - loss: 0.3869 - accuracy: 0.8180\n",
      "Epoch 80: saving model to checkpoints_optimization3/weights.80.hdf5\n",
      "804/804 [==============================] - 5s 6ms/step - loss: 0.3869 - accuracy: 0.8180\n",
      "Epoch 81/100\n",
      "804/804 [==============================] - 4s 5ms/step - loss: 0.3868 - accuracy: 0.8183\n",
      "Epoch 82/100\n",
      "804/804 [==============================] - 4s 5ms/step - loss: 0.3861 - accuracy: 0.8181\n",
      "Epoch 83/100\n",
      "804/804 [==============================] - 4s 5ms/step - loss: 0.3860 - accuracy: 0.8177\n",
      "Epoch 84/100\n",
      "804/804 [==============================] - 4s 5ms/step - loss: 0.3867 - accuracy: 0.8177\n",
      "Epoch 85/100\n",
      "798/804 [============================>.] - ETA: 0s - loss: 0.3860 - accuracy: 0.8176\n",
      "Epoch 85: saving model to checkpoints_optimization3/weights.85.hdf5\n",
      "804/804 [==============================] - 4s 5ms/step - loss: 0.3860 - accuracy: 0.8177\n",
      "Epoch 86/100\n",
      "804/804 [==============================] - 4s 5ms/step - loss: 0.3868 - accuracy: 0.8187\n",
      "Epoch 87/100\n",
      "804/804 [==============================] - 4s 6ms/step - loss: 0.3874 - accuracy: 0.8182\n",
      "Epoch 88/100\n",
      "804/804 [==============================] - 4s 5ms/step - loss: 0.3866 - accuracy: 0.8185\n",
      "Epoch 89/100\n",
      "804/804 [==============================] - 4s 5ms/step - loss: 0.3876 - accuracy: 0.8179\n",
      "Epoch 90/100\n",
      "798/804 [============================>.] - ETA: 0s - loss: 0.3890 - accuracy: 0.8179\n",
      "Epoch 90: saving model to checkpoints_optimization3/weights.90.hdf5\n",
      "804/804 [==============================] - 5s 6ms/step - loss: 0.3890 - accuracy: 0.8179\n",
      "Epoch 91/100\n",
      "804/804 [==============================] - 4s 6ms/step - loss: 0.3876 - accuracy: 0.8186\n",
      "Epoch 92/100\n",
      "804/804 [==============================] - 4s 6ms/step - loss: 0.3845 - accuracy: 0.8187\n",
      "Epoch 93/100\n",
      "804/804 [==============================] - 4s 5ms/step - loss: 0.3880 - accuracy: 0.8182\n",
      "Epoch 94/100\n",
      "804/804 [==============================] - 4s 6ms/step - loss: 0.3846 - accuracy: 0.8178\n",
      "Epoch 95/100\n",
      "800/804 [============================>.] - ETA: 0s - loss: 0.3853 - accuracy: 0.8184\n",
      "Epoch 95: saving model to checkpoints_optimization3/weights.95.hdf5\n",
      "804/804 [==============================] - 4s 5ms/step - loss: 0.3850 - accuracy: 0.8186\n",
      "Epoch 96/100\n",
      "804/804 [==============================] - 4s 5ms/step - loss: 0.3849 - accuracy: 0.8182\n",
      "Epoch 97/100\n",
      "804/804 [==============================] - 4s 6ms/step - loss: 0.3849 - accuracy: 0.8183\n",
      "Epoch 98/100\n",
      "804/804 [==============================] - 4s 6ms/step - loss: 0.3855 - accuracy: 0.8182\n",
      "Epoch 99/100\n",
      "804/804 [==============================] - 4s 5ms/step - loss: 0.3859 - accuracy: 0.8181\n",
      "Epoch 100/100\n",
      "801/804 [============================>.] - ETA: 0s - loss: 0.3896 - accuracy: 0.8182\n",
      "Epoch 100: saving model to checkpoints_optimization3/weights.100.hdf5\n",
      "804/804 [==============================] - 5s 6ms/step - loss: 0.3900 - accuracy: 0.8180\n"
     ]
    }
   ],
   "source": [
    "# Train the model\n",
    "fit_model = nn3.fit(X_train_scaled, y_train, epochs=100, callbacks=[cp_callback])"
   ]
  },
  {
   "cell_type": "code",
   "execution_count": 47,
   "metadata": {},
   "outputs": [
    {
     "name": "stderr",
     "output_type": "stream",
     "text": [
      "2022-10-30 15:35:50.183070: I tensorflow/core/grappler/optimizers/custom_graph_optimizer_registry.cc:114] Plugin optimizer for device_type GPU is enabled.\n"
     ]
    },
    {
     "name": "stdout",
     "output_type": "stream",
     "text": [
      "268/268 - 1s - loss: 1.1420 - accuracy: 0.7974 - 988ms/epoch - 4ms/step\n",
      "Loss: 1.1419895887374878, Accuracy: 0.797434389591217\n"
     ]
    }
   ],
   "source": [
    "# Evaluate the model using the test data\n",
    "model_loss, model_accuracy = nn3.evaluate(X_test_scaled,y_test,verbose=2)\n",
    "print(f\"Loss: {model_loss}, Accuracy: {model_accuracy}\")"
   ]
  },
  {
   "cell_type": "markdown",
   "metadata": {},
   "source": [
    "### Optimization Trial 4"
   ]
  },
  {
   "cell_type": "code",
   "execution_count": 48,
   "metadata": {},
   "outputs": [
    {
     "name": "stdout",
     "output_type": "stream",
     "text": [
      "Model: \"sequential_3\"\n",
      "_________________________________________________________________\n",
      " Layer (type)                Output Shape              Param #   \n",
      "=================================================================\n",
      " dense_9 (Dense)             (None, 102)               84456     \n",
      "                                                                 \n",
      " dense_10 (Dense)            (None, 18)                1854      \n",
      "                                                                 \n",
      " dense_11 (Dense)            (None, 16)                304       \n",
      "                                                                 \n",
      " dense_12 (Dense)            (None, 1)                 17        \n",
      "                                                                 \n",
      "=================================================================\n",
      "Total params: 86,631\n",
      "Trainable params: 86,631\n",
      "Non-trainable params: 0\n",
      "_________________________________________________________________\n"
     ]
    }
   ],
   "source": [
    "# Define the model - deep neural net, i.e., the number of input features and hidden nodes for each layer.\n",
    "number_input_features = len(X_train.columns)\n",
    "hidden_nodes_layer1 = 102\n",
    "hidden_nodes_layer2 = 18\n",
    "hidden_nodes_layer3 = 16\n",
    "\n",
    "nn4 = tf.keras.models.Sequential()\n",
    "\n",
    "# First hidden layer\n",
    "nn4.add(\n",
    "    tf.keras.layers.Dense(units=hidden_nodes_layer1, input_dim=number_input_features, activation=\"relu\")\n",
    ")\n",
    "\n",
    "# Second hidden layer\n",
    "nn4.add(\n",
    "    tf.keras.layers.Dense(units=hidden_nodes_layer2, activation=\"relu\")\n",
    ")\n",
    "\n",
    "# Third hidden layer\n",
    "nn4.add(\n",
    "    tf.keras.layers.Dense(units=hidden_nodes_layer3, activation=\"relu\")\n",
    ")\n",
    "\n",
    "# Output layer\n",
    "nn4.add(tf.keras.layers.Dense(units=1, activation=\"sigmoid\"))\n",
    "\n",
    "# Check the structure of the model\n",
    "nn4.summary()"
   ]
  },
  {
   "cell_type": "code",
   "execution_count": 49,
   "metadata": {},
   "outputs": [],
   "source": [
    "# Import checkpoint dependencies\n",
    "import os\n",
    "from tensorflow.keras.callbacks import ModelCheckpoint\n",
    "\n",
    "# Define the checkpoint path and filenames\n",
    "os.makedirs(\"checkpoints_optimization4/\", exist_ok=True)\n",
    "checkpoint_path = \"checkpoints_optimization4/weights.{epoch:02d}.hdf5\""
   ]
  },
  {
   "cell_type": "code",
   "execution_count": 50,
   "metadata": {},
   "outputs": [
    {
     "name": "stdout",
     "output_type": "stream",
     "text": [
      "WARNING:tensorflow:`period` argument is deprecated. Please use `save_freq` to specify the frequency in number of batches seen.\n"
     ]
    }
   ],
   "source": [
    "# Compile the model\n",
    "nn4.compile(loss=\"binary_crossentropy\", optimizer=\"adam\", metrics=[\"accuracy\"])\n",
    "\n",
    "# Create a callback that saves the model's weights every 5 epochs\n",
    "cp_callback = ModelCheckpoint(\n",
    "    filepath=checkpoint_path,\n",
    "    verbose=1,\n",
    "    save_weights_only=True,\n",
    "    save_freq='epoch',\n",
    "    period=5\n",
    ")"
   ]
  },
  {
   "cell_type": "code",
   "execution_count": 51,
   "metadata": {
    "collapsed": true,
    "jupyter": {
     "outputs_hidden": true
    }
   },
   "outputs": [
    {
     "name": "stdout",
     "output_type": "stream",
     "text": [
      "Epoch 1/100\n",
      "  9/804 [..............................] - ETA: 5s - loss: 0.7605 - accuracy: 0.6285  "
     ]
    },
    {
     "name": "stderr",
     "output_type": "stream",
     "text": [
      "2022-10-30 15:35:51.638245: I tensorflow/core/grappler/optimizers/custom_graph_optimizer_registry.cc:114] Plugin optimizer for device_type GPU is enabled.\n"
     ]
    },
    {
     "name": "stdout",
     "output_type": "stream",
     "text": [
      "804/804 [==============================] - 4s 5ms/step - loss: 0.4732 - accuracy: 0.7818\n",
      "Epoch 2/100\n",
      "804/804 [==============================] - 4s 5ms/step - loss: 0.4209 - accuracy: 0.8030\n",
      "Epoch 3/100\n",
      "804/804 [==============================] - 4s 5ms/step - loss: 0.4146 - accuracy: 0.8052\n",
      "Epoch 4/100\n",
      "804/804 [==============================] - 4s 5ms/step - loss: 0.4118 - accuracy: 0.8066\n",
      "Epoch 5/100\n",
      "800/804 [============================>.] - ETA: 0s - loss: 0.4092 - accuracy: 0.8095\n",
      "Epoch 5: saving model to checkpoints_optimization4/weights.05.hdf5\n",
      "804/804 [==============================] - 4s 5ms/step - loss: 0.4096 - accuracy: 0.8092\n",
      "Epoch 6/100\n",
      "804/804 [==============================] - 4s 5ms/step - loss: 0.4080 - accuracy: 0.8082\n",
      "Epoch 7/100\n",
      "804/804 [==============================] - 4s 5ms/step - loss: 0.4082 - accuracy: 0.8082\n",
      "Epoch 8/100\n",
      "804/804 [==============================] - 4s 5ms/step - loss: 0.4071 - accuracy: 0.8096\n",
      "Epoch 9/100\n",
      "804/804 [==============================] - 4s 5ms/step - loss: 0.4057 - accuracy: 0.8087\n",
      "Epoch 10/100\n",
      "801/804 [============================>.] - ETA: 0s - loss: 0.4048 - accuracy: 0.8097\n",
      "Epoch 10: saving model to checkpoints_optimization4/weights.10.hdf5\n",
      "804/804 [==============================] - 4s 5ms/step - loss: 0.4048 - accuracy: 0.8097\n",
      "Epoch 11/100\n",
      "804/804 [==============================] - 4s 5ms/step - loss: 0.4038 - accuracy: 0.8107\n",
      "Epoch 12/100\n",
      "804/804 [==============================] - 4s 5ms/step - loss: 0.4035 - accuracy: 0.8103\n",
      "Epoch 13/100\n",
      "804/804 [==============================] - 4s 5ms/step - loss: 0.4033 - accuracy: 0.8104\n",
      "Epoch 14/100\n",
      "804/804 [==============================] - 4s 5ms/step - loss: 0.4029 - accuracy: 0.8117\n",
      "Epoch 15/100\n",
      "804/804 [==============================] - ETA: 0s - loss: 0.4026 - accuracy: 0.8115\n",
      "Epoch 15: saving model to checkpoints_optimization4/weights.15.hdf5\n",
      "804/804 [==============================] - 4s 5ms/step - loss: 0.4026 - accuracy: 0.8115\n",
      "Epoch 16/100\n",
      "804/804 [==============================] - 4s 5ms/step - loss: 0.4014 - accuracy: 0.8129\n",
      "Epoch 17/100\n",
      "804/804 [==============================] - 4s 5ms/step - loss: 0.4012 - accuracy: 0.8122\n",
      "Epoch 18/100\n",
      "804/804 [==============================] - 4s 5ms/step - loss: 0.4007 - accuracy: 0.8116\n",
      "Epoch 19/100\n",
      "804/804 [==============================] - 4s 5ms/step - loss: 0.4006 - accuracy: 0.8124\n",
      "Epoch 20/100\n",
      "800/804 [============================>.] - ETA: 0s - loss: 0.4005 - accuracy: 0.8125\n",
      "Epoch 20: saving model to checkpoints_optimization4/weights.20.hdf5\n",
      "804/804 [==============================] - 4s 5ms/step - loss: 0.4002 - accuracy: 0.8127\n",
      "Epoch 21/100\n",
      "804/804 [==============================] - 4s 5ms/step - loss: 0.3998 - accuracy: 0.8120\n",
      "Epoch 22/100\n",
      "804/804 [==============================] - 4s 5ms/step - loss: 0.3988 - accuracy: 0.8124\n",
      "Epoch 23/100\n",
      "804/804 [==============================] - 4s 5ms/step - loss: 0.3990 - accuracy: 0.8120\n",
      "Epoch 24/100\n",
      "804/804 [==============================] - 4s 5ms/step - loss: 0.3978 - accuracy: 0.8133\n",
      "Epoch 25/100\n",
      "802/804 [============================>.] - ETA: 0s - loss: 0.3980 - accuracy: 0.8133\n",
      "Epoch 25: saving model to checkpoints_optimization4/weights.25.hdf5\n",
      "804/804 [==============================] - 4s 5ms/step - loss: 0.3981 - accuracy: 0.8132\n",
      "Epoch 26/100\n",
      "804/804 [==============================] - 4s 5ms/step - loss: 0.3976 - accuracy: 0.8138\n",
      "Epoch 27/100\n",
      "804/804 [==============================] - 4s 5ms/step - loss: 0.3969 - accuracy: 0.8145\n",
      "Epoch 28/100\n",
      "804/804 [==============================] - 4s 5ms/step - loss: 0.3970 - accuracy: 0.8141\n",
      "Epoch 29/100\n",
      "804/804 [==============================] - 4s 5ms/step - loss: 0.3964 - accuracy: 0.8141\n",
      "Epoch 30/100\n",
      "803/804 [============================>.] - ETA: 0s - loss: 0.3960 - accuracy: 0.8148\n",
      "Epoch 30: saving model to checkpoints_optimization4/weights.30.hdf5\n",
      "804/804 [==============================] - 4s 5ms/step - loss: 0.3960 - accuracy: 0.8148\n",
      "Epoch 31/100\n",
      "804/804 [==============================] - 4s 5ms/step - loss: 0.3960 - accuracy: 0.8146\n",
      "Epoch 32/100\n",
      "804/804 [==============================] - 4s 5ms/step - loss: 0.3955 - accuracy: 0.8148\n",
      "Epoch 33/100\n",
      "804/804 [==============================] - 4s 5ms/step - loss: 0.3957 - accuracy: 0.8150\n",
      "Epoch 34/100\n",
      "804/804 [==============================] - 4s 5ms/step - loss: 0.3945 - accuracy: 0.8151\n",
      "Epoch 35/100\n",
      "795/804 [============================>.] - ETA: 0s - loss: 0.3949 - accuracy: 0.8147\n",
      "Epoch 35: saving model to checkpoints_optimization4/weights.35.hdf5\n",
      "804/804 [==============================] - 4s 5ms/step - loss: 0.3948 - accuracy: 0.8148\n",
      "Epoch 36/100\n",
      "804/804 [==============================] - 4s 5ms/step - loss: 0.3944 - accuracy: 0.8148\n",
      "Epoch 37/100\n",
      "804/804 [==============================] - 4s 5ms/step - loss: 0.3939 - accuracy: 0.8148\n",
      "Epoch 38/100\n",
      "804/804 [==============================] - 4s 5ms/step - loss: 0.3937 - accuracy: 0.8152\n",
      "Epoch 39/100\n",
      "804/804 [==============================] - 4s 5ms/step - loss: 0.3939 - accuracy: 0.8157\n",
      "Epoch 40/100\n",
      "801/804 [============================>.] - ETA: 0s - loss: 0.3935 - accuracy: 0.8157\n",
      "Epoch 40: saving model to checkpoints_optimization4/weights.40.hdf5\n",
      "804/804 [==============================] - 4s 5ms/step - loss: 0.3937 - accuracy: 0.8156\n",
      "Epoch 41/100\n",
      "804/804 [==============================] - 4s 5ms/step - loss: 0.3931 - accuracy: 0.8159\n",
      "Epoch 42/100\n",
      "804/804 [==============================] - 4s 5ms/step - loss: 0.3930 - accuracy: 0.8161\n",
      "Epoch 43/100\n",
      "804/804 [==============================] - 4s 5ms/step - loss: 0.3929 - accuracy: 0.8150\n",
      "Epoch 44/100\n",
      "804/804 [==============================] - 4s 5ms/step - loss: 0.3928 - accuracy: 0.8152\n",
      "Epoch 45/100\n",
      "803/804 [============================>.] - ETA: 0s - loss: 0.3925 - accuracy: 0.8157\n",
      "Epoch 45: saving model to checkpoints_optimization4/weights.45.hdf5\n",
      "804/804 [==============================] - 4s 5ms/step - loss: 0.3926 - accuracy: 0.8156\n",
      "Epoch 46/100\n",
      "804/804 [==============================] - 4s 5ms/step - loss: 0.3922 - accuracy: 0.8162\n",
      "Epoch 47/100\n",
      "804/804 [==============================] - 4s 5ms/step - loss: 0.3913 - accuracy: 0.8157\n",
      "Epoch 48/100\n",
      "804/804 [==============================] - 4s 5ms/step - loss: 0.3918 - accuracy: 0.8162\n",
      "Epoch 49/100\n",
      "804/804 [==============================] - 4s 5ms/step - loss: 0.3918 - accuracy: 0.8165\n",
      "Epoch 50/100\n",
      "801/804 [============================>.] - ETA: 0s - loss: 0.3918 - accuracy: 0.8169\n",
      "Epoch 50: saving model to checkpoints_optimization4/weights.50.hdf5\n",
      "804/804 [==============================] - 4s 5ms/step - loss: 0.3918 - accuracy: 0.8169\n",
      "Epoch 51/100\n",
      "804/804 [==============================] - 4s 5ms/step - loss: 0.3914 - accuracy: 0.8157\n",
      "Epoch 52/100\n",
      "804/804 [==============================] - 4s 5ms/step - loss: 0.3911 - accuracy: 0.8153\n",
      "Epoch 53/100\n",
      "804/804 [==============================] - 4s 5ms/step - loss: 0.3913 - accuracy: 0.8161\n",
      "Epoch 54/100\n",
      "804/804 [==============================] - 4s 5ms/step - loss: 0.3916 - accuracy: 0.8156\n",
      "Epoch 55/100\n",
      "800/804 [============================>.] - ETA: 0s - loss: 0.3907 - accuracy: 0.8157\n",
      "Epoch 55: saving model to checkpoints_optimization4/weights.55.hdf5\n",
      "804/804 [==============================] - 4s 5ms/step - loss: 0.3910 - accuracy: 0.8157\n",
      "Epoch 56/100\n",
      "804/804 [==============================] - 4s 5ms/step - loss: 0.3905 - accuracy: 0.8167\n",
      "Epoch 57/100\n",
      "804/804 [==============================] - 4s 5ms/step - loss: 0.3909 - accuracy: 0.8166\n",
      "Epoch 58/100\n",
      "804/804 [==============================] - 4s 5ms/step - loss: 0.3908 - accuracy: 0.8156\n",
      "Epoch 59/100\n",
      "804/804 [==============================] - 4s 5ms/step - loss: 0.3908 - accuracy: 0.8164\n",
      "Epoch 60/100\n",
      "798/804 [============================>.] - ETA: 0s - loss: 0.3903 - accuracy: 0.8167\n",
      "Epoch 60: saving model to checkpoints_optimization4/weights.60.hdf5\n",
      "804/804 [==============================] - 4s 5ms/step - loss: 0.3903 - accuracy: 0.8168\n",
      "Epoch 61/100\n",
      "804/804 [==============================] - 4s 5ms/step - loss: 0.3905 - accuracy: 0.8165\n",
      "Epoch 62/100\n",
      "804/804 [==============================] - 4s 5ms/step - loss: 0.3905 - accuracy: 0.8161\n",
      "Epoch 63/100\n",
      "804/804 [==============================] - 4s 5ms/step - loss: 0.3902 - accuracy: 0.8162\n",
      "Epoch 64/100\n",
      "804/804 [==============================] - 4s 5ms/step - loss: 0.3900 - accuracy: 0.8168\n",
      "Epoch 65/100\n",
      "800/804 [============================>.] - ETA: 0s - loss: 0.3902 - accuracy: 0.8161\n",
      "Epoch 65: saving model to checkpoints_optimization4/weights.65.hdf5\n",
      "804/804 [==============================] - 4s 5ms/step - loss: 0.3901 - accuracy: 0.8161\n",
      "Epoch 66/100\n",
      "804/804 [==============================] - 4s 5ms/step - loss: 0.3902 - accuracy: 0.8156\n",
      "Epoch 67/100\n",
      "804/804 [==============================] - 4s 5ms/step - loss: 0.3895 - accuracy: 0.8165\n",
      "Epoch 68/100\n",
      "804/804 [==============================] - 4s 5ms/step - loss: 0.3896 - accuracy: 0.8168\n",
      "Epoch 69/100\n",
      "804/804 [==============================] - 4s 5ms/step - loss: 0.3901 - accuracy: 0.8170\n",
      "Epoch 70/100\n",
      "802/804 [============================>.] - ETA: 0s - loss: 0.3896 - accuracy: 0.8164\n",
      "Epoch 70: saving model to checkpoints_optimization4/weights.70.hdf5\n",
      "804/804 [==============================] - 4s 5ms/step - loss: 0.3895 - accuracy: 0.8163\n",
      "Epoch 71/100\n",
      "804/804 [==============================] - 4s 5ms/step - loss: 0.3895 - accuracy: 0.8174\n",
      "Epoch 72/100\n",
      "804/804 [==============================] - 4s 5ms/step - loss: 0.3898 - accuracy: 0.8163\n",
      "Epoch 73/100\n",
      "804/804 [==============================] - 4s 5ms/step - loss: 0.3892 - accuracy: 0.8166\n",
      "Epoch 74/100\n",
      "804/804 [==============================] - 4s 5ms/step - loss: 0.3890 - accuracy: 0.8171\n",
      "Epoch 75/100\n",
      "799/804 [============================>.] - ETA: 0s - loss: 0.3889 - accuracy: 0.8170\n",
      "Epoch 75: saving model to checkpoints_optimization4/weights.75.hdf5\n",
      "804/804 [==============================] - 4s 5ms/step - loss: 0.3890 - accuracy: 0.8169\n",
      "Epoch 76/100\n",
      "804/804 [==============================] - 4s 5ms/step - loss: 0.3889 - accuracy: 0.8171\n",
      "Epoch 77/100\n",
      "804/804 [==============================] - 4s 5ms/step - loss: 0.3891 - accuracy: 0.8171\n",
      "Epoch 78/100\n",
      "804/804 [==============================] - 4s 5ms/step - loss: 0.3888 - accuracy: 0.8176\n",
      "Epoch 79/100\n",
      "804/804 [==============================] - 4s 5ms/step - loss: 0.3885 - accuracy: 0.8169\n",
      "Epoch 80/100\n",
      "799/804 [============================>.] - ETA: 0s - loss: 0.3888 - accuracy: 0.8174\n",
      "Epoch 80: saving model to checkpoints_optimization4/weights.80.hdf5\n",
      "804/804 [==============================] - 4s 5ms/step - loss: 0.3890 - accuracy: 0.8172\n",
      "Epoch 81/100\n",
      "804/804 [==============================] - 4s 5ms/step - loss: 0.3886 - accuracy: 0.8166\n",
      "Epoch 82/100\n",
      "804/804 [==============================] - 4s 5ms/step - loss: 0.3882 - accuracy: 0.8162\n",
      "Epoch 83/100\n",
      "804/804 [==============================] - 4s 5ms/step - loss: 0.3886 - accuracy: 0.8169\n",
      "Epoch 84/100\n",
      "804/804 [==============================] - 4s 5ms/step - loss: 0.3883 - accuracy: 0.8173\n",
      "Epoch 85/100\n",
      "795/804 [============================>.] - ETA: 0s - loss: 0.3879 - accuracy: 0.8170\n",
      "Epoch 85: saving model to checkpoints_optimization4/weights.85.hdf5\n",
      "804/804 [==============================] - 4s 5ms/step - loss: 0.3883 - accuracy: 0.8167\n",
      "Epoch 86/100\n",
      "804/804 [==============================] - 4s 5ms/step - loss: 0.3884 - accuracy: 0.8173\n",
      "Epoch 87/100\n",
      "804/804 [==============================] - 4s 5ms/step - loss: 0.3883 - accuracy: 0.8169\n",
      "Epoch 88/100\n",
      "804/804 [==============================] - 4s 5ms/step - loss: 0.3881 - accuracy: 0.8171\n",
      "Epoch 89/100\n",
      "804/804 [==============================] - 4s 5ms/step - loss: 0.3885 - accuracy: 0.8168\n",
      "Epoch 90/100\n",
      "798/804 [============================>.] - ETA: 0s - loss: 0.3878 - accuracy: 0.8168\n",
      "Epoch 90: saving model to checkpoints_optimization4/weights.90.hdf5\n",
      "804/804 [==============================] - 4s 5ms/step - loss: 0.3881 - accuracy: 0.8168\n",
      "Epoch 91/100\n",
      "804/804 [==============================] - 4s 5ms/step - loss: 0.3882 - accuracy: 0.8165\n",
      "Epoch 92/100\n",
      "804/804 [==============================] - 4s 5ms/step - loss: 0.3881 - accuracy: 0.8171\n",
      "Epoch 93/100\n",
      "804/804 [==============================] - 4s 5ms/step - loss: 0.3877 - accuracy: 0.8169\n",
      "Epoch 94/100\n",
      "804/804 [==============================] - 4s 5ms/step - loss: 0.3879 - accuracy: 0.8168\n",
      "Epoch 95/100\n",
      "800/804 [============================>.] - ETA: 0s - loss: 0.3876 - accuracy: 0.8173\n",
      "Epoch 95: saving model to checkpoints_optimization4/weights.95.hdf5\n",
      "804/804 [==============================] - 4s 5ms/step - loss: 0.3874 - accuracy: 0.8173\n",
      "Epoch 96/100\n",
      "804/804 [==============================] - 4s 5ms/step - loss: 0.3876 - accuracy: 0.8171\n",
      "Epoch 97/100\n",
      "804/804 [==============================] - 4s 5ms/step - loss: 0.3877 - accuracy: 0.8178\n",
      "Epoch 98/100\n",
      "804/804 [==============================] - 4s 5ms/step - loss: 0.3873 - accuracy: 0.8168\n",
      "Epoch 99/100\n",
      "804/804 [==============================] - 4s 5ms/step - loss: 0.3881 - accuracy: 0.8163\n",
      "Epoch 100/100\n",
      "802/804 [============================>.] - ETA: 0s - loss: 0.3875 - accuracy: 0.8169\n",
      "Epoch 100: saving model to checkpoints_optimization4/weights.100.hdf5\n",
      "804/804 [==============================] - 4s 5ms/step - loss: 0.3874 - accuracy: 0.8169\n"
     ]
    }
   ],
   "source": [
    "# Train the model\n",
    "fit_model = nn4.fit(X_train_scaled, y_train, epochs=100, callbacks=[cp_callback])"
   ]
  },
  {
   "cell_type": "code",
   "execution_count": 52,
   "metadata": {},
   "outputs": [
    {
     "name": "stderr",
     "output_type": "stream",
     "text": [
      "2022-10-30 15:42:43.274866: I tensorflow/core/grappler/optimizers/custom_graph_optimizer_registry.cc:114] Plugin optimizer for device_type GPU is enabled.\n"
     ]
    },
    {
     "name": "stdout",
     "output_type": "stream",
     "text": [
      "268/268 - 1s - loss: 0.4765 - accuracy: 0.8001 - 1s/epoch - 4ms/step\n",
      "Loss: 0.47649815678596497, Accuracy: 0.8001165986061096\n"
     ]
    }
   ],
   "source": [
    "# Evaluate the model using the test data\n",
    "model_loss, model_accuracy = nn4.evaluate(X_test_scaled,y_test,verbose=2)\n",
    "print(f\"Loss: {model_loss}, Accuracy: {model_accuracy}\")"
   ]
  },
  {
   "cell_type": "markdown",
   "metadata": {},
   "source": [
    "### Optimization Trial 5"
   ]
  },
  {
   "cell_type": "code",
   "execution_count": 53,
   "metadata": {},
   "outputs": [
    {
     "name": "stdout",
     "output_type": "stream",
     "text": [
      "Model: \"sequential_4\"\n",
      "_________________________________________________________________\n",
      " Layer (type)                Output Shape              Param #   \n",
      "=================================================================\n",
      " dense_13 (Dense)            (None, 400)               331200    \n",
      "                                                                 \n",
      " dense_14 (Dense)            (None, 200)               80200     \n",
      "                                                                 \n",
      " dense_15 (Dense)            (None, 1)                 201       \n",
      "                                                                 \n",
      "=================================================================\n",
      "Total params: 411,601\n",
      "Trainable params: 411,601\n",
      "Non-trainable params: 0\n",
      "_________________________________________________________________\n"
     ]
    }
   ],
   "source": [
    "# Define the model - deep neural net, i.e., the number of input features and hidden nodes for each layer.\n",
    "number_input_features = len(X_train.columns)\n",
    "hidden_nodes_layer1 = 400\n",
    "hidden_nodes_layer2 = 200\n",
    "\n",
    "nn5 = tf.keras.models.Sequential()\n",
    "\n",
    "# First hidden layer\n",
    "nn5.add(\n",
    "    tf.keras.layers.Dense(units=hidden_nodes_layer1, input_dim=number_input_features, activation=\"relu\")\n",
    ")\n",
    "\n",
    "# Second hidden layer\n",
    "nn5.add(\n",
    "    tf.keras.layers.Dense(units=hidden_nodes_layer2, activation=\"gelu\")\n",
    ")\n",
    "\n",
    "# Output layer\n",
    "nn5.add(tf.keras.layers.Dense(units=1, activation=\"sigmoid\"))\n",
    "\n",
    "# Check the structure of the model\n",
    "nn5.summary()"
   ]
  },
  {
   "cell_type": "code",
   "execution_count": 54,
   "metadata": {},
   "outputs": [],
   "source": [
    "# Import checkpoint dependencies\n",
    "import os\n",
    "from tensorflow.keras.callbacks import ModelCheckpoint\n",
    "\n",
    "# Define the checkpoint path and filenames\n",
    "os.makedirs(\"checkpoints_optimization5/\", exist_ok=True)\n",
    "checkpoint_path = \"checkpoints_optimization5/weights.{epoch:02d}.hdf5\""
   ]
  },
  {
   "cell_type": "code",
   "execution_count": 55,
   "metadata": {},
   "outputs": [
    {
     "name": "stdout",
     "output_type": "stream",
     "text": [
      "WARNING:tensorflow:`period` argument is deprecated. Please use `save_freq` to specify the frequency in number of batches seen.\n"
     ]
    }
   ],
   "source": [
    "# Compile the model\n",
    "nn5.compile(loss=\"binary_crossentropy\", optimizer=\"adam\", metrics=[\"accuracy\"])\n",
    "\n",
    "# Create a callback that saves the model's weights every 5 epochs\n",
    "cp_callback = ModelCheckpoint(\n",
    "    filepath=checkpoint_path,\n",
    "    verbose=1,\n",
    "    save_weights_only=True,\n",
    "    save_freq='epoch',\n",
    "    period=5\n",
    ")"
   ]
  },
  {
   "cell_type": "code",
   "execution_count": 56,
   "metadata": {
    "collapsed": true,
    "jupyter": {
     "outputs_hidden": true
    }
   },
   "outputs": [
    {
     "name": "stdout",
     "output_type": "stream",
     "text": [
      "Epoch 1/100\n"
     ]
    },
    {
     "name": "stderr",
     "output_type": "stream",
     "text": [
      "2022-10-30 15:42:44.978841: I tensorflow/core/grappler/optimizers/custom_graph_optimizer_registry.cc:114] Plugin optimizer for device_type GPU is enabled.\n"
     ]
    },
    {
     "name": "stdout",
     "output_type": "stream",
     "text": [
      "804/804 [==============================] - 5s 6ms/step - loss: 0.4756 - accuracy: 0.7848\n",
      "Epoch 2/100\n",
      "804/804 [==============================] - 5s 6ms/step - loss: 0.4206 - accuracy: 0.8033\n",
      "Epoch 3/100\n",
      "804/804 [==============================] - 5s 6ms/step - loss: 0.4151 - accuracy: 0.8044\n",
      "Epoch 4/100\n",
      "804/804 [==============================] - 5s 6ms/step - loss: 0.4133 - accuracy: 0.8056\n",
      "Epoch 5/100\n",
      "802/804 [============================>.] - ETA: 0s - loss: 0.4097 - accuracy: 0.8068\n",
      "Epoch 5: saving model to checkpoints_optimization5/weights.05.hdf5\n",
      "804/804 [==============================] - 5s 6ms/step - loss: 0.4099 - accuracy: 0.8068\n",
      "Epoch 6/100\n",
      "804/804 [==============================] - 5s 6ms/step - loss: 0.4090 - accuracy: 0.8064\n",
      "Epoch 7/100\n",
      "804/804 [==============================] - 5s 6ms/step - loss: 0.4090 - accuracy: 0.8082\n",
      "Epoch 8/100\n",
      "804/804 [==============================] - 5s 6ms/step - loss: 0.4077 - accuracy: 0.8080\n",
      "Epoch 9/100\n",
      "804/804 [==============================] - 4s 6ms/step - loss: 0.4069 - accuracy: 0.8088\n",
      "Epoch 10/100\n",
      "797/804 [============================>.] - ETA: 0s - loss: 0.4073 - accuracy: 0.8077\n",
      "Epoch 10: saving model to checkpoints_optimization5/weights.10.hdf5\n",
      "804/804 [==============================] - 5s 6ms/step - loss: 0.4072 - accuracy: 0.8078\n",
      "Epoch 11/100\n",
      "804/804 [==============================] - 5s 6ms/step - loss: 0.4055 - accuracy: 0.8084\n",
      "Epoch 12/100\n",
      "804/804 [==============================] - 4s 6ms/step - loss: 0.4046 - accuracy: 0.8094\n",
      "Epoch 13/100\n",
      "804/804 [==============================] - 4s 6ms/step - loss: 0.4037 - accuracy: 0.8106\n",
      "Epoch 14/100\n",
      "804/804 [==============================] - 4s 6ms/step - loss: 0.4039 - accuracy: 0.8103\n",
      "Epoch 15/100\n",
      "802/804 [============================>.] - ETA: 0s - loss: 0.4034 - accuracy: 0.8111\n",
      "Epoch 15: saving model to checkpoints_optimization5/weights.15.hdf5\n",
      "804/804 [==============================] - 4s 6ms/step - loss: 0.4033 - accuracy: 0.8111\n",
      "Epoch 16/100\n",
      "804/804 [==============================] - 4s 6ms/step - loss: 0.4030 - accuracy: 0.8111\n",
      "Epoch 17/100\n",
      "804/804 [==============================] - 5s 6ms/step - loss: 0.4025 - accuracy: 0.8106\n",
      "Epoch 18/100\n",
      "804/804 [==============================] - 5s 6ms/step - loss: 0.4014 - accuracy: 0.8123\n",
      "Epoch 19/100\n",
      "804/804 [==============================] - 4s 6ms/step - loss: 0.4009 - accuracy: 0.8115\n",
      "Epoch 20/100\n",
      "804/804 [==============================] - ETA: 0s - loss: 0.4004 - accuracy: 0.8117\n",
      "Epoch 20: saving model to checkpoints_optimization5/weights.20.hdf5\n",
      "804/804 [==============================] - 5s 6ms/step - loss: 0.4004 - accuracy: 0.8117\n",
      "Epoch 21/100\n",
      "804/804 [==============================] - 5s 6ms/step - loss: 0.4000 - accuracy: 0.8121\n",
      "Epoch 22/100\n",
      "804/804 [==============================] - 5s 6ms/step - loss: 0.4002 - accuracy: 0.8118\n",
      "Epoch 23/100\n",
      "804/804 [==============================] - 4s 6ms/step - loss: 0.3987 - accuracy: 0.8129\n",
      "Epoch 24/100\n",
      "804/804 [==============================] - 5s 6ms/step - loss: 0.3986 - accuracy: 0.8124\n",
      "Epoch 25/100\n",
      "798/804 [============================>.] - ETA: 0s - loss: 0.3984 - accuracy: 0.8135\n",
      "Epoch 25: saving model to checkpoints_optimization5/weights.25.hdf5\n",
      "804/804 [==============================] - 5s 6ms/step - loss: 0.3983 - accuracy: 0.8135\n",
      "Epoch 26/100\n",
      "804/804 [==============================] - 4s 6ms/step - loss: 0.3980 - accuracy: 0.8124\n",
      "Epoch 27/100\n",
      "804/804 [==============================] - 5s 6ms/step - loss: 0.3970 - accuracy: 0.8127\n",
      "Epoch 28/100\n",
      "804/804 [==============================] - 5s 6ms/step - loss: 0.3966 - accuracy: 0.8139\n",
      "Epoch 29/100\n",
      "804/804 [==============================] - 4s 6ms/step - loss: 0.3969 - accuracy: 0.8136\n",
      "Epoch 30/100\n",
      "796/804 [============================>.] - ETA: 0s - loss: 0.3963 - accuracy: 0.8137\n",
      "Epoch 30: saving model to checkpoints_optimization5/weights.30.hdf5\n",
      "804/804 [==============================] - 5s 6ms/step - loss: 0.3964 - accuracy: 0.8139\n",
      "Epoch 31/100\n",
      "804/804 [==============================] - 5s 6ms/step - loss: 0.3960 - accuracy: 0.8151\n",
      "Epoch 32/100\n",
      "804/804 [==============================] - 5s 6ms/step - loss: 0.3958 - accuracy: 0.8139\n",
      "Epoch 33/100\n",
      "804/804 [==============================] - 5s 6ms/step - loss: 0.3949 - accuracy: 0.8147\n",
      "Epoch 34/100\n",
      "804/804 [==============================] - 5s 6ms/step - loss: 0.3948 - accuracy: 0.8141\n",
      "Epoch 35/100\n",
      "801/804 [============================>.] - ETA: 0s - loss: 0.3942 - accuracy: 0.8148\n",
      "Epoch 35: saving model to checkpoints_optimization5/weights.35.hdf5\n",
      "804/804 [==============================] - 5s 6ms/step - loss: 0.3943 - accuracy: 0.8147\n",
      "Epoch 36/100\n",
      "804/804 [==============================] - 5s 6ms/step - loss: 0.3945 - accuracy: 0.8150\n",
      "Epoch 37/100\n",
      "804/804 [==============================] - 5s 6ms/step - loss: 0.3945 - accuracy: 0.8148\n",
      "Epoch 38/100\n",
      "804/804 [==============================] - 5s 6ms/step - loss: 0.3937 - accuracy: 0.8151\n",
      "Epoch 39/100\n",
      "804/804 [==============================] - 5s 6ms/step - loss: 0.3935 - accuracy: 0.8145\n",
      "Epoch 40/100\n",
      "804/804 [==============================] - ETA: 0s - loss: 0.3928 - accuracy: 0.8152\n",
      "Epoch 40: saving model to checkpoints_optimization5/weights.40.hdf5\n",
      "804/804 [==============================] - 5s 6ms/step - loss: 0.3928 - accuracy: 0.8152\n",
      "Epoch 41/100\n",
      "804/804 [==============================] - 5s 6ms/step - loss: 0.3931 - accuracy: 0.8149\n",
      "Epoch 42/100\n",
      "804/804 [==============================] - 5s 6ms/step - loss: 0.3928 - accuracy: 0.8152\n",
      "Epoch 43/100\n",
      "804/804 [==============================] - 5s 6ms/step - loss: 0.3927 - accuracy: 0.8149\n",
      "Epoch 44/100\n",
      "804/804 [==============================] - 5s 6ms/step - loss: 0.3924 - accuracy: 0.8158\n",
      "Epoch 45/100\n",
      "798/804 [============================>.] - ETA: 0s - loss: 0.3926 - accuracy: 0.8156\n",
      "Epoch 45: saving model to checkpoints_optimization5/weights.45.hdf5\n",
      "804/804 [==============================] - 5s 6ms/step - loss: 0.3928 - accuracy: 0.8155\n",
      "Epoch 46/100\n",
      "804/804 [==============================] - 5s 6ms/step - loss: 0.3931 - accuracy: 0.8152\n",
      "Epoch 47/100\n",
      "804/804 [==============================] - 5s 6ms/step - loss: 0.3926 - accuracy: 0.8146\n",
      "Epoch 48/100\n",
      "804/804 [==============================] - 5s 6ms/step - loss: 0.3919 - accuracy: 0.8156\n",
      "Epoch 49/100\n",
      "804/804 [==============================] - 5s 6ms/step - loss: 0.3912 - accuracy: 0.8160\n",
      "Epoch 50/100\n",
      "802/804 [============================>.] - ETA: 0s - loss: 0.3926 - accuracy: 0.8160\n",
      "Epoch 50: saving model to checkpoints_optimization5/weights.50.hdf5\n",
      "804/804 [==============================] - 5s 6ms/step - loss: 0.3928 - accuracy: 0.8160\n",
      "Epoch 51/100\n",
      "804/804 [==============================] - 5s 6ms/step - loss: 0.3924 - accuracy: 0.8158\n",
      "Epoch 52/100\n",
      "804/804 [==============================] - 5s 6ms/step - loss: 0.3919 - accuracy: 0.8160\n",
      "Epoch 53/100\n",
      "804/804 [==============================] - 5s 6ms/step - loss: 0.3903 - accuracy: 0.8157\n",
      "Epoch 54/100\n",
      "804/804 [==============================] - 5s 6ms/step - loss: 0.3950 - accuracy: 0.8162\n",
      "Epoch 55/100\n",
      "804/804 [==============================] - ETA: 0s - loss: 0.3919 - accuracy: 0.8157\n",
      "Epoch 55: saving model to checkpoints_optimization5/weights.55.hdf5\n",
      "804/804 [==============================] - 5s 6ms/step - loss: 0.3919 - accuracy: 0.8157\n",
      "Epoch 56/100\n",
      "804/804 [==============================] - 5s 6ms/step - loss: 0.3905 - accuracy: 0.8158\n",
      "Epoch 57/100\n",
      "804/804 [==============================] - 5s 6ms/step - loss: 0.3959 - accuracy: 0.8155\n",
      "Epoch 58/100\n",
      "804/804 [==============================] - 5s 6ms/step - loss: 0.3911 - accuracy: 0.8160\n",
      "Epoch 59/100\n",
      "804/804 [==============================] - 4s 6ms/step - loss: 0.3896 - accuracy: 0.8166\n",
      "Epoch 60/100\n",
      "797/804 [============================>.] - ETA: 0s - loss: 0.3894 - accuracy: 0.8156\n",
      "Epoch 60: saving model to checkpoints_optimization5/weights.60.hdf5\n",
      "804/804 [==============================] - 5s 6ms/step - loss: 0.3892 - accuracy: 0.8158\n",
      "Epoch 61/100\n",
      "804/804 [==============================] - 4s 6ms/step - loss: 0.3893 - accuracy: 0.8162\n",
      "Epoch 62/100\n",
      "804/804 [==============================] - 4s 6ms/step - loss: 0.3951 - accuracy: 0.8160\n",
      "Epoch 63/100\n",
      "804/804 [==============================] - 5s 6ms/step - loss: 0.3911 - accuracy: 0.8165\n",
      "Epoch 64/100\n",
      "804/804 [==============================] - 5s 6ms/step - loss: 0.3892 - accuracy: 0.8169\n",
      "Epoch 65/100\n",
      "804/804 [==============================] - ETA: 0s - loss: 0.3892 - accuracy: 0.8169\n",
      "Epoch 65: saving model to checkpoints_optimization5/weights.65.hdf5\n",
      "804/804 [==============================] - 5s 6ms/step - loss: 0.3892 - accuracy: 0.8169\n",
      "Epoch 66/100\n",
      "804/804 [==============================] - 5s 6ms/step - loss: 0.3881 - accuracy: 0.8166\n",
      "Epoch 67/100\n",
      "804/804 [==============================] - 5s 6ms/step - loss: 0.3881 - accuracy: 0.8167\n",
      "Epoch 68/100\n",
      "804/804 [==============================] - 5s 6ms/step - loss: 0.3888 - accuracy: 0.8170\n",
      "Epoch 69/100\n",
      "804/804 [==============================] - 5s 6ms/step - loss: 0.3888 - accuracy: 0.8167\n",
      "Epoch 70/100\n",
      "804/804 [==============================] - ETA: 0s - loss: 0.3887 - accuracy: 0.8166\n",
      "Epoch 70: saving model to checkpoints_optimization5/weights.70.hdf5\n",
      "804/804 [==============================] - 5s 6ms/step - loss: 0.3887 - accuracy: 0.8166\n",
      "Epoch 71/100\n",
      "804/804 [==============================] - 5s 6ms/step - loss: 0.3875 - accuracy: 0.8169\n",
      "Epoch 72/100\n",
      "804/804 [==============================] - 5s 6ms/step - loss: 0.3881 - accuracy: 0.8170\n",
      "Epoch 73/100\n",
      "804/804 [==============================] - 4s 6ms/step - loss: 0.3963 - accuracy: 0.8161\n",
      "Epoch 74/100\n",
      "804/804 [==============================] - 5s 6ms/step - loss: 0.4096 - accuracy: 0.8152\n",
      "Epoch 75/100\n",
      "800/804 [============================>.] - ETA: 0s - loss: 0.4147 - accuracy: 0.8161\n",
      "Epoch 75: saving model to checkpoints_optimization5/weights.75.hdf5\n",
      "804/804 [==============================] - 5s 6ms/step - loss: 0.4148 - accuracy: 0.8160\n",
      "Epoch 76/100\n",
      "804/804 [==============================] - 5s 6ms/step - loss: 0.4049 - accuracy: 0.8160\n",
      "Epoch 77/100\n",
      "804/804 [==============================] - 5s 6ms/step - loss: 0.3945 - accuracy: 0.8173\n",
      "Epoch 78/100\n",
      "804/804 [==============================] - 5s 6ms/step - loss: 0.3881 - accuracy: 0.8169\n",
      "Epoch 79/100\n",
      "804/804 [==============================] - 4s 6ms/step - loss: 0.3870 - accuracy: 0.8170\n",
      "Epoch 80/100\n",
      "797/804 [============================>.] - ETA: 0s - loss: 0.3878 - accuracy: 0.8166\n",
      "Epoch 80: saving model to checkpoints_optimization5/weights.80.hdf5\n",
      "804/804 [==============================] - 5s 6ms/step - loss: 0.3875 - accuracy: 0.8169\n",
      "Epoch 81/100\n",
      "804/804 [==============================] - 5s 6ms/step - loss: 0.3872 - accuracy: 0.8167\n",
      "Epoch 82/100\n",
      "804/804 [==============================] - 5s 6ms/step - loss: 0.3882 - accuracy: 0.8168\n",
      "Epoch 83/100\n",
      "804/804 [==============================] - 5s 6ms/step - loss: 0.3876 - accuracy: 0.8169\n",
      "Epoch 84/100\n",
      "804/804 [==============================] - 5s 6ms/step - loss: 0.3872 - accuracy: 0.8174\n",
      "Epoch 85/100\n",
      "801/804 [============================>.] - ETA: 0s - loss: 0.3884 - accuracy: 0.8168\n",
      "Epoch 85: saving model to checkpoints_optimization5/weights.85.hdf5\n",
      "804/804 [==============================] - 5s 6ms/step - loss: 0.3883 - accuracy: 0.8168\n",
      "Epoch 86/100\n",
      "804/804 [==============================] - 5s 6ms/step - loss: 0.3887 - accuracy: 0.8172\n",
      "Epoch 87/100\n",
      "804/804 [==============================] - 5s 6ms/step - loss: 0.3889 - accuracy: 0.8168\n",
      "Epoch 88/100\n",
      "804/804 [==============================] - 5s 6ms/step - loss: 0.3896 - accuracy: 0.8167\n",
      "Epoch 89/100\n",
      "804/804 [==============================] - 5s 6ms/step - loss: 0.3897 - accuracy: 0.8173\n",
      "Epoch 90/100\n",
      "803/804 [============================>.] - ETA: 0s - loss: 0.3881 - accuracy: 0.8172\n",
      "Epoch 90: saving model to checkpoints_optimization5/weights.90.hdf5\n",
      "804/804 [==============================] - 5s 6ms/step - loss: 0.3881 - accuracy: 0.8173\n",
      "Epoch 91/100\n",
      "804/804 [==============================] - 5s 6ms/step - loss: 0.4101 - accuracy: 0.8166\n",
      "Epoch 92/100\n",
      "804/804 [==============================] - 4s 6ms/step - loss: 0.3921 - accuracy: 0.8182\n",
      "Epoch 93/100\n",
      "804/804 [==============================] - 5s 6ms/step - loss: 0.3882 - accuracy: 0.8178\n",
      "Epoch 94/100\n",
      "804/804 [==============================] - 5s 6ms/step - loss: 0.3857 - accuracy: 0.8177\n",
      "Epoch 95/100\n",
      "796/804 [============================>.] - ETA: 0s - loss: 0.3862 - accuracy: 0.8179\n",
      "Epoch 95: saving model to checkpoints_optimization5/weights.95.hdf5\n",
      "804/804 [==============================] - 5s 6ms/step - loss: 0.3863 - accuracy: 0.8176\n",
      "Epoch 96/100\n",
      "804/804 [==============================] - 5s 6ms/step - loss: 0.3857 - accuracy: 0.8176\n",
      "Epoch 97/100\n",
      "804/804 [==============================] - 5s 6ms/step - loss: 0.3856 - accuracy: 0.8169\n",
      "Epoch 98/100\n",
      "804/804 [==============================] - 5s 6ms/step - loss: 0.3862 - accuracy: 0.8177\n",
      "Epoch 99/100\n",
      "804/804 [==============================] - 5s 6ms/step - loss: 0.3865 - accuracy: 0.8180\n",
      "Epoch 100/100\n",
      "796/804 [============================>.] - ETA: 0s - loss: 0.3868 - accuracy: 0.8173\n",
      "Epoch 100: saving model to checkpoints_optimization5/weights.100.hdf5\n",
      "804/804 [==============================] - 5s 6ms/step - loss: 0.3869 - accuracy: 0.8171\n"
     ]
    }
   ],
   "source": [
    "# Train the model\n",
    "fit_model = nn5.fit(X_train_scaled, y_train, epochs=100, callbacks=[cp_callback])"
   ]
  },
  {
   "cell_type": "code",
   "execution_count": 57,
   "metadata": {},
   "outputs": [
    {
     "name": "stderr",
     "output_type": "stream",
     "text": [
      "2022-10-30 15:50:26.348808: I tensorflow/core/grappler/optimizers/custom_graph_optimizer_registry.cc:114] Plugin optimizer for device_type GPU is enabled.\n"
     ]
    },
    {
     "name": "stdout",
     "output_type": "stream",
     "text": [
      "268/268 - 1s - loss: 2.5861 - accuracy: 0.7980 - 927ms/epoch - 3ms/step\n",
      "Loss: 2.586108922958374, Accuracy: 0.7980175018310547\n"
     ]
    }
   ],
   "source": [
    "# Evaluate the model using the test data\n",
    "model_loss, model_accuracy = nn5.evaluate(X_test_scaled,y_test,verbose=2)\n",
    "print(f\"Loss: {model_loss}, Accuracy: {model_accuracy}\")"
   ]
  },
  {
   "cell_type": "markdown",
   "metadata": {},
   "source": [
    "### Optimization Trial 6"
   ]
  },
  {
   "cell_type": "code",
   "execution_count": 58,
   "metadata": {},
   "outputs": [
    {
     "name": "stdout",
     "output_type": "stream",
     "text": [
      "Model: \"sequential_5\"\n",
      "_________________________________________________________________\n",
      " Layer (type)                Output Shape              Param #   \n",
      "=================================================================\n",
      " dense_16 (Dense)            (None, 80)                66240     \n",
      "                                                                 \n",
      " dense_17 (Dense)            (None, 30)                2430      \n",
      "                                                                 \n",
      " dense_18 (Dense)            (None, 1)                 31        \n",
      "                                                                 \n",
      "=================================================================\n",
      "Total params: 68,701\n",
      "Trainable params: 68,701\n",
      "Non-trainable params: 0\n",
      "_________________________________________________________________\n"
     ]
    }
   ],
   "source": [
    "# Define the model - deep neural net, i.e., the number of input features and hidden nodes for each layer.\n",
    "number_input_features = len(X_train.columns)\n",
    "hidden_nodes_layer1 = 80\n",
    "hidden_nodes_layer2 = 30\n",
    "\n",
    "nn6 = tf.keras.models.Sequential()\n",
    "\n",
    "# First hidden layer\n",
    "nn6.add(\n",
    "    tf.keras.layers.Dense(units=hidden_nodes_layer1, input_dim=number_input_features, activation=\"relu\")\n",
    ")\n",
    "\n",
    "# Second hidden layer\n",
    "nn6.add(\n",
    "    tf.keras.layers.Dense(units=hidden_nodes_layer2, activation=\"relu\")\n",
    ")\n",
    "\n",
    "# Output layer\n",
    "nn6.add(tf.keras.layers.Dense(units=1, activation=\"sigmoid\"))\n",
    "\n",
    "# Check the structure of the model\n",
    "nn6.summary()"
   ]
  },
  {
   "cell_type": "code",
   "execution_count": 59,
   "metadata": {},
   "outputs": [],
   "source": [
    "# Import checkpoint dependencies\n",
    "import os\n",
    "from tensorflow.keras.callbacks import ModelCheckpoint\n",
    "\n",
    "# Define the checkpoint path and filenames\n",
    "os.makedirs(\"checkpoints_optimization6/\", exist_ok=True)\n",
    "checkpoint_path = \"checkpoints_optimization6/weights.{epoch:02d}.hdf5\""
   ]
  },
  {
   "cell_type": "code",
   "execution_count": 60,
   "metadata": {},
   "outputs": [
    {
     "name": "stdout",
     "output_type": "stream",
     "text": [
      "WARNING:tensorflow:`period` argument is deprecated. Please use `save_freq` to specify the frequency in number of batches seen.\n"
     ]
    }
   ],
   "source": [
    "# Compile the model\n",
    "nn6.compile(loss=\"binary_crossentropy\", optimizer=\"adam\", metrics=[\"accuracy\"])\n",
    "\n",
    "# Create a callback that saves the model's weights every 5 epochs\n",
    "cp_callback = ModelCheckpoint(\n",
    "    filepath=checkpoint_path,\n",
    "    verbose=1,\n",
    "    save_weights_only=True,\n",
    "    save_freq='epoch',\n",
    "    period=5\n",
    ")"
   ]
  },
  {
   "cell_type": "code",
   "execution_count": 61,
   "metadata": {
    "collapsed": true,
    "jupyter": {
     "outputs_hidden": true
    }
   },
   "outputs": [
    {
     "name": "stdout",
     "output_type": "stream",
     "text": [
      "Epoch 1/100\n",
      " 10/804 [..............................] - ETA: 4s - loss: 0.7532 - accuracy: 0.6250  "
     ]
    },
    {
     "name": "stderr",
     "output_type": "stream",
     "text": [
      "2022-10-30 15:50:27.673118: I tensorflow/core/grappler/optimizers/custom_graph_optimizer_registry.cc:114] Plugin optimizer for device_type GPU is enabled.\n"
     ]
    },
    {
     "name": "stdout",
     "output_type": "stream",
     "text": [
      "804/804 [==============================] - 4s 5ms/step - loss: 0.4693 - accuracy: 0.7862\n",
      "Epoch 2/100\n",
      "804/804 [==============================] - 4s 5ms/step - loss: 0.4201 - accuracy: 0.8029\n",
      "Epoch 3/100\n",
      "804/804 [==============================] - 4s 5ms/step - loss: 0.4141 - accuracy: 0.8052\n",
      "Epoch 4/100\n",
      "804/804 [==============================] - 4s 5ms/step - loss: 0.4118 - accuracy: 0.8056\n",
      "Epoch 5/100\n",
      "798/804 [============================>.] - ETA: 0s - loss: 0.4091 - accuracy: 0.8075\n",
      "Epoch 5: saving model to checkpoints_optimization6/weights.05.hdf5\n",
      "804/804 [==============================] - 4s 5ms/step - loss: 0.4091 - accuracy: 0.8075\n",
      "Epoch 6/100\n",
      "804/804 [==============================] - 4s 5ms/step - loss: 0.4085 - accuracy: 0.8080\n",
      "Epoch 7/100\n",
      "804/804 [==============================] - 4s 5ms/step - loss: 0.4069 - accuracy: 0.8085\n",
      "Epoch 8/100\n",
      "804/804 [==============================] - 4s 5ms/step - loss: 0.4065 - accuracy: 0.8094\n",
      "Epoch 9/100\n",
      "804/804 [==============================] - 4s 5ms/step - loss: 0.4051 - accuracy: 0.8097\n",
      "Epoch 10/100\n",
      "796/804 [============================>.] - ETA: 0s - loss: 0.4042 - accuracy: 0.8104\n",
      "Epoch 10: saving model to checkpoints_optimization6/weights.10.hdf5\n",
      "804/804 [==============================] - 4s 5ms/step - loss: 0.4048 - accuracy: 0.8102\n",
      "Epoch 11/100\n",
      "804/804 [==============================] - 4s 5ms/step - loss: 0.4040 - accuracy: 0.8102\n",
      "Epoch 12/100\n",
      "804/804 [==============================] - 4s 5ms/step - loss: 0.4032 - accuracy: 0.8109\n",
      "Epoch 13/100\n",
      "804/804 [==============================] - 4s 5ms/step - loss: 0.4028 - accuracy: 0.8117\n",
      "Epoch 14/100\n",
      "804/804 [==============================] - 4s 5ms/step - loss: 0.4021 - accuracy: 0.8113\n",
      "Epoch 15/100\n",
      "793/804 [============================>.] - ETA: 0s - loss: 0.4013 - accuracy: 0.8121\n",
      "Epoch 15: saving model to checkpoints_optimization6/weights.15.hdf5\n",
      "804/804 [==============================] - 4s 5ms/step - loss: 0.4015 - accuracy: 0.8119\n",
      "Epoch 16/100\n",
      "804/804 [==============================] - 4s 5ms/step - loss: 0.4011 - accuracy: 0.8123\n",
      "Epoch 17/100\n",
      "804/804 [==============================] - 4s 5ms/step - loss: 0.4011 - accuracy: 0.8123\n",
      "Epoch 18/100\n",
      "804/804 [==============================] - 4s 5ms/step - loss: 0.4005 - accuracy: 0.8127\n",
      "Epoch 19/100\n",
      "804/804 [==============================] - 4s 5ms/step - loss: 0.4002 - accuracy: 0.8125\n",
      "Epoch 20/100\n",
      "799/804 [============================>.] - ETA: 0s - loss: 0.3996 - accuracy: 0.8122\n",
      "Epoch 20: saving model to checkpoints_optimization6/weights.20.hdf5\n",
      "804/804 [==============================] - 4s 5ms/step - loss: 0.3998 - accuracy: 0.8121\n",
      "Epoch 21/100\n",
      "804/804 [==============================] - 4s 5ms/step - loss: 0.3991 - accuracy: 0.8136\n",
      "Epoch 22/100\n",
      "804/804 [==============================] - 4s 5ms/step - loss: 0.3987 - accuracy: 0.8128\n",
      "Epoch 23/100\n",
      "804/804 [==============================] - 4s 5ms/step - loss: 0.3985 - accuracy: 0.8136\n",
      "Epoch 24/100\n",
      "804/804 [==============================] - 4s 5ms/step - loss: 0.3986 - accuracy: 0.8136\n",
      "Epoch 25/100\n",
      "802/804 [============================>.] - ETA: 0s - loss: 0.3980 - accuracy: 0.8139\n",
      "Epoch 25: saving model to checkpoints_optimization6/weights.25.hdf5\n",
      "804/804 [==============================] - 4s 5ms/step - loss: 0.3980 - accuracy: 0.8138\n",
      "Epoch 26/100\n",
      "804/804 [==============================] - 4s 5ms/step - loss: 0.3975 - accuracy: 0.8143\n",
      "Epoch 27/100\n",
      "804/804 [==============================] - 4s 5ms/step - loss: 0.3974 - accuracy: 0.8142\n",
      "Epoch 28/100\n",
      "804/804 [==============================] - 4s 5ms/step - loss: 0.3968 - accuracy: 0.8145\n",
      "Epoch 29/100\n",
      "804/804 [==============================] - 4s 5ms/step - loss: 0.3964 - accuracy: 0.8147\n",
      "Epoch 30/100\n",
      "804/804 [==============================] - ETA: 0s - loss: 0.3963 - accuracy: 0.8145\n",
      "Epoch 30: saving model to checkpoints_optimization6/weights.30.hdf5\n",
      "804/804 [==============================] - 4s 5ms/step - loss: 0.3963 - accuracy: 0.8145\n",
      "Epoch 31/100\n",
      "804/804 [==============================] - 4s 5ms/step - loss: 0.3962 - accuracy: 0.8145\n",
      "Epoch 32/100\n",
      "804/804 [==============================] - 4s 5ms/step - loss: 0.3954 - accuracy: 0.8149\n",
      "Epoch 33/100\n",
      "804/804 [==============================] - 4s 5ms/step - loss: 0.3953 - accuracy: 0.8146\n",
      "Epoch 34/100\n",
      "804/804 [==============================] - 4s 5ms/step - loss: 0.3950 - accuracy: 0.8148\n",
      "Epoch 35/100\n",
      "803/804 [============================>.] - ETA: 0s - loss: 0.3948 - accuracy: 0.8155\n",
      "Epoch 35: saving model to checkpoints_optimization6/weights.35.hdf5\n",
      "804/804 [==============================] - 4s 5ms/step - loss: 0.3949 - accuracy: 0.8155\n",
      "Epoch 36/100\n",
      "804/804 [==============================] - 4s 5ms/step - loss: 0.3945 - accuracy: 0.8150\n",
      "Epoch 37/100\n",
      "804/804 [==============================] - 4s 5ms/step - loss: 0.3939 - accuracy: 0.8153\n",
      "Epoch 38/100\n",
      "804/804 [==============================] - 4s 5ms/step - loss: 0.3939 - accuracy: 0.8156\n",
      "Epoch 39/100\n",
      "804/804 [==============================] - 4s 5ms/step - loss: 0.3936 - accuracy: 0.8153\n",
      "Epoch 40/100\n",
      "799/804 [============================>.] - ETA: 0s - loss: 0.3931 - accuracy: 0.8152\n",
      "Epoch 40: saving model to checkpoints_optimization6/weights.40.hdf5\n",
      "804/804 [==============================] - 4s 5ms/step - loss: 0.3934 - accuracy: 0.8152\n",
      "Epoch 41/100\n",
      "804/804 [==============================] - 4s 5ms/step - loss: 0.3933 - accuracy: 0.8159\n",
      "Epoch 42/100\n",
      "804/804 [==============================] - 4s 5ms/step - loss: 0.3928 - accuracy: 0.8155\n",
      "Epoch 43/100\n",
      "804/804 [==============================] - 4s 5ms/step - loss: 0.3928 - accuracy: 0.8154\n",
      "Epoch 44/100\n",
      "804/804 [==============================] - 4s 5ms/step - loss: 0.3929 - accuracy: 0.8153\n",
      "Epoch 45/100\n",
      "794/804 [============================>.] - ETA: 0s - loss: 0.3927 - accuracy: 0.8158\n",
      "Epoch 45: saving model to checkpoints_optimization6/weights.45.hdf5\n",
      "804/804 [==============================] - 4s 5ms/step - loss: 0.3926 - accuracy: 0.8158\n",
      "Epoch 46/100\n",
      "804/804 [==============================] - 4s 5ms/step - loss: 0.3922 - accuracy: 0.8160\n",
      "Epoch 47/100\n",
      "804/804 [==============================] - 4s 5ms/step - loss: 0.3920 - accuracy: 0.8164\n",
      "Epoch 48/100\n",
      "804/804 [==============================] - 4s 5ms/step - loss: 0.3918 - accuracy: 0.8161\n",
      "Epoch 49/100\n",
      "804/804 [==============================] - 4s 5ms/step - loss: 0.3919 - accuracy: 0.8161\n",
      "Epoch 50/100\n",
      "804/804 [==============================] - ETA: 0s - loss: 0.3916 - accuracy: 0.8164\n",
      "Epoch 50: saving model to checkpoints_optimization6/weights.50.hdf5\n",
      "804/804 [==============================] - 4s 5ms/step - loss: 0.3916 - accuracy: 0.8164\n",
      "Epoch 51/100\n",
      "804/804 [==============================] - 4s 5ms/step - loss: 0.3915 - accuracy: 0.8162\n",
      "Epoch 52/100\n",
      "804/804 [==============================] - 4s 5ms/step - loss: 0.3911 - accuracy: 0.8164\n",
      "Epoch 53/100\n",
      "804/804 [==============================] - 4s 5ms/step - loss: 0.3916 - accuracy: 0.8166\n",
      "Epoch 54/100\n",
      "804/804 [==============================] - 4s 5ms/step - loss: 0.3910 - accuracy: 0.8164\n",
      "Epoch 55/100\n",
      "804/804 [==============================] - ETA: 0s - loss: 0.3908 - accuracy: 0.8166\n",
      "Epoch 55: saving model to checkpoints_optimization6/weights.55.hdf5\n",
      "804/804 [==============================] - 4s 5ms/step - loss: 0.3908 - accuracy: 0.8166\n",
      "Epoch 56/100\n",
      "804/804 [==============================] - 4s 5ms/step - loss: 0.3909 - accuracy: 0.8159\n",
      "Epoch 57/100\n",
      "804/804 [==============================] - 4s 5ms/step - loss: 0.3904 - accuracy: 0.8167\n",
      "Epoch 58/100\n",
      "804/804 [==============================] - 4s 5ms/step - loss: 0.3904 - accuracy: 0.8164\n",
      "Epoch 59/100\n",
      "804/804 [==============================] - 4s 5ms/step - loss: 0.3903 - accuracy: 0.8168\n",
      "Epoch 60/100\n",
      "804/804 [==============================] - ETA: 0s - loss: 0.3901 - accuracy: 0.8165\n",
      "Epoch 60: saving model to checkpoints_optimization6/weights.60.hdf5\n",
      "804/804 [==============================] - 4s 5ms/step - loss: 0.3901 - accuracy: 0.8165\n",
      "Epoch 61/100\n",
      "804/804 [==============================] - 4s 5ms/step - loss: 0.3901 - accuracy: 0.8169\n",
      "Epoch 62/100\n",
      "804/804 [==============================] - 4s 5ms/step - loss: 0.3893 - accuracy: 0.8171\n",
      "Epoch 63/100\n",
      "804/804 [==============================] - 4s 5ms/step - loss: 0.3898 - accuracy: 0.8167\n",
      "Epoch 64/100\n",
      "804/804 [==============================] - 4s 5ms/step - loss: 0.3896 - accuracy: 0.8165\n",
      "Epoch 65/100\n",
      "800/804 [============================>.] - ETA: 0s - loss: 0.3896 - accuracy: 0.8179\n",
      "Epoch 65: saving model to checkpoints_optimization6/weights.65.hdf5\n",
      "804/804 [==============================] - 4s 5ms/step - loss: 0.3897 - accuracy: 0.8176\n",
      "Epoch 66/100\n",
      "804/804 [==============================] - 4s 5ms/step - loss: 0.3894 - accuracy: 0.8168\n",
      "Epoch 67/100\n",
      "804/804 [==============================] - 4s 5ms/step - loss: 0.3889 - accuracy: 0.8173\n",
      "Epoch 68/100\n",
      "804/804 [==============================] - 4s 5ms/step - loss: 0.3890 - accuracy: 0.8173\n",
      "Epoch 69/100\n",
      "804/804 [==============================] - 4s 5ms/step - loss: 0.3888 - accuracy: 0.8174\n",
      "Epoch 70/100\n",
      "802/804 [============================>.] - ETA: 0s - loss: 0.3889 - accuracy: 0.8176\n",
      "Epoch 70: saving model to checkpoints_optimization6/weights.70.hdf5\n",
      "804/804 [==============================] - 4s 5ms/step - loss: 0.3890 - accuracy: 0.8175\n",
      "Epoch 71/100\n",
      "804/804 [==============================] - 4s 5ms/step - loss: 0.3885 - accuracy: 0.8177\n",
      "Epoch 72/100\n",
      "804/804 [==============================] - 4s 5ms/step - loss: 0.3889 - accuracy: 0.8178\n",
      "Epoch 73/100\n",
      "804/804 [==============================] - 4s 5ms/step - loss: 0.3884 - accuracy: 0.8178\n",
      "Epoch 74/100\n",
      "804/804 [==============================] - 4s 5ms/step - loss: 0.3884 - accuracy: 0.8174\n",
      "Epoch 75/100\n",
      "803/804 [============================>.] - ETA: 0s - loss: 0.3875 - accuracy: 0.8176\n",
      "Epoch 75: saving model to checkpoints_optimization6/weights.75.hdf5\n",
      "804/804 [==============================] - 4s 5ms/step - loss: 0.3876 - accuracy: 0.8175\n",
      "Epoch 76/100\n",
      "804/804 [==============================] - 4s 5ms/step - loss: 0.3882 - accuracy: 0.8169\n",
      "Epoch 77/100\n",
      "804/804 [==============================] - 4s 5ms/step - loss: 0.3878 - accuracy: 0.8176\n",
      "Epoch 78/100\n",
      "804/804 [==============================] - 4s 5ms/step - loss: 0.3877 - accuracy: 0.8182\n",
      "Epoch 79/100\n",
      "804/804 [==============================] - 4s 5ms/step - loss: 0.3875 - accuracy: 0.8175\n",
      "Epoch 80/100\n",
      "803/804 [============================>.] - ETA: 0s - loss: 0.3877 - accuracy: 0.8178\n",
      "Epoch 80: saving model to checkpoints_optimization6/weights.80.hdf5\n",
      "804/804 [==============================] - 4s 5ms/step - loss: 0.3877 - accuracy: 0.8178\n",
      "Epoch 81/100\n",
      "804/804 [==============================] - 4s 5ms/step - loss: 0.3879 - accuracy: 0.8176\n",
      "Epoch 82/100\n",
      "804/804 [==============================] - 4s 5ms/step - loss: 0.3874 - accuracy: 0.8179\n",
      "Epoch 83/100\n",
      "804/804 [==============================] - 4s 5ms/step - loss: 0.3875 - accuracy: 0.8175\n",
      "Epoch 84/100\n",
      "804/804 [==============================] - 4s 5ms/step - loss: 0.3873 - accuracy: 0.8177\n",
      "Epoch 85/100\n",
      "797/804 [============================>.] - ETA: 0s - loss: 0.3872 - accuracy: 0.8179\n",
      "Epoch 85: saving model to checkpoints_optimization6/weights.85.hdf5\n",
      "804/804 [==============================] - 4s 5ms/step - loss: 0.3873 - accuracy: 0.8176\n",
      "Epoch 86/100\n",
      "804/804 [==============================] - 4s 5ms/step - loss: 0.3874 - accuracy: 0.8179\n",
      "Epoch 87/100\n",
      "804/804 [==============================] - 4s 5ms/step - loss: 0.3874 - accuracy: 0.8182\n",
      "Epoch 88/100\n",
      "804/804 [==============================] - 4s 5ms/step - loss: 0.3868 - accuracy: 0.8180\n",
      "Epoch 89/100\n",
      "804/804 [==============================] - 4s 5ms/step - loss: 0.3865 - accuracy: 0.8174\n",
      "Epoch 90/100\n",
      "800/804 [============================>.] - ETA: 0s - loss: 0.3873 - accuracy: 0.8175\n",
      "Epoch 90: saving model to checkpoints_optimization6/weights.90.hdf5\n",
      "804/804 [==============================] - 4s 5ms/step - loss: 0.3868 - accuracy: 0.8178\n",
      "Epoch 91/100\n",
      "804/804 [==============================] - 4s 5ms/step - loss: 0.3864 - accuracy: 0.8176\n",
      "Epoch 92/100\n",
      "804/804 [==============================] - 4s 5ms/step - loss: 0.3865 - accuracy: 0.8180\n",
      "Epoch 93/100\n",
      "804/804 [==============================] - 4s 5ms/step - loss: 0.3866 - accuracy: 0.8180\n",
      "Epoch 94/100\n",
      "804/804 [==============================] - 4s 5ms/step - loss: 0.3861 - accuracy: 0.8178\n",
      "Epoch 95/100\n",
      "800/804 [============================>.] - ETA: 0s - loss: 0.3856 - accuracy: 0.8179\n",
      "Epoch 95: saving model to checkpoints_optimization6/weights.95.hdf5\n",
      "804/804 [==============================] - 4s 5ms/step - loss: 0.3860 - accuracy: 0.8177\n",
      "Epoch 96/100\n",
      "804/804 [==============================] - 4s 5ms/step - loss: 0.3867 - accuracy: 0.8178\n",
      "Epoch 97/100\n",
      "804/804 [==============================] - 4s 5ms/step - loss: 0.3872 - accuracy: 0.8178\n",
      "Epoch 98/100\n",
      "804/804 [==============================] - 4s 5ms/step - loss: 0.3860 - accuracy: 0.8178\n",
      "Epoch 99/100\n",
      "804/804 [==============================] - 4s 5ms/step - loss: 0.3863 - accuracy: 0.8181\n",
      "Epoch 100/100\n",
      "799/804 [============================>.] - ETA: 0s - loss: 0.3864 - accuracy: 0.8184\n",
      "Epoch 100: saving model to checkpoints_optimization6/weights.100.hdf5\n",
      "804/804 [==============================] - 4s 5ms/step - loss: 0.3864 - accuracy: 0.8185\n"
     ]
    }
   ],
   "source": [
    "# Train the model\n",
    "fit_model = nn6.fit(X_train_scaled, y_train, epochs=100, callbacks=[cp_callback])"
   ]
  },
  {
   "cell_type": "code",
   "execution_count": 62,
   "metadata": {},
   "outputs": [
    {
     "name": "stderr",
     "output_type": "stream",
     "text": [
      "2022-10-30 15:56:44.468354: I tensorflow/core/grappler/optimizers/custom_graph_optimizer_registry.cc:114] Plugin optimizer for device_type GPU is enabled.\n"
     ]
    },
    {
     "name": "stdout",
     "output_type": "stream",
     "text": [
      "268/268 - 1s - loss: 0.4844 - accuracy: 0.8002 - 907ms/epoch - 3ms/step\n",
      "Loss: 0.48437389731407166, Accuracy: 0.8002332448959351\n"
     ]
    }
   ],
   "source": [
    "# Evaluate the model using the test data\n",
    "model_loss, model_accuracy = nn6.evaluate(X_test_scaled,y_test,verbose=2)\n",
    "print(f\"Loss: {model_loss}, Accuracy: {model_accuracy}\")"
   ]
  },
  {
   "cell_type": "markdown",
   "metadata": {},
   "source": [
    "### Optimization Trial 7"
   ]
  },
  {
   "cell_type": "code",
   "execution_count": 63,
   "metadata": {},
   "outputs": [
    {
     "name": "stdout",
     "output_type": "stream",
     "text": [
      "Model: \"sequential_6\"\n",
      "_________________________________________________________________\n",
      " Layer (type)                Output Shape              Param #   \n",
      "=================================================================\n",
      " dense_19 (Dense)            (None, 1650)              1366200   \n",
      "                                                                 \n",
      " dense_20 (Dense)            (None, 1)                 1651      \n",
      "                                                                 \n",
      "=================================================================\n",
      "Total params: 1,367,851\n",
      "Trainable params: 1,367,851\n",
      "Non-trainable params: 0\n",
      "_________________________________________________________________\n"
     ]
    }
   ],
   "source": [
    "# Define the model - deep neural net, i.e., the number of input features and hidden nodes for each layer.\n",
    "number_input_features = len(X_train.columns)\n",
    "hidden_nodes_layer1 = 1650\n",
    "\n",
    "nn7 = tf.keras.models.Sequential()\n",
    "\n",
    "# First hidden layer\n",
    "nn7.add(\n",
    "    tf.keras.layers.Dense(units=hidden_nodes_layer1, input_dim=number_input_features, activation=\"relu\")\n",
    ")\n",
    "\n",
    "# Output layer\n",
    "nn7.add(tf.keras.layers.Dense(units=1, activation=\"sigmoid\"))\n",
    "\n",
    "# Check the structure of the model\n",
    "nn7.summary()"
   ]
  },
  {
   "cell_type": "code",
   "execution_count": 64,
   "metadata": {},
   "outputs": [],
   "source": [
    "# Import checkpoint dependencies\n",
    "import os\n",
    "from tensorflow.keras.callbacks import ModelCheckpoint\n",
    "\n",
    "# Define the checkpoint path and filenames\n",
    "os.makedirs(\"checkpoints_optimization7/\", exist_ok=True)\n",
    "checkpoint_path = \"checkpoints_optimization7/weights.{epoch:02d}.hdf5\""
   ]
  },
  {
   "cell_type": "code",
   "execution_count": 65,
   "metadata": {},
   "outputs": [
    {
     "name": "stdout",
     "output_type": "stream",
     "text": [
      "WARNING:tensorflow:`period` argument is deprecated. Please use `save_freq` to specify the frequency in number of batches seen.\n"
     ]
    }
   ],
   "source": [
    "# Compile the model\n",
    "nn7.compile(loss=\"binary_crossentropy\", optimizer=\"adam\", metrics=[\"accuracy\"])\n",
    "\n",
    "# Create a callback that saves the model's weights every 5 epochs\n",
    "cp_callback = ModelCheckpoint(\n",
    "    filepath=checkpoint_path,\n",
    "    verbose=1,\n",
    "    save_weights_only=True,\n",
    "    save_freq='epoch',\n",
    "    period=5\n",
    ")"
   ]
  },
  {
   "cell_type": "code",
   "execution_count": 66,
   "metadata": {
    "collapsed": true,
    "jupyter": {
     "outputs_hidden": true
    }
   },
   "outputs": [
    {
     "name": "stdout",
     "output_type": "stream",
     "text": [
      "Epoch 1/100\n",
      "  8/804 [..............................] - ETA: 6s - loss: 0.6475 - accuracy: 0.6484  "
     ]
    },
    {
     "name": "stderr",
     "output_type": "stream",
     "text": [
      "2022-10-30 15:56:45.774700: I tensorflow/core/grappler/optimizers/custom_graph_optimizer_registry.cc:114] Plugin optimizer for device_type GPU is enabled.\n"
     ]
    },
    {
     "name": "stdout",
     "output_type": "stream",
     "text": [
      "804/804 [==============================] - 5s 6ms/step - loss: 0.5639 - accuracy: 0.7805\n",
      "Epoch 2/100\n",
      "804/804 [==============================] - 5s 6ms/step - loss: 0.4529 - accuracy: 0.7994\n",
      "Epoch 3/100\n",
      "804/804 [==============================] - 5s 6ms/step - loss: 0.4452 - accuracy: 0.8006\n",
      "Epoch 4/100\n",
      "804/804 [==============================] - 5s 6ms/step - loss: 0.4404 - accuracy: 0.8018\n",
      "Epoch 5/100\n",
      "803/804 [============================>.] - ETA: 0s - loss: 0.4401 - accuracy: 0.8016\n",
      "Epoch 5: saving model to checkpoints_optimization7/weights.05.hdf5\n",
      "804/804 [==============================] - 5s 6ms/step - loss: 0.4400 - accuracy: 0.8017\n",
      "Epoch 6/100\n",
      "804/804 [==============================] - 5s 6ms/step - loss: 0.4561 - accuracy: 0.8016\n",
      "Epoch 7/100\n",
      "804/804 [==============================] - 5s 6ms/step - loss: 0.4379 - accuracy: 0.8037\n",
      "Epoch 8/100\n",
      "804/804 [==============================] - 5s 6ms/step - loss: 0.4510 - accuracy: 0.8033\n",
      "Epoch 9/100\n",
      "804/804 [==============================] - 5s 6ms/step - loss: 0.4419 - accuracy: 0.8036\n",
      "Epoch 10/100\n",
      "804/804 [==============================] - ETA: 0s - loss: 0.4456 - accuracy: 0.8029\n",
      "Epoch 10: saving model to checkpoints_optimization7/weights.10.hdf5\n",
      "804/804 [==============================] - 5s 6ms/step - loss: 0.4456 - accuracy: 0.8029\n",
      "Epoch 11/100\n",
      "804/804 [==============================] - 5s 6ms/step - loss: 0.4406 - accuracy: 0.8048\n",
      "Epoch 12/100\n",
      "804/804 [==============================] - 5s 6ms/step - loss: 0.4343 - accuracy: 0.8062\n",
      "Epoch 13/100\n",
      "804/804 [==============================] - 5s 6ms/step - loss: 0.4355 - accuracy: 0.8059\n",
      "Epoch 14/100\n",
      "804/804 [==============================] - 5s 6ms/step - loss: 0.4410 - accuracy: 0.8054\n",
      "Epoch 15/100\n",
      "797/804 [============================>.] - ETA: 0s - loss: 0.4482 - accuracy: 0.8049\n",
      "Epoch 15: saving model to checkpoints_optimization7/weights.15.hdf5\n",
      "804/804 [==============================] - 5s 6ms/step - loss: 0.4487 - accuracy: 0.8046\n",
      "Epoch 16/100\n",
      "804/804 [==============================] - 5s 6ms/step - loss: 0.4312 - accuracy: 0.8071\n",
      "Epoch 17/100\n",
      "804/804 [==============================] - 5s 6ms/step - loss: 0.4305 - accuracy: 0.8066\n",
      "Epoch 18/100\n",
      "804/804 [==============================] - 5s 6ms/step - loss: 0.4527 - accuracy: 0.8068\n",
      "Epoch 19/100\n",
      "804/804 [==============================] - 5s 6ms/step - loss: 0.4577 - accuracy: 0.8072\n",
      "Epoch 20/100\n",
      "796/804 [============================>.] - ETA: 0s - loss: 0.4970 - accuracy: 0.8049\n",
      "Epoch 20: saving model to checkpoints_optimization7/weights.20.hdf5\n",
      "804/804 [==============================] - 5s 6ms/step - loss: 0.4989 - accuracy: 0.8051\n",
      "Epoch 21/100\n",
      "804/804 [==============================] - 5s 6ms/step - loss: 0.4574 - accuracy: 0.8091\n",
      "Epoch 22/100\n",
      "804/804 [==============================] - 5s 6ms/step - loss: 0.4495 - accuracy: 0.8096\n",
      "Epoch 23/100\n",
      "804/804 [==============================] - 5s 6ms/step - loss: 0.4236 - accuracy: 0.8103\n",
      "Epoch 24/100\n",
      "804/804 [==============================] - 5s 6ms/step - loss: 0.4554 - accuracy: 0.8084\n",
      "Epoch 25/100\n",
      "801/804 [============================>.] - ETA: 0s - loss: 0.4642 - accuracy: 0.8093\n",
      "Epoch 25: saving model to checkpoints_optimization7/weights.25.hdf5\n",
      "804/804 [==============================] - 5s 6ms/step - loss: 0.4640 - accuracy: 0.8092\n",
      "Epoch 26/100\n",
      "804/804 [==============================] - 5s 6ms/step - loss: 0.4267 - accuracy: 0.8104\n",
      "Epoch 27/100\n",
      "804/804 [==============================] - 5s 6ms/step - loss: 0.4585 - accuracy: 0.8105\n",
      "Epoch 28/100\n",
      "804/804 [==============================] - 5s 6ms/step - loss: 0.4212 - accuracy: 0.8114\n",
      "Epoch 29/100\n",
      "804/804 [==============================] - 5s 6ms/step - loss: 0.4319 - accuracy: 0.8120\n",
      "Epoch 30/100\n",
      "804/804 [==============================] - ETA: 0s - loss: 0.4690 - accuracy: 0.8094\n",
      "Epoch 30: saving model to checkpoints_optimization7/weights.30.hdf5\n",
      "804/804 [==============================] - 5s 6ms/step - loss: 0.4690 - accuracy: 0.8094\n",
      "Epoch 31/100\n",
      "804/804 [==============================] - 5s 6ms/step - loss: 0.4328 - accuracy: 0.8117\n",
      "Epoch 32/100\n",
      "804/804 [==============================] - 5s 6ms/step - loss: 0.5470 - accuracy: 0.8092\n",
      "Epoch 33/100\n",
      "804/804 [==============================] - 5s 6ms/step - loss: 0.4535 - accuracy: 0.8104\n",
      "Epoch 34/100\n",
      "804/804 [==============================] - 5s 6ms/step - loss: 0.4519 - accuracy: 0.8110\n",
      "Epoch 35/100\n",
      "797/804 [============================>.] - ETA: 0s - loss: 0.5117 - accuracy: 0.8112\n",
      "Epoch 35: saving model to checkpoints_optimization7/weights.35.hdf5\n",
      "804/804 [==============================] - 5s 6ms/step - loss: 0.5126 - accuracy: 0.8111\n",
      "Epoch 36/100\n",
      "804/804 [==============================] - 5s 6ms/step - loss: 0.4433 - accuracy: 0.8116\n",
      "Epoch 37/100\n",
      "804/804 [==============================] - 5s 6ms/step - loss: 0.4197 - accuracy: 0.8129\n",
      "Epoch 38/100\n",
      "804/804 [==============================] - 5s 6ms/step - loss: 0.8299 - accuracy: 0.8086\n",
      "Epoch 39/100\n",
      "804/804 [==============================] - 5s 6ms/step - loss: 0.4666 - accuracy: 0.8112\n",
      "Epoch 40/100\n",
      "802/804 [============================>.] - ETA: 0s - loss: 0.4357 - accuracy: 0.8117\n",
      "Epoch 40: saving model to checkpoints_optimization7/weights.40.hdf5\n",
      "804/804 [==============================] - 5s 6ms/step - loss: 0.4355 - accuracy: 0.8117\n",
      "Epoch 41/100\n",
      "804/804 [==============================] - 5s 6ms/step - loss: 0.6167 - accuracy: 0.8118\n",
      "Epoch 42/100\n",
      "804/804 [==============================] - 5s 6ms/step - loss: 0.4427 - accuracy: 0.8118\n",
      "Epoch 43/100\n",
      "804/804 [==============================] - 5s 6ms/step - loss: 0.4215 - accuracy: 0.8127\n",
      "Epoch 44/100\n",
      "804/804 [==============================] - 5s 6ms/step - loss: 0.4933 - accuracy: 0.8124\n",
      "Epoch 45/100\n",
      "804/804 [==============================] - ETA: 0s - loss: 0.5843 - accuracy: 0.8111\n",
      "Epoch 45: saving model to checkpoints_optimization7/weights.45.hdf5\n",
      "804/804 [==============================] - 5s 6ms/step - loss: 0.5843 - accuracy: 0.8111\n",
      "Epoch 46/100\n",
      "804/804 [==============================] - 5s 6ms/step - loss: 0.5735 - accuracy: 0.8099\n",
      "Epoch 47/100\n",
      "804/804 [==============================] - 5s 6ms/step - loss: 0.4497 - accuracy: 0.8125\n",
      "Epoch 48/100\n",
      "804/804 [==============================] - 5s 6ms/step - loss: 0.4286 - accuracy: 0.8134\n",
      "Epoch 49/100\n",
      "804/804 [==============================] - 5s 6ms/step - loss: 0.7205 - accuracy: 0.8092\n",
      "Epoch 50/100\n",
      "803/804 [============================>.] - ETA: 0s - loss: 0.4872 - accuracy: 0.8123\n",
      "Epoch 50: saving model to checkpoints_optimization7/weights.50.hdf5\n",
      "804/804 [==============================] - 5s 6ms/step - loss: 0.4872 - accuracy: 0.8124\n",
      "Epoch 51/100\n",
      "804/804 [==============================] - 5s 7ms/step - loss: 0.7045 - accuracy: 0.8099\n",
      "Epoch 52/100\n",
      "804/804 [==============================] - 5s 6ms/step - loss: 0.4863 - accuracy: 0.8115\n",
      "Epoch 53/100\n",
      "804/804 [==============================] - 5s 6ms/step - loss: 0.5192 - accuracy: 0.8126\n",
      "Epoch 54/100\n",
      "804/804 [==============================] - 5s 6ms/step - loss: 0.4429 - accuracy: 0.8135\n",
      "Epoch 55/100\n",
      "802/804 [============================>.] - ETA: 0s - loss: 0.4300 - accuracy: 0.8139\n",
      "Epoch 55: saving model to checkpoints_optimization7/weights.55.hdf5\n",
      "804/804 [==============================] - 5s 6ms/step - loss: 0.4299 - accuracy: 0.8141\n",
      "Epoch 56/100\n",
      "804/804 [==============================] - 5s 6ms/step - loss: 0.4231 - accuracy: 0.8145\n",
      "Epoch 57/100\n",
      "804/804 [==============================] - 5s 6ms/step - loss: 0.4593 - accuracy: 0.8138\n",
      "Epoch 58/100\n",
      "804/804 [==============================] - 5s 6ms/step - loss: 0.6117 - accuracy: 0.8131\n",
      "Epoch 59/100\n",
      "804/804 [==============================] - 5s 6ms/step - loss: 0.7972 - accuracy: 0.8093\n",
      "Epoch 60/100\n",
      "804/804 [==============================] - ETA: 0s - loss: 0.7736 - accuracy: 0.8091\n",
      "Epoch 60: saving model to checkpoints_optimization7/weights.60.hdf5\n",
      "804/804 [==============================] - 5s 6ms/step - loss: 0.7736 - accuracy: 0.8091\n",
      "Epoch 61/100\n",
      "804/804 [==============================] - 5s 6ms/step - loss: 0.4887 - accuracy: 0.8127\n",
      "Epoch 62/100\n",
      "804/804 [==============================] - 5s 6ms/step - loss: 0.4931 - accuracy: 0.8131\n",
      "Epoch 63/100\n",
      "804/804 [==============================] - 5s 6ms/step - loss: 0.8817 - accuracy: 0.8117\n",
      "Epoch 64/100\n",
      "804/804 [==============================] - 5s 6ms/step - loss: 0.5574 - accuracy: 0.8129\n",
      "Epoch 65/100\n",
      "801/804 [============================>.] - ETA: 0s - loss: 0.4534 - accuracy: 0.8132\n",
      "Epoch 65: saving model to checkpoints_optimization7/weights.65.hdf5\n",
      "804/804 [==============================] - 5s 6ms/step - loss: 0.4535 - accuracy: 0.8134\n",
      "Epoch 66/100\n",
      "804/804 [==============================] - 5s 6ms/step - loss: 0.4428 - accuracy: 0.8145\n",
      "Epoch 67/100\n",
      "804/804 [==============================] - 5s 6ms/step - loss: 0.4396 - accuracy: 0.8148\n",
      "Epoch 68/100\n",
      "804/804 [==============================] - 5s 6ms/step - loss: 0.6453 - accuracy: 0.8128\n",
      "Epoch 69/100\n",
      "804/804 [==============================] - 5s 6ms/step - loss: 0.5126 - accuracy: 0.8132\n",
      "Epoch 70/100\n",
      "803/804 [============================>.] - ETA: 0s - loss: 0.4811 - accuracy: 0.8132\n",
      "Epoch 70: saving model to checkpoints_optimization7/weights.70.hdf5\n",
      "804/804 [==============================] - 5s 6ms/step - loss: 0.4810 - accuracy: 0.8133\n",
      "Epoch 71/100\n",
      "804/804 [==============================] - 5s 6ms/step - loss: 0.5346 - accuracy: 0.8130\n",
      "Epoch 72/100\n",
      "804/804 [==============================] - 5s 6ms/step - loss: 0.9329 - accuracy: 0.8094\n",
      "Epoch 73/100\n",
      "804/804 [==============================] - 6s 7ms/step - loss: 1.0079 - accuracy: 0.8087\n",
      "Epoch 74/100\n",
      "804/804 [==============================] - 5s 6ms/step - loss: 0.5844 - accuracy: 0.8132\n",
      "Epoch 75/100\n",
      "804/804 [==============================] - ETA: 0s - loss: 0.6012 - accuracy: 0.8124\n",
      "Epoch 75: saving model to checkpoints_optimization7/weights.75.hdf5\n",
      "804/804 [==============================] - 5s 6ms/step - loss: 0.6012 - accuracy: 0.8124\n",
      "Epoch 76/100\n",
      "804/804 [==============================] - 5s 6ms/step - loss: 0.6607 - accuracy: 0.8115\n",
      "Epoch 77/100\n",
      "804/804 [==============================] - 5s 6ms/step - loss: 0.4865 - accuracy: 0.8136\n",
      "Epoch 78/100\n",
      "804/804 [==============================] - 5s 6ms/step - loss: 0.4772 - accuracy: 0.8132\n",
      "Epoch 79/100\n",
      "804/804 [==============================] - 5s 6ms/step - loss: 0.7297 - accuracy: 0.8124\n",
      "Epoch 80/100\n",
      "798/804 [============================>.] - ETA: 0s - loss: 0.5744 - accuracy: 0.8120\n",
      "Epoch 80: saving model to checkpoints_optimization7/weights.80.hdf5\n",
      "804/804 [==============================] - 5s 6ms/step - loss: 0.5816 - accuracy: 0.8115\n",
      "Epoch 81/100\n",
      "804/804 [==============================] - 5s 6ms/step - loss: 0.5897 - accuracy: 0.8123\n",
      "Epoch 82/100\n",
      "804/804 [==============================] - 5s 6ms/step - loss: 0.7035 - accuracy: 0.8120\n",
      "Epoch 83/100\n",
      "804/804 [==============================] - 5s 6ms/step - loss: 0.5403 - accuracy: 0.8129\n",
      "Epoch 84/100\n",
      "804/804 [==============================] - 5s 6ms/step - loss: 0.5371 - accuracy: 0.8136\n",
      "Epoch 85/100\n",
      "804/804 [==============================] - ETA: 0s - loss: 0.4709 - accuracy: 0.8137\n",
      "Epoch 85: saving model to checkpoints_optimization7/weights.85.hdf5\n",
      "804/804 [==============================] - 5s 6ms/step - loss: 0.4709 - accuracy: 0.8137\n",
      "Epoch 86/100\n",
      "804/804 [==============================] - 5s 6ms/step - loss: 0.5654 - accuracy: 0.8146\n",
      "Epoch 87/100\n",
      "804/804 [==============================] - 5s 6ms/step - loss: 0.4813 - accuracy: 0.8139\n",
      "Epoch 88/100\n",
      "804/804 [==============================] - 5s 6ms/step - loss: 0.4697 - accuracy: 0.8150\n",
      "Epoch 89/100\n",
      "804/804 [==============================] - 5s 6ms/step - loss: 0.4880 - accuracy: 0.8140\n",
      "Epoch 90/100\n",
      "803/804 [============================>.] - ETA: 0s - loss: 0.5438 - accuracy: 0.8143\n",
      "Epoch 90: saving model to checkpoints_optimization7/weights.90.hdf5\n",
      "804/804 [==============================] - 5s 6ms/step - loss: 0.5444 - accuracy: 0.8142\n",
      "Epoch 91/100\n",
      "804/804 [==============================] - 5s 6ms/step - loss: 0.5056 - accuracy: 0.8132\n",
      "Epoch 92/100\n",
      "804/804 [==============================] - 5s 6ms/step - loss: 0.5972 - accuracy: 0.8126\n",
      "Epoch 93/100\n",
      "804/804 [==============================] - 5s 6ms/step - loss: 0.8308 - accuracy: 0.8108\n",
      "Epoch 94/100\n",
      "804/804 [==============================] - 5s 6ms/step - loss: 0.5280 - accuracy: 0.8119\n",
      "Epoch 95/100\n",
      "804/804 [==============================] - ETA: 0s - loss: 0.4793 - accuracy: 0.8139\n",
      "Epoch 95: saving model to checkpoints_optimization7/weights.95.hdf5\n",
      "804/804 [==============================] - 5s 6ms/step - loss: 0.4793 - accuracy: 0.8139\n",
      "Epoch 96/100\n",
      "804/804 [==============================] - 5s 6ms/step - loss: 0.5189 - accuracy: 0.8125\n",
      "Epoch 97/100\n",
      "804/804 [==============================] - 5s 6ms/step - loss: 0.4617 - accuracy: 0.8150\n",
      "Epoch 98/100\n",
      "804/804 [==============================] - 5s 6ms/step - loss: 0.7199 - accuracy: 0.8120\n",
      "Epoch 99/100\n",
      "804/804 [==============================] - 5s 6ms/step - loss: 0.5995 - accuracy: 0.8107\n",
      "Epoch 100/100\n",
      "802/804 [============================>.] - ETA: 0s - loss: 0.5037 - accuracy: 0.8132\n",
      "Epoch 100: saving model to checkpoints_optimization7/weights.100.hdf5\n",
      "804/804 [==============================] - 5s 6ms/step - loss: 0.5033 - accuracy: 0.8132\n"
     ]
    }
   ],
   "source": [
    "# Train the model\n",
    "fit_model = nn7.fit(X_train_scaled, y_train, epochs=100, callbacks=[cp_callback])"
   ]
  },
  {
   "cell_type": "code",
   "execution_count": 67,
   "metadata": {},
   "outputs": [
    {
     "name": "stderr",
     "output_type": "stream",
     "text": [
      "2022-10-30 16:05:05.991700: I tensorflow/core/grappler/optimizers/custom_graph_optimizer_registry.cc:114] Plugin optimizer for device_type GPU is enabled.\n"
     ]
    },
    {
     "name": "stdout",
     "output_type": "stream",
     "text": [
      "268/268 - 1s - loss: 4.9360 - accuracy: 0.7967 - 842ms/epoch - 3ms/step\n",
      "Loss: 4.9359917640686035, Accuracy: 0.7967346906661987\n"
     ]
    }
   ],
   "source": [
    "# Evaluate the model using the test data\n",
    "model_loss, model_accuracy = nn7.evaluate(X_test_scaled,y_test,verbose=2)\n",
    "print(f\"Loss: {model_loss}, Accuracy: {model_accuracy}\")"
   ]
  },
  {
   "cell_type": "code",
   "execution_count": 69,
   "metadata": {},
   "outputs": [],
   "source": [
    "# Export our model to HDF5 file\n",
    "nn4.save(\"AlphabetSoupCharity_Optimization.h5\")"
   ]
  },
  {
   "cell_type": "code",
   "execution_count": null,
   "metadata": {},
   "outputs": [],
   "source": []
  }
 ],
 "metadata": {
  "kernelspec": {
   "display_name": "tf_env",
   "language": "python",
   "name": "tf_env"
  },
  "language_info": {
   "codemirror_mode": {
    "name": "ipython",
    "version": 3
   },
   "file_extension": ".py",
   "mimetype": "text/x-python",
   "name": "python",
   "nbconvert_exporter": "python",
   "pygments_lexer": "ipython3",
   "version": "3.9.12"
  }
 },
 "nbformat": 4,
 "nbformat_minor": 4
}
